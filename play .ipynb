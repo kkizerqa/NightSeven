{
 "cells": [
  {
   "cell_type": "markdown",
   "metadata": {},
   "source": [
    "# HL7 to pretty printed JSON "
   ]
  },
  {
   "cell_type": "markdown",
   "metadata": {},
   "source": [
    "importing all the needed stuff"
   ]
  },
  {
   "cell_type": "code",
   "execution_count": 145,
   "metadata": {
    "collapsed": false
   },
   "outputs": [],
   "source": [
    "import pandas as pd\n",
    "import numpy as np \n",
    "import json "
   ]
  },
  {
   "cell_type": "markdown",
   "metadata": {},
   "source": [
    "opening the HL7 file as a text file"
   ]
  },
  {
   "cell_type": "code",
   "execution_count": 134,
   "metadata": {
    "collapsed": false
   },
   "outputs": [],
   "source": [
    "guess = open('\\Users\\Bob\\AA_notebooks\\msg1.txt', 'r').read()  "
   ]
  },
  {
   "cell_type": "markdown",
   "metadata": {},
   "source": [
    "giving a name to the list of string items that have been split up by the repeating character \\n"
   ]
  },
  {
   "cell_type": "code",
   "execution_count": 135,
   "metadata": {
    "collapsed": false
   },
   "outputs": [],
   "source": [
    "T1 = guess.split('\\n')   "
   ]
  },
  {
   "cell_type": "markdown",
   "metadata": {},
   "source": [
    "making a new list for the existing list and creating new items by splitting by the | character, using the commands split and append, split seperates into new parts and append slaps the new created list on "
   ]
  },
  {
   "cell_type": "code",
   "execution_count": 136,
   "metadata": {
    "collapsed": false
   },
   "outputs": [],
   "source": [
    "# creating a list from existing list, but splitting the new list by |, the command split strips it off and append slaps in on. \n",
    "field_list = [] \n",
    "for row in T1: \n",
    "    fields = row.split(\"|\")\n",
    "    field_list.append(fields) \n"
   ]
  },
  {
   "cell_type": "markdown",
   "metadata": {},
   "source": [
    "creating a dictionary from the list created above"
   ]
  },
  {
   "cell_type": "code",
   "execution_count": 139,
   "metadata": {
    "collapsed": false
   },
   "outputs": [],
   "source": [
    "# list of dictionries with each segment as a dictionary\n",
    "dict_list = []\n",
    "for fields in field_list:\n",
    "    dict_name = {}\n",
    "    key = fields[0]\n",
    "    value = fields[1:]\n",
    "    dict_name[key] = value\n",
    "    dict_list.append(dict_name)"
   ]
  },
  {
   "cell_type": "markdown",
   "metadata": {},
   "source": [
    "dumping into JSON format and printing "
   ]
  },
  {
   "cell_type": "code",
   "execution_count": 143,
   "metadata": {
    "collapsed": false
   },
   "outputs": [
    {
     "name": "stdout",
     "output_type": "stream",
     "text": [
      "[\n",
      "  {\n",
      "    \"MSH\": [\n",
      "      \"^~\\\\&\", \n",
      "      \"\", \n",
      "      \"ABCDE\", \n",
      "      \"\", \n",
      "      \"\", \n",
      "      \"201507230021\", \n",
      "      \"\", \n",
      "      \"ADT^A08\", \n",
      "      \"CAGTADM.1.10532994\", \n",
      "      \"P\", \n",
      "      \"2.1\"\n",
      "    ]\n",
      "  }, \n",
      "  {\n",
      "    \"EVN\": [\n",
      "      \"A08\", \n",
      "      \"201507230021\", \n",
      "      \"\", \n",
      "      \"\", \n",
      "      \"R.CA.NAH^HALL^NANCY^A^^^\"\n",
      "    ]\n",
      "  }, \n",
      "  {\n",
      "    \"PID\": [\n",
      "      \"1\", \n",
      "      \"\", \n",
      "      \"V000042610\", \n",
      "      \"M88604\", \n",
      "      \"BARTON^CLINTON^FRANCIS^^^\", \n",
      "      \"\", \n",
      "      \"19510121\", \n",
      "      \"M\", \n",
      "      \"^^^^^\", \n",
      "      \"W\", \n",
      "      \"9 E CARTER ST APT A^^CARTERSVILLE^GA^30120^USA^^^BARTOW\", \n",
      "      \"\", \n",
      "      \"(000)000-0000\", \n",
      "      \"(000)000-0000\", \n",
      "      \"ENG\", \n",
      "      \"D\", \n",
      "      \"OTH\", \n",
      "      \"V07016760770\", \n",
      "      \"000-00-0000\"\n",
      "    ]\n",
      "  }, \n",
      "  {\n",
      "    \"NK1\": [\n",
      "      \"1\", \n",
      "      \"POSTEN^BOBBY^^^^\", \n",
      "      \"OT\", \n",
      "      \"102 S.H.E.I.L.D Floating Island^^CARTERSVILLE^GA^30120^USA^^^BARTOW\", \n",
      "      \"(000)000-0000\", \n",
      "      \"(000)000-0000\"\n",
      "    ]\n",
      "  }, \n",
      "  {\n",
      "    \"NK1\": [\n",
      "      \"2\", \n",
      "      \"POSTEN^BOBBY^^^^\", \n",
      "      \"OT\", \n",
      "      \"102 S.H.E.I.L.D Floating Island^^CARTERSVILLE^GA^30120^USA^^^BARTOW\", \n",
      "      \"(000)000-0000\", \n",
      "      \"(000)000-0000\"\n",
      "    ]\n",
      "  }, \n",
      "  {\n",
      "    \"PV1\": [\n",
      "      \"1\", \n",
      "      \"E\", \n",
      "      \"V.ER^^\", \n",
      "      \"EM\", \n",
      "      \"\", \n",
      "      \"\", \n",
      "      \"WILSON^Wade^Deadpool^^^MD\", \n",
      "      \".SELF^Referred^Self^^^^\", \n",
      "      \"MARKO^Cain^Bighelmet^^^MD\", \n",
      "      \"ER\", \n",
      "      \"\", \n",
      "      \"\", \n",
      "      \"\", \n",
      "      \"PR\", \n",
      "      \"WI\", \n",
      "      \"N\", \n",
      "      \"\", \n",
      "      \"ER\", \n",
      "      \"\", \n",
      "      \"03\", \n",
      "      \"\", \n",
      "      \"\", \n",
      "      \"\", \n",
      "      \"\", \n",
      "      \"\", \n",
      "      \"\", \n",
      "      \"\", \n",
      "      \"\", \n",
      "      \"\", \n",
      "      \"\", \n",
      "      \"\", \n",
      "      \"\", \n",
      "      \"\", \n",
      "      \"\", \n",
      "      \"\", \n",
      "      \"\", \n",
      "      \"\", \n",
      "      \"\", \n",
      "      \"ABCDE^\", \n",
      "      \"back pain\", \n",
      "      \"REG\", \n",
      "      \"\", \n",
      "      \"\", \n",
      "      \"201507222358\"\n",
      "    ]\n",
      "  }, \n",
      "  {\n",
      "    \"AL1\": [\n",
      "      \"1\", \n",
      "      \"DA\", \n",
      "      \"F000004181^tramadol HCl^From ULTRAM\", \n",
      "      \"MO\", \n",
      "      \"JERKING\", \n",
      "      \"20140525\"\n",
      "    ]\n",
      "  }, \n",
      "  {\n",
      "    \"ACC\": [\n",
      "      \"20150722^\", \n",
      "      \"11\"\n",
      "    ]\n",
      "  }, \n",
      "  {\n",
      "    \"GT1\": [\n",
      "      \"1\", \n",
      "      \"\", \n",
      "      \"BARTON^CLINTON^FRANCIS^^^\", \n",
      "      \"\", \n",
      "      \"9 S.H.E.I.L.D Training Facility^^CARTERSVILLE^GA^30120^USA^^^BARTOW\", \n",
      "      \"(000)000-0000\", \n",
      "      \"\", \n",
      "      \"19510121\", \n",
      "      \"M\", \n",
      "      \"\", \n",
      "      \"SA\", \n",
      "      \"000-00-0000\", \n",
      "      \"\", \n",
      "      \"\", \n",
      "      \"DISABLED\", \n",
      "      \"DISABLED^^DISABLED^GA^30092\", \n",
      "      \"(000)000-0000\", \n",
      "      \"\", \n",
      "      \"\", \n",
      "      \"N\"\n",
      "    ]\n",
      "  }, \n",
      "  {\n",
      "    \"GT1\": [\n",
      "      \"2\", \n",
      "      \"\", \n",
      "      \"^^^^^\", \n",
      "      \"\", \n",
      "      \"^^^^^^^^\", \n",
      "      \"\", \n",
      "      \"\", \n",
      "      \"\", \n",
      "      \"\", \n",
      "      \"\", \n",
      "      \"\", \n",
      "      \"\", \n",
      "      \"\", \n",
      "      \"\", \n",
      "      \"\", \n",
      "      \"^^^^\"\n",
      "    ]\n",
      "  }, \n",
      "  {\n",
      "    \"IN1\": [\n",
      "      \"1\", \n",
      "      \"MDGA001\", \n",
      "      \"\", \n",
      "      \"MEDICAID GA\", \n",
      "      \"PO BOX 5000^^MCRAE^GA^31055^USA\", \n",
      "      \"\", \n",
      "      \"(000)000-0000\", \n",
      "      \"\", \n",
      "      \"MEDICAID\", \n",
      "      \"\", \n",
      "      \"\", \n",
      "      \"20150722\", \n",
      "      \"\", \n",
      "      \"\", \n",
      "      \"\", \n",
      "      \"JACOBS^DANNY^S^^^\", \n",
      "      \"01\", \n",
      "      \"19510121\", \n",
      "      \"\", \n",
      "      \"\", \n",
      "      \"\", \n",
      "      \"\", \n",
      "      \"\", \n",
      "      \"\", \n",
      "      \"\", \n",
      "      \"\", \n",
      "      \"\", \n",
      "      \"\", \n",
      "      \"\", \n",
      "      \"\", \n",
      "      \"\", \n",
      "      \"\", \n",
      "      \"\", \n",
      "      \"\", \n",
      "      \"\", \n",
      "      \"111441591411\", \n",
      "      \"\", \n",
      "      \"\", \n",
      "      \"\", \n",
      "      \"\", \n",
      "      \"\", \n",
      "      \"\", \n",
      "      \"M\"\n",
      "    ]\n",
      "  }, \n",
      "  {\n",
      "    \"ZMR\": [\n",
      "      \"1\", \n",
      "      \"GH00426357~IL00806247~M000103533\"\n",
      "    ]\n",
      "  }, \n",
      "  {\n",
      "    \"ZCD\": [\n",
      "      \"1\", \n",
      "      \"ETHNICITY^ETHNICITY^2\"\n",
      "    ]\n",
      "  }, \n",
      "  {\n",
      "    \"ZCD\": [\n",
      "      \"2\", \n",
      "      \"Z.ADDLRACE^ADDITIONAL RACE^W\"\n",
      "    ]\n",
      "  }, \n",
      "  {\n",
      "    \"ZIN\": [\n",
      "      \"1\", \n",
      "      \"SP\", \n",
      "      \"GHP\", \n",
      "      \"Y\", \n",
      "      \"20150723\", \n",
      "      \"PPI\", \n",
      "      \"\", \n",
      "      \"N\", \n",
      "      \"\", \n",
      "      \"\", \n",
      "      \"\", \n",
      "      \"\", \n",
      "      \"MDGA001\"\n",
      "    ]\n",
      "  }, \n",
      "  {\n",
      "    \"ZCS\": [\n",
      "      \"DIS\", \n",
      "      \"DISABLED^^DISABLED^GA^30092\", \n",
      "      \"N\", \n",
      "      \"NONE\", \n",
      "      \"NONE\", \n",
      "      \"08625\"\n",
      "    ]\n",
      "  }, \n",
      "  {\n",
      "    \"\": []\n",
      "  }\n",
      "]\n"
     ]
    }
   ],
   "source": [
    "json_dump = json.dumps(dict_list, indent=2) \n",
    "print json_dump "
   ]
  },
  {
   "cell_type": "code",
   "execution_count": 160,
   "metadata": {
    "collapsed": true
   },
   "outputs": [],
   "source": [
    "F1 = open('\\Users\\Bob\\AA_notebooks\\msg1.txt', mode = 'U')\n",
    "F2 = open('\\Users\\Bob\\AA_notebooks\\msg2.txt', mode = 'U')\n",
    "F3 = open('\\Users\\Bob\\AA_notebooks\\msg3.txt', mode = 'U')"
   ]
  },
  {
   "cell_type": "markdown",
   "metadata": {},
   "source": [
    "so I worked as far as I could and then I consulted genius Mary, and worked through her code.  "
   ]
  },
  {
   "cell_type": "code",
   "execution_count": 161,
   "metadata": {
    "collapsed": false
   },
   "outputs": [],
   "source": [
    "# making a function \n",
    "def HL7_converter(file): \n",
    "    seg_list = [] # making empty list\n",
    "    mk_curly = '{' + 'F:' # making my text file be included in curly brackets\n",
    "    for row in file:\n",
    "        seg = row.strip('\\n')# splitting up massive string by \\n character\n",
    "        seg_list.append(seg) # making the list contain pieces broken by \\n\n",
    "        for seg in seg_list:\n",
    "            seg_name = seg[0:3] #making each segement equal to the first three letters \n",
    "            field = [] # making a new list\n",
    "            field = seg.split(\"|\") # making the above list equal to our segments broken into pieces by the | character\n",
    "        for index, spot in enumerate(field):\n",
    "            if(spot != '' and spot != '^~\\&'):\n",
    "                if '^' in spot:\n",
    "                    components = []\n",
    "                    components = spot.split('^')\n",
    "                    for index2, component in enumerate(components):\n",
    "                        if(component != ''):\n",
    "                            if '~' in component:\n",
    "                                subcomponents = []\n",
    "                                subcomponents = components.split('~')\n",
    "                                for index3, subcomponent in enumerate(subcomponents):\n",
    "                                    if(subcomponent != ''):\n",
    "                                         mk_curly = mk_curly + '{' + seg_name + str(index + 1) + '.' + str(index2 + 1) + '.' + str(index3 + 1) + ':' + subcomponent + '}'\n",
    "                        else:\n",
    "                            mk_curly = mk_curly + '{' + seg_name + str(index + 1) + '.' + str(index2 +1) + ':' + component+ '}'\n",
    "                else:\n",
    "                    mk_curly = mk_curly + '{' + seg_name + str(index +1) + ':' + spot + '}'\n",
    "    mk_curly = mk_curly + '}'\n",
    "    print mk_curly  \n",
    "    \n"
   ]
  },
  {
   "cell_type": "code",
   "execution_count": 162,
   "metadata": {
    "collapsed": false
   },
   "outputs": [
    {
     "name": "stdout",
     "output_type": "stream",
     "text": [
      "{F:{MSH1:MSH}{MSH4:ABCDE}{MSH7:201507230021}{MSH10:CAGTADM.1.10532994}{MSH11:P}{MSH12:2.1}{EVN1:EVN}{EVN2:A08}{EVN3:201507230021}{EVN6.5:}{EVN6.6:}{EVN6.7:}{PID1:PID}{PID2:1}{PID4:V000042610}{PID5:M88604}{PID6.4:}{PID6.5:}{PID6.6:}{PID8:19510121}{PID9:M}{PID10.1:}{PID10.2:}{PID10.3:}{PID10.4:}{PID10.5:}{PID10.6:}{PID11:W}{PID12.2:}{PID12.7:}{PID12.8:}{PID14:(000)000-0000}{PID15:(000)000-0000}{PID16:ENG}{PID17:D}{PID18:OTH}{PID19:V07016760770}{PID20:000-00-0000}{NK11:NK1}{NK12:1}{NK13.3:}{NK13.4:}{NK13.5:}{NK13.6:}{NK14:OT}{NK15.2:}{NK15.7:}{NK15.8:}{NK16:(000)000-0000}{NK17:(000)000-0000}{NK11:NK1}{NK12:2}{NK13.3:}{NK13.4:}{NK13.5:}{NK13.6:}{NK14:OT}{NK15.2:}{NK15.7:}{NK15.8:}{NK16:(000)000-0000}{NK17:(000)000-0000}{PV11:PV1}{PV12:1}{PV13:E}{PV14.2:}{PV14.3:}{PV15:EM}{PV18.4:}{PV18.5:}{PV19.4:}{PV19.5:}{PV19.6:}{PV19.7:}{PV110.4:}{PV110.5:}{PV111:ER}{PV115:PR}{PV116:WI}{PV117:N}{PV119:ER}{PV121:03}{PV140.2:}{PV141:back pain}{PV142:REG}{PV145:201507222358}{AL11:AL1}{AL12:1}{AL13:DA}{AL15:MO}{AL16:JERKING}{AL17:20140525}{ACC1:ACC}{ACC2.2:}{ACC3:11}{GT11:GT1}{GT12:1}{GT14.4:}{GT14.5:}{GT14.6:}{GT16.2:}{GT16.7:}{GT16.8:}{GT17:(000)000-0000}{GT19:19510121}{GT110:M}{GT112:SA}{GT113:000-00-0000}{GT116:DISABLED}{GT117.2:}{GT118:(000)000-0000}{GT121:N}{GT11:GT1}{GT12:2}{GT14.1:}{GT14.2:}{GT14.3:}{GT14.4:}{GT14.5:}{GT14.6:}{GT16.1:}{GT16.2:}{GT16.3:}{GT16.4:}{GT16.5:}{GT16.6:}{GT16.7:}{GT16.8:}{GT16.9:}{GT117.1:}{GT117.2:}{GT117.3:}{GT117.4:}{GT117.5:}{IN11:IN1}{IN12:1}{IN13:MDGA001}{IN15:MEDICAID GA}{IN16.2:}{IN18:(000)000-0000}{IN110:MEDICAID}{IN113:20150722}{IN117.4:}{IN117.5:}{IN117.6:}{IN118:01}{IN119:19510121}{IN137:111441591411}{IN144:M}{ZMR1:ZMR}{ZMR2:1}{ZMR3:GH00426357~IL00806247~M000103533}{ZCD1:ZCD}{ZCD2:1}{ZCD1:ZCD}{ZCD2:2}{ZIN1:ZIN}{ZIN2:1}{ZIN3:SP}{ZIN4:GHP}{ZIN5:Y}{ZIN6:20150723}{ZIN7:PPI}{ZIN9:N}{ZIN14:MDGA001}{ZCS1:ZCS}{ZCS2:DIS}{ZCS3.2:}{ZCS4:N}{ZCS5:NONE}{ZCS6:NONE}{ZCS7:08625}}\n"
     ]
    }
   ],
   "source": [
    "HL7_converter(F1)"
   ]
  },
  {
   "cell_type": "code",
   "execution_count": 163,
   "metadata": {
    "collapsed": false
   },
   "outputs": [
    {
     "name": "stdout",
     "output_type": "stream",
     "text": [
      "{F:{MSH1:MSH}{MSH4:ABCDE}{MSH7:201507221833}{MSH10:CAGTADM.1.10532250}{MSH11:P}{MSH12:2.1}{EVN1:EVN}{EVN2:A08}{EVN3:201507221833}{EVN6.5:}{EVN6.6:}{EVN6.7:}{PID1:PID}{PID2:1}{PID4:V000303465}{PID5:V256537}{PID6.4:}{PID6.5:}{PID6.6:}{PID6.7:}{PID8:19961213}{PID9:F}{PID10.1:}{PID10.2:}{PID10.3:}{PID10.4:}{PID10.5:}{PID10.6:}{PID11:W}{PID12.2:}{PID12.7:}{PID12.8:}{PID14:(000)000-0000}{PID15:(000)000-0000}{PID16:ENG}{PID17:S}{PID18:NON}{PID19:V07016754636}{PID20:000-00-0000}{PV11:PV1}{PV12:1}{PV13:E}{PV14.2:}{PV14.3:}{PV15:EM}{PV18.4:}{PV18.5:}{PV19.4:}{PV19.5:}{PV110.4:}{PV110.5:}{PV111:OBED}{PV115:CR}{PV116:WI}{PV117:N}{PV119:ER}{PV121:03}{PV137:HOM}{PV140.2:}{PV141:CONTRACTIONS}{PV142:DEP}{PV145:201507202309}{PV146:201507210150}{ACC1:ACC}{ACC2.2:}{ACC3:10}{GT11:GT1}{GT12:1}{GT14.4:}{GT14.5:}{GT14.6:}{GT14.7:}{GT16.2:}{GT16.7:}{GT16.8:}{GT17:(000)000-0000}{GT19:19961213}{GT110:F}{GT112:SA}{GT113:000-00-0000}{GT116:UNEMPLOYED}{GT117.2:}{GT118:(000)000-0000}{GT121:U}{GT11:GT1}{GT12:2}{GT14.1:}{GT14.2:}{GT14.3:}{GT14.4:}{GT14.5:}{GT14.6:}{GT16.1:}{GT16.2:}{GT16.3:}{GT16.4:}{GT16.5:}{GT16.6:}{GT16.7:}{GT16.8:}{GT16.9:}{GT117.1:}{GT117.2:}{GT117.3:}{GT117.4:}{GT117.5:}{IN11:IN1}{IN12:1}{IN13:MDGA001}{IN15:MEDICAID GA}{IN16.2:}{IN18:(000)000-0000}{IN110:MEDICAID}{IN117.4:}{IN117.5:}{IN117.6:}{IN117.7:}{IN118:01}{IN119:19961213}{IN137:8161779686}{IN144:F}{ZCD1:ZCD}{ZCD2:1}{ZIN1:ZIN}{ZIN2:1}{ZIN3:SP}{ZIN4:HP - UB04 CLAIMS}{ZIN5:N}{ZIN9:N}{ZIN14:MDGA001}{ZCS1:ZCS}{ZCS2:UEMP}{ZCS3.2:}{ZCS4:U}{ZCS5:NONE}{ZCS6:NONE}{ZCS7:08625}}\n"
     ]
    }
   ],
   "source": [
    "HL7_converter(F2) "
   ]
  },
  {
   "cell_type": "code",
   "execution_count": 164,
   "metadata": {
    "collapsed": false
   },
   "outputs": [
    {
     "name": "stdout",
     "output_type": "stream",
     "text": [
      "{F:{MSH1:MSH}{MSH4:ABCDE}{MSH7:201507230002}{MSH10:CAGTADM.1.10532923}{MSH11:P}{MSH12:2.1}{EVN1:EVN}{EVN2:A03}{EVN3:201507230001}{EVN6.2:}{EVN6.3:}{EVN6.4:}{EVN6.5:}{EVN6.6:}{EVN6.7:}{PID1:PID}{PID2:1}{PID4:V000027071}{PID5:V24686}{PID6.4:}{PID6.5:}{PID6.6:}{PID8:19820215}{PID9:M}{PID10.1:}{PID10.2:}{PID10.3:}{PID10.4:}{PID10.5:}{PID10.6:}{PID11:W}{PID12.2:}{PID12.7:}{PID12.8:}{PID14:(000)000-0000}{PID15:(000)000-0000}{PID16:ENG}{PID17:S}{PID18:CHR}{PID19:V07016746578}{PID20:000-00-0000}{PV11:PV1}{PV12:1}{PV13:O}{PV14.2:}{PV14.3:}{PV15:EL}{PV18.3:}{PV18.4:}{PV18.6:}{PV19.3:}{PV19.4:}{PV19.6:}{PV110.5:}{PV110.6:}{PV110.7:}{PV111:SURG}{PV115:CR}{PV117:N}{PV119:SDC}{PV121:01}{PV137:HOM}{PV140.2:}{PV141:URETHERAL STRICTURE DISEASE      CPT:  52276,52341}{PV142:DEP}{PV145:201507220855}{PV146:201507220855}{AL11:AL1}{AL12:1}{AL13:DA}{AL15:SV}{AL16:RASH,ITCH,THROAT SWELLING}{AL17:20150720}{AL11:AL1}{AL12:2}{AL13:DA}{AL15:SV}{AL16:RASH,ITCH}{AL17:20150720}{AL11:AL1}{AL12:3}{AL13:DA}{AL15:SV}{AL16:MAKES ILL / VIOLENT}{AL17:20150721}{AL11:AL1}{AL12:4}{AL13:DA}{AL15:SV}{AL16:MAKE ILL / VIOLENT}{AL17:20150721}{AL11:AL1}{AL12:5}{AL13:DA}{AL15:SV}{AL16:MAKES ME MEAN}{AL17:20150720}{ACC1:ACC}{ACC2.2:}{ACC3:11}{GT11:GT1}{GT12:1}{GT14.4:}{GT14.5:}{GT14.6:}{GT16.2:}{GT16.7:}{GT16.8:}{GT17:(000)000-0000}{GT19:19820215}{GT110:M}{GT112:SA}{GT113:000-00-0000}{GT116:DISABLED}{GT117.2:}{GT118:(000)000-0000}{GT121:N}{GT11:GT1}{GT12:2}{GT14.1:}{GT14.2:}{GT14.3:}{GT14.4:}{GT14.5:}{GT14.6:}{GT16.1:}{GT16.2:}{GT16.3:}{GT16.4:}{GT16.5:}{GT16.6:}{GT16.7:}{GT16.8:}{GT16.9:}{GT117.1:}{GT117.2:}{GT117.3:}{GT117.4:}{GT117.5:}{IN11:IN1}{IN12:1}{IN13:MACP051}{IN15:MEDICARE A   B}{IN18:(000)000-0000}{IN113:20110601}{IN117.4:}{IN117.5:}{IN117.6:}{IN118:01}{IN119:19820215}{IN137:253494993A}{IN144:M}{IN11:IN1}{IN12:2}{IN13:MDGA002}{IN15:MEDICAID GA SECONDARY}{IN16.2:}{IN18:(000)000-0000}{IN110:MEDICAID}{IN113:20150717}{IN117.4:}{IN117.5:}{IN117.6:}{IN118:01}{IN119:19820215}{IN137:111310503248}{IN144:M}{ZMR1:ZMR}{ZMR2:1}{ZMR3:IL00799251~M000526547}{ZCD1:ZCD}{ZCD2:1}{ZIN1:ZIN}{ZIN2:1}{ZIN3:SP}{ZIN4:WPS MEDICARE PART A}{ZIN5:Y}{ZIN6:20150720}{ZIN7:PPI}{ZIN9:Y}{ZIN11:PAYOR/MCARE/SYSTEM}{ZIN14:MACP051}{ZIN1:ZIN}{ZIN2:2}{ZIN3:SP}{ZIN4:HP - UBO4 CLAIMS}{ZIN5:Y}{ZIN6:20150717}{ZIN7:PPB}{ZIN9:N}{ZIN14:MDGA002}{ZCN1:ZCN}{ZCN2:1}{ZCN3:201507201346}{ZCN4:R.CA.BSF}{ZCN5:MN PASSED}{ZCN1:ZCN}{ZCN2:2}{ZCN3:201507201346}{ZCN4:R.CA.BSF}{ZCN5:DX 598.9}{ZCN1:ZCN}{ZCN2:3}{ZCN3:201507201346}{ZCN4:R.CA.BSF}{ZCN5:CPT 52341 52276}{ZCS1:ZCS}{ZCS2:DIS}{ZCS3.2:}{ZCS4:N}{ZCS5:DECLINED}{ZCS6:DECLINED}{ZCS7:08625}}\n"
     ]
    }
   ],
   "source": [
    "HL7_converter(F3) "
   ]
  },
  {
   "cell_type": "code",
   "execution_count": null,
   "metadata": {
    "collapsed": true
   },
   "outputs": [],
   "source": []
  }
 ],
 "metadata": {
  "kernelspec": {
   "display_name": "Python 2",
   "language": "python",
   "name": "python2"
  },
  "language_info": {
   "codemirror_mode": {
    "name": "ipython",
    "version": 2
   },
   "file_extension": ".py",
   "mimetype": "text/x-python",
   "name": "python",
   "nbconvert_exporter": "python",
   "pygments_lexer": "ipython2",
   "version": "2.7.10"
  }
 },
 "nbformat": 4,
 "nbformat_minor": 0
}
