{
 "cells": [
  {
   "cell_type": "markdown",
   "metadata": {},
   "source": [
    "# HL7 to JSON converter"
   ]
  },
  {
   "cell_type": "markdown",
   "metadata": {},
   "source": [
    "### Rakesh Gupta MSDS 5023\n",
    "\n",
    "### October 8th, 2015"
   ]
  },
  {
   "cell_type": "markdown",
   "metadata": {},
   "source": [
    "This is a simple program that reads an HL7 file and prints it out to the output in a JSON format. The program has two functions\n",
    "\n",
    "1. printJsonSecondLevel - \n",
    "    This takes a message and a message key as the input parameters. the message is split into an array using a ^ as the splitter function. The array is looped through to convert into a json string which is returned back to the calling program.\n",
    "    \n",
    "\n",
    "2. printJsonFirstlevel - \n",
    "    This takes a message as the input parameters and then it is split into an array on the \"|\" as the splitter function. The array is looped through to convert into a json string which is returned back to the calling program.\n",
    "    This program calls the printJsonSecondLevel function\n",
    "    \n",
    "3. The last section of the code reads the file that was opened, splits the data into an array and goes through the file calling printJsonFirstLevel\n",
    "\n",
    "\n",
    "Future improvements\n",
    "-  Add a printJsonThirdLevel to split based on the \"~\".\n",
    "-  See if the various printJson functions can be generalised and called recursively on itself to do the printJsonSecondLevel and printJsonThirdLevel\n"
   ]
  },
  {
   "cell_type": "code",
   "execution_count": 1,
   "metadata": {
    "collapsed": true
   },
   "outputs": [],
   "source": [
    "import numpy as np\n",
    "import pandas as pd \n",
    "#import simplejson"
   ]
  },
  {
   "cell_type": "code",
   "execution_count": 2,
   "metadata": {
    "collapsed": true
   },
   "outputs": [],
   "source": [
    "filename = 'C:\\\\rakesh\\\\InformationStructures\\\\msg1.txt'"
   ]
  },
  {
   "cell_type": "code",
   "execution_count": 3,
   "metadata": {
    "collapsed": false
   },
   "outputs": [
    {
     "name": "stdout",
     "output_type": "stream",
     "text": [
      "MSH|^~\\&||ABCDE|||201507230021||ADT^A08|CAGTADM.1.10532994|P|2.1\n",
      "EVN|A08|201507230021|||R.CA.NAH^HALL^NANCY^A^^^\n",
      "PID|1||V000042610|M88604|BARTON^CLINTON^FRANCIS^^^||19510121|M|^^^^^|W|9 E CARTER ST APT A^^CARTERSVILLE^GA^30120^USA^^^BARTOW||(000)000-0000|(000)000-0000|ENG|D|OTH|V07016760770|000-00-0000\n",
      "NK1|1|POSTEN^BOBBY^^^^|OT|102 S.H.E.I.L.D Floating Island^^CARTERSVILLE^GA^30120^USA^^^BARTOW|(000)000-0000|(000)000-0000\n",
      "NK1|2|POSTEN^BOBBY^^^^|OT|102 S.H.E.I.L.D Floating Island^^CARTERSVILLE^GA^30120^USA^^^BARTOW|(000)000-0000|(000)000-0000\n",
      "PV1|1|E|V.ER^^|EM|||WILSON^Wade^Deadpool^^^MD|.SELF^Referred^Self^^^^|MARKO^Cain^Bighelmet^^^MD|ER||||PR|WI|N||ER||03|||||||||||||||||||ABCDE^|back pain|REG|||201507222358\n",
      "AL1|1|DA|F000004181^tramadol HCl^From ULTRAM|MO|JERKING|20140525\n",
      "ACC|20150722^|11\n",
      "GT1|1||BARTON^CLINTON^FRANCIS^^^||9 S.H.E.I.L.D Training Facility^^CARTERSVILLE^GA^30120^USA^^^BARTOW|(000)000-0000||19510121|M||SA|000-00-0000|||DISABLED|DISABLED^^DISABLED^GA^30092|(000)000-0000|||N\n",
      "GT1|2||^^^^^||^^^^^^^^|||||||||||^^^^\n",
      "IN1|1|MDGA001||MEDICAID GA|PO BOX 5000^^MCRAE^GA^31055^USA||(000)000-0000||MEDICAID|||20150722||||JACOBS^DANNY^S^^^|01|19510121||||||||||||||||||111441591411|||||||M\n",
      "ZMR|1|GH00426357~IL00806247~M000103533\n",
      "ZCD|1|ETHNICITY^ETHNICITY^2\n",
      "ZCD|2|Z.ADDLRACE^ADDITIONAL RACE^W\n",
      "ZIN|1|SP|GHP|Y|20150723|PPI||N|||||MDGA001\n",
      "ZCS|DIS|DISABLED^^DISABLED^GA^30092|N|NONE|NONE|08625\n",
      "\n"
     ]
    }
   ],
   "source": [
    "current_file = open(filename, mode = 'U')\n",
    "data = current_file.read()\n",
    "print data"
   ]
  },
  {
   "cell_type": "markdown",
   "metadata": {},
   "source": [
    "## Split the file on the \"^\" and print output"
   ]
  },
  {
   "cell_type": "code",
   "execution_count": 4,
   "metadata": {
    "collapsed": false
   },
   "outputs": [],
   "source": [
    "def printJsonSecondLevel(msg1,msg2):\n",
    "    #msg1 = 'WILSON^Wade^Deadpool^^^MD'\n",
    "    #msg2 = 'Pv1_1 Value6'\n",
    "    delim1 = \"^\"\n",
    "    result1 = msg1.split(delim1)\n",
    "    if len(result1) == 1: return \"\\\"\" + msg1 + \"\\\"\" \n",
    "    dataToReturn = \"{  \" \n",
    "    printcomma1 = 0\n",
    "    for i in range(0,len(result1)):\n",
    "        if result1[i] != \"\":\n",
    "            if printcomma1 == 0:\n",
    "                dataToReturn += \"\\\"\" + msg2 + \" Comp\" + str(i+1) + \"\\\" : \\\"\" + result1[i] + \"\\\"\"\n",
    "                printcomma1 = 1\n",
    "            else:\n",
    "                dataToReturn += \", \\\"\" + msg2 + \" Comp\" + str(i+1) + \"\\\" : \\\"\" + result1[i] + \"\\\"\"\n",
    "    dataToReturn += \"   }\"\n",
    "    return dataToReturn"
   ]
  },
  {
   "cell_type": "markdown",
   "metadata": {},
   "source": [
    "## Split the file on the \"|\" and print output"
   ]
  },
  {
   "cell_type": "code",
   "execution_count": 8,
   "metadata": {
    "collapsed": false
   },
   "outputs": [],
   "source": [
    "def printJsonFirstLevel(msg):\n",
    "    delim = \"|\"\n",
    "    result= msg.split(delim)\n",
    "    if result[0] ==\"\": return msg\n",
    "    msgheader = result[0] + \"_\" + result[1]\n",
    "    if result[0] == \"MSH\": msgheader = \"MSH\"\n",
    "    stringtoprint = \"{ \\n\\t\" + msgheader + \": {\\n\"\n",
    "    printcomma = 0\n",
    "    for x in range(2,len(result)):\n",
    "        if result[x] != \"\":            \n",
    "            msgkey = msgheader + \" Value\" + str(x-1)\n",
    "            if printcomma == 0:\n",
    "                #stringtoprint += \"\\t\\t\" + \"\\\"\" + msgheader + \" Value\" + str(x-1) + \"\\\" : \\\"\" + result[x] + \"\\\"\" \n",
    "                stringtoprint += \"\\t\\t\" + \"\\\"\" + msgkey  + \"\\\" : \" + printJsonSecondLevel(result[x],msgkey)\n",
    "                printcomma = 1\n",
    "            else:\n",
    "                #stringtoprint += \", \\\"\" + msgheader + \" Value\" + str(x-1) + \"\\\" : \\\"\" + result[x] + \"\\\"\" \n",
    "                stringtoprint += \",  \" + \"\\\"\" + msgkey  + \"\\\" : \" + printJsonSecondLevel(result[x],msgkey)\n",
    "            \n",
    "    stringtoprint += \"\\n\\t}\\n}\"\n",
    "    return stringtoprint"
   ]
  },
  {
   "cell_type": "markdown",
   "metadata": {},
   "source": [
    "## Read the file and call the various functions to print the data out"
   ]
  },
  {
   "cell_type": "code",
   "execution_count": 9,
   "metadata": {
    "collapsed": false
   },
   "outputs": [],
   "source": [
    "segments = []\n",
    "segments = data.split('\\n')\n",
    "\n",
    "#for row in data:\n",
    "    #row1 = row.split(\"\\n\")\n",
    "    #segments.append(row)\n",
    "\n",
    "#segments"
   ]
  },
  {
   "cell_type": "code",
   "execution_count": 10,
   "metadata": {
    "collapsed": false
   },
   "outputs": [
    {
     "name": "stdout",
     "output_type": "stream",
     "text": [
      "{ \n",
      "\tMSH: {\n",
      "\t\t\"MSH Value2\" : \"ABCDE\",  \"MSH Value5\" : \"201507230021\",  \"MSH Value7\" : {  \"MSH Value7 Comp1\" : \"ADT\", \"MSH Value7 Comp2\" : \"A08\"   },  \"MSH Value8\" : \"CAGTADM.1.10532994\",  \"MSH Value9\" : \"P\",  \"MSH Value10\" : \"2.1\"\n",
      "\t}\n",
      "}\n",
      "{ \n",
      "\tEVN_A08: {\n",
      "\t\t\"EVN_A08 Value1\" : \"201507230021\",  \"EVN_A08 Value4\" : {  \"EVN_A08 Value4 Comp1\" : \"R.CA.NAH\", \"EVN_A08 Value4 Comp2\" : \"HALL\", \"EVN_A08 Value4 Comp3\" : \"NANCY\", \"EVN_A08 Value4 Comp4\" : \"A\"   }\n",
      "\t}\n",
      "}\n",
      "{ \n",
      "\tPID_1: {\n",
      "\t\t\"PID_1 Value2\" : \"V000042610\",  \"PID_1 Value3\" : \"M88604\",  \"PID_1 Value4\" : {  \"PID_1 Value4 Comp1\" : \"BARTON\", \"PID_1 Value4 Comp2\" : \"CLINTON\", \"PID_1 Value4 Comp3\" : \"FRANCIS\"   },  \"PID_1 Value6\" : \"19510121\",  \"PID_1 Value7\" : \"M\",  \"PID_1 Value8\" : {     },  \"PID_1 Value9\" : \"W\",  \"PID_1 Value10\" : {  \"PID_1 Value10 Comp1\" : \"9 E CARTER ST APT A\", \"PID_1 Value10 Comp3\" : \"CARTERSVILLE\", \"PID_1 Value10 Comp4\" : \"GA\", \"PID_1 Value10 Comp5\" : \"30120\", \"PID_1 Value10 Comp6\" : \"USA\", \"PID_1 Value10 Comp9\" : \"BARTOW\"   },  \"PID_1 Value12\" : \"(000)000-0000\",  \"PID_1 Value13\" : \"(000)000-0000\",  \"PID_1 Value14\" : \"ENG\",  \"PID_1 Value15\" : \"D\",  \"PID_1 Value16\" : \"OTH\",  \"PID_1 Value17\" : \"V07016760770\",  \"PID_1 Value18\" : \"000-00-0000\"\n",
      "\t}\n",
      "}\n",
      "{ \n",
      "\tNK1_1: {\n",
      "\t\t\"NK1_1 Value1\" : {  \"NK1_1 Value1 Comp1\" : \"POSTEN\", \"NK1_1 Value1 Comp2\" : \"BOBBY\"   },  \"NK1_1 Value2\" : \"OT\",  \"NK1_1 Value3\" : {  \"NK1_1 Value3 Comp1\" : \"102 S.H.E.I.L.D Floating Island\", \"NK1_1 Value3 Comp3\" : \"CARTERSVILLE\", \"NK1_1 Value3 Comp4\" : \"GA\", \"NK1_1 Value3 Comp5\" : \"30120\", \"NK1_1 Value3 Comp6\" : \"USA\", \"NK1_1 Value3 Comp9\" : \"BARTOW\"   },  \"NK1_1 Value4\" : \"(000)000-0000\",  \"NK1_1 Value5\" : \"(000)000-0000\"\n",
      "\t}\n",
      "}\n",
      "{ \n",
      "\tNK1_2: {\n",
      "\t\t\"NK1_2 Value1\" : {  \"NK1_2 Value1 Comp1\" : \"POSTEN\", \"NK1_2 Value1 Comp2\" : \"BOBBY\"   },  \"NK1_2 Value2\" : \"OT\",  \"NK1_2 Value3\" : {  \"NK1_2 Value3 Comp1\" : \"102 S.H.E.I.L.D Floating Island\", \"NK1_2 Value3 Comp3\" : \"CARTERSVILLE\", \"NK1_2 Value3 Comp4\" : \"GA\", \"NK1_2 Value3 Comp5\" : \"30120\", \"NK1_2 Value3 Comp6\" : \"USA\", \"NK1_2 Value3 Comp9\" : \"BARTOW\"   },  \"NK1_2 Value4\" : \"(000)000-0000\",  \"NK1_2 Value5\" : \"(000)000-0000\"\n",
      "\t}\n",
      "}\n",
      "{ \n",
      "\tPV1_1: {\n",
      "\t\t\"PV1_1 Value1\" : \"E\",  \"PV1_1 Value2\" : {  \"PV1_1 Value2 Comp1\" : \"V.ER\"   },  \"PV1_1 Value3\" : \"EM\",  \"PV1_1 Value6\" : {  \"PV1_1 Value6 Comp1\" : \"WILSON\", \"PV1_1 Value6 Comp2\" : \"Wade\", \"PV1_1 Value6 Comp3\" : \"Deadpool\", \"PV1_1 Value6 Comp6\" : \"MD\"   },  \"PV1_1 Value7\" : {  \"PV1_1 Value7 Comp1\" : \".SELF\", \"PV1_1 Value7 Comp2\" : \"Referred\", \"PV1_1 Value7 Comp3\" : \"Self\"   },  \"PV1_1 Value8\" : {  \"PV1_1 Value8 Comp1\" : \"MARKO\", \"PV1_1 Value8 Comp2\" : \"Cain\", \"PV1_1 Value8 Comp3\" : \"Bighelmet\", \"PV1_1 Value8 Comp6\" : \"MD\"   },  \"PV1_1 Value9\" : \"ER\",  \"PV1_1 Value13\" : \"PR\",  \"PV1_1 Value14\" : \"WI\",  \"PV1_1 Value15\" : \"N\",  \"PV1_1 Value17\" : \"ER\",  \"PV1_1 Value19\" : \"03\",  \"PV1_1 Value38\" : {  \"PV1_1 Value38 Comp1\" : \"ABCDE\"   },  \"PV1_1 Value39\" : \"back pain\",  \"PV1_1 Value40\" : \"REG\",  \"PV1_1 Value43\" : \"201507222358\"\n",
      "\t}\n",
      "}\n",
      "{ \n",
      "\tAL1_1: {\n",
      "\t\t\"AL1_1 Value1\" : \"DA\",  \"AL1_1 Value2\" : {  \"AL1_1 Value2 Comp1\" : \"F000004181\", \"AL1_1 Value2 Comp2\" : \"tramadol HCl\", \"AL1_1 Value2 Comp3\" : \"From ULTRAM\"   },  \"AL1_1 Value3\" : \"MO\",  \"AL1_1 Value4\" : \"JERKING\",  \"AL1_1 Value5\" : \"20140525\"\n",
      "\t}\n",
      "}\n",
      "{ \n",
      "\tACC_20150722^: {\n",
      "\t\t\"ACC_20150722^ Value1\" : \"11\"\n",
      "\t}\n",
      "}\n",
      "{ \n",
      "\tGT1_1: {\n",
      "\t\t\"GT1_1 Value2\" : {  \"GT1_1 Value2 Comp1\" : \"BARTON\", \"GT1_1 Value2 Comp2\" : \"CLINTON\", \"GT1_1 Value2 Comp3\" : \"FRANCIS\"   },  \"GT1_1 Value4\" : {  \"GT1_1 Value4 Comp1\" : \"9 S.H.E.I.L.D Training Facility\", \"GT1_1 Value4 Comp3\" : \"CARTERSVILLE\", \"GT1_1 Value4 Comp4\" : \"GA\", \"GT1_1 Value4 Comp5\" : \"30120\", \"GT1_1 Value4 Comp6\" : \"USA\", \"GT1_1 Value4 Comp9\" : \"BARTOW\"   },  \"GT1_1 Value5\" : \"(000)000-0000\",  \"GT1_1 Value7\" : \"19510121\",  \"GT1_1 Value8\" : \"M\",  \"GT1_1 Value10\" : \"SA\",  \"GT1_1 Value11\" : \"000-00-0000\",  \"GT1_1 Value14\" : \"DISABLED\",  \"GT1_1 Value15\" : {  \"GT1_1 Value15 Comp1\" : \"DISABLED\", \"GT1_1 Value15 Comp3\" : \"DISABLED\", \"GT1_1 Value15 Comp4\" : \"GA\", \"GT1_1 Value15 Comp5\" : \"30092\"   },  \"GT1_1 Value16\" : \"(000)000-0000\",  \"GT1_1 Value19\" : \"N\"\n",
      "\t}\n",
      "}\n",
      "{ \n",
      "\tGT1_2: {\n",
      "\t\t\"GT1_2 Value2\" : {     },  \"GT1_2 Value4\" : {     },  \"GT1_2 Value15\" : {     }\n",
      "\t}\n",
      "}\n",
      "{ \n",
      "\tIN1_1: {\n",
      "\t\t\"IN1_1 Value1\" : \"MDGA001\",  \"IN1_1 Value3\" : \"MEDICAID GA\",  \"IN1_1 Value4\" : {  \"IN1_1 Value4 Comp1\" : \"PO BOX 5000\", \"IN1_1 Value4 Comp3\" : \"MCRAE\", \"IN1_1 Value4 Comp4\" : \"GA\", \"IN1_1 Value4 Comp5\" : \"31055\", \"IN1_1 Value4 Comp6\" : \"USA\"   },  \"IN1_1 Value6\" : \"(000)000-0000\",  \"IN1_1 Value8\" : \"MEDICAID\",  \"IN1_1 Value11\" : \"20150722\",  \"IN1_1 Value15\" : {  \"IN1_1 Value15 Comp1\" : \"JACOBS\", \"IN1_1 Value15 Comp2\" : \"DANNY\", \"IN1_1 Value15 Comp3\" : \"S\"   },  \"IN1_1 Value16\" : \"01\",  \"IN1_1 Value17\" : \"19510121\",  \"IN1_1 Value35\" : \"111441591411\",  \"IN1_1 Value42\" : \"M\"\n",
      "\t}\n",
      "}\n",
      "{ \n",
      "\tZMR_1: {\n",
      "\t\t\"ZMR_1 Value1\" : \"GH00426357~IL00806247~M000103533\"\n",
      "\t}\n",
      "}\n",
      "{ \n",
      "\tZCD_1: {\n",
      "\t\t\"ZCD_1 Value1\" : {  \"ZCD_1 Value1 Comp1\" : \"ETHNICITY\", \"ZCD_1 Value1 Comp2\" : \"ETHNICITY\", \"ZCD_1 Value1 Comp3\" : \"2\"   }\n",
      "\t}\n",
      "}\n",
      "{ \n",
      "\tZCD_2: {\n",
      "\t\t\"ZCD_2 Value1\" : {  \"ZCD_2 Value1 Comp1\" : \"Z.ADDLRACE\", \"ZCD_2 Value1 Comp2\" : \"ADDITIONAL RACE\", \"ZCD_2 Value1 Comp3\" : \"W\"   }\n",
      "\t}\n",
      "}\n",
      "{ \n",
      "\tZIN_1: {\n",
      "\t\t\"ZIN_1 Value1\" : \"SP\",  \"ZIN_1 Value2\" : \"GHP\",  \"ZIN_1 Value3\" : \"Y\",  \"ZIN_1 Value4\" : \"20150723\",  \"ZIN_1 Value5\" : \"PPI\",  \"ZIN_1 Value7\" : \"N\",  \"ZIN_1 Value12\" : \"MDGA001\"\n",
      "\t}\n",
      "}\n",
      "{ \n",
      "\tZCS_DIS: {\n",
      "\t\t\"ZCS_DIS Value1\" : {  \"ZCS_DIS Value1 Comp1\" : \"DISABLED\", \"ZCS_DIS Value1 Comp3\" : \"DISABLED\", \"ZCS_DIS Value1 Comp4\" : \"GA\", \"ZCS_DIS Value1 Comp5\" : \"30092\"   },  \"ZCS_DIS Value2\" : \"N\",  \"ZCS_DIS Value3\" : \"NONE\",  \"ZCS_DIS Value4\" : \"NONE\",  \"ZCS_DIS Value5\" : \"08625\"\n",
      "\t}\n",
      "}\n",
      "\n"
     ]
    }
   ],
   "source": [
    "for dataflow in segments:\n",
    "    print printJsonFirstLevel(dataflow)"
   ]
  },
  {
   "cell_type": "code",
   "execution_count": null,
   "metadata": {
    "collapsed": true
   },
   "outputs": [],
   "source": []
  }
 ],
 "metadata": {
  "kernelspec": {
   "display_name": "Python 2",
   "language": "python",
   "name": "python2"
  },
  "language_info": {
   "codemirror_mode": {
    "name": "ipython",
    "version": 2
   },
   "file_extension": ".py",
   "mimetype": "text/x-python",
   "name": "python",
   "nbconvert_exporter": "python",
   "pygments_lexer": "ipython2",
   "version": "2.7.10"
  }
 },
 "nbformat": 4,
 "nbformat_minor": 0
}
