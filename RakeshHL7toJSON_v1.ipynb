{
 "cells": [
  {
   "cell_type": "markdown",
   "metadata": {},
   "source": [
    "## take a HL7 file and output to JSON"
   ]
  },
  {
   "cell_type": "code",
   "execution_count": 1,
   "metadata": {
    "collapsed": false
   },
   "outputs": [],
   "source": [
    "import numpy as np\n",
    "import pandas as pd \n",
    "import simplejson"
   ]
  },
  {
   "cell_type": "code",
   "execution_count": 2,
   "metadata": {
    "collapsed": true
   },
   "outputs": [],
   "source": [
    "filename = 'C:\\\\rakesh\\\\InformationStructures\\\\msg1.txt'"
   ]
  },
  {
   "cell_type": "code",
   "execution_count": 3,
   "metadata": {
    "collapsed": false
   },
   "outputs": [
    {
     "name": "stdout",
     "output_type": "stream",
     "text": [
      "MSH|^~\\&||ABCDE|||201507230021||ADT^A08|CAGTADM.1.10532994|P|2.1\n",
      "EVN|A08|201507230021|||R.CA.NAH^HALL^NANCY^A^^^\n",
      "PID|1||V000042610|M88604|BARTON^CLINTON^FRANCIS^^^||19510121|M|^^^^^|W|9 E CARTER ST APT A^^CARTERSVILLE^GA^30120^USA^^^BARTOW||(000)000-0000|(000)000-0000|ENG|D|OTH|V07016760770|000-00-0000\n",
      "NK1|1|POSTEN^BOBBY^^^^|OT|102 S.H.E.I.L.D Floating Island^^CARTERSVILLE^GA^30120^USA^^^BARTOW|(000)000-0000|(000)000-0000\n",
      "NK1|2|POSTEN^BOBBY^^^^|OT|102 S.H.E.I.L.D Floating Island^^CARTERSVILLE^GA^30120^USA^^^BARTOW|(000)000-0000|(000)000-0000\n",
      "PV1|1|E|V.ER^^|EM|||WILSON^Wade^Deadpool^^^MD|.SELF^Referred^Self^^^^|MARKO^Cain^Bighelmet^^^MD|ER||||PR|WI|N||ER||03|||||||||||||||||||ABCDE^|back pain|REG|||201507222358\n",
      "AL1|1|DA|F000004181^tramadol HCl^From ULTRAM|MO|JERKING|20140525\n",
      "ACC|20150722^|11\n",
      "GT1|1||BARTON^CLINTON^FRANCIS^^^||9 S.H.E.I.L.D Training Facility^^CARTERSVILLE^GA^30120^USA^^^BARTOW|(000)000-0000||19510121|M||SA|000-00-0000|||DISABLED|DISABLED^^DISABLED^GA^30092|(000)000-0000|||N\n",
      "GT1|2||^^^^^||^^^^^^^^|||||||||||^^^^\n",
      "IN1|1|MDGA001||MEDICAID GA|PO BOX 5000^^MCRAE^GA^31055^USA||(000)000-0000||MEDICAID|||20150722||||JACOBS^DANNY^S^^^|01|19510121||||||||||||||||||111441591411|||||||M\n",
      "ZMR|1|GH00426357~IL00806247~M000103533\n",
      "ZCD|1|ETHNICITY^ETHNICITY^2\n",
      "ZCD|2|Z.ADDLRACE^ADDITIONAL RACE^W\n",
      "ZIN|1|SP|GHP|Y|20150723|PPI||N|||||MDGA001\n",
      "ZCS|DIS|DISABLED^^DISABLED^GA^30092|N|NONE|NONE|08625\n",
      "\n"
     ]
    }
   ],
   "source": [
    "current_file = open(filename, mode = 'U')\n",
    "data = current_file.read()\n",
    "print data"
   ]
  },
  {
   "cell_type": "code",
   "execution_count": 6,
   "metadata": {
    "collapsed": false
   },
   "outputs": [
    {
     "data": {
      "text/plain": [
       "['MSH|^~\\\\&||ABCDE|||201507230021||ADT^A08|CAGTADM.1.10532994|P|2.1',\n",
       " 'EVN|A08|201507230021|||R.CA.NAH^HALL^NANCY^A^^^',\n",
       " 'PID|1||V000042610|M88604|BARTON^CLINTON^FRANCIS^^^||19510121|M|^^^^^|W|9 E CARTER ST APT A^^CARTERSVILLE^GA^30120^USA^^^BARTOW||(000)000-0000|(000)000-0000|ENG|D|OTH|V07016760770|000-00-0000',\n",
       " 'NK1|1|POSTEN^BOBBY^^^^|OT|102 S.H.E.I.L.D Floating Island^^CARTERSVILLE^GA^30120^USA^^^BARTOW|(000)000-0000|(000)000-0000',\n",
       " 'NK1|2|POSTEN^BOBBY^^^^|OT|102 S.H.E.I.L.D Floating Island^^CARTERSVILLE^GA^30120^USA^^^BARTOW|(000)000-0000|(000)000-0000',\n",
       " 'PV1|1|E|V.ER^^|EM|||WILSON^Wade^Deadpool^^^MD|.SELF^Referred^Self^^^^|MARKO^Cain^Bighelmet^^^MD|ER||||PR|WI|N||ER||03|||||||||||||||||||ABCDE^|back pain|REG|||201507222358',\n",
       " 'AL1|1|DA|F000004181^tramadol HCl^From ULTRAM|MO|JERKING|20140525',\n",
       " 'ACC|20150722^|11',\n",
       " 'GT1|1||BARTON^CLINTON^FRANCIS^^^||9 S.H.E.I.L.D Training Facility^^CARTERSVILLE^GA^30120^USA^^^BARTOW|(000)000-0000||19510121|M||SA|000-00-0000|||DISABLED|DISABLED^^DISABLED^GA^30092|(000)000-0000|||N',\n",
       " 'GT1|2||^^^^^||^^^^^^^^|||||||||||^^^^',\n",
       " 'IN1|1|MDGA001||MEDICAID GA|PO BOX 5000^^MCRAE^GA^31055^USA||(000)000-0000||MEDICAID|||20150722||||JACOBS^DANNY^S^^^|01|19510121||||||||||||||||||111441591411|||||||M',\n",
       " 'ZMR|1|GH00426357~IL00806247~M000103533',\n",
       " 'ZCD|1|ETHNICITY^ETHNICITY^2',\n",
       " 'ZCD|2|Z.ADDLRACE^ADDITIONAL RACE^W',\n",
       " 'ZIN|1|SP|GHP|Y|20150723|PPI||N|||||MDGA001',\n",
       " 'ZCS|DIS|DISABLED^^DISABLED^GA^30092|N|NONE|NONE|08625',\n",
       " '']"
      ]
     },
     "execution_count": 6,
     "metadata": {},
     "output_type": "execute_result"
    }
   ],
   "source": [
    "segments = []\n",
    "segments = data.split('\\n')\n",
    "\n",
    "#for row in data:\n",
    "    #row1 = row.split(\"\\n\")\n",
    "    #segments.append(row)\n",
    "\n",
    "segments"
   ]
  },
  {
   "cell_type": "code",
   "execution_count": 7,
   "metadata": {
    "collapsed": false
   },
   "outputs": [
    {
     "name": "stdout",
     "output_type": "stream",
     "text": [
      "17\n"
     ]
    }
   ],
   "source": [
    "segment_data = []\n",
    "segmentcounter = 0\n",
    "for dataflow in segments:\n",
    "    segment_data.append(dataflow.split(\"|\"))\n",
    "    segmentcounter += 1\n",
    "    \n",
    "print segmentcounter"
   ]
  },
  {
   "cell_type": "code",
   "execution_count": 8,
   "metadata": {
    "collapsed": false
   },
   "outputs": [
    {
     "name": "stdout",
     "output_type": "stream",
     "text": [
      "[[['MSH'], ['', '~\\\\&'], [''], ['ABCDE'], [''], [''], ['201507230021'], [''], ['ADT', 'A08'], ['CAGTADM.1.10532994'], ['P']], [['EVN'], ['A08'], ['201507230021'], [''], ['']], [['PID'], ['1'], [''], ['V000042610'], ['M88604'], ['BARTON', 'CLINTON', 'FRANCIS', '', '', ''], [''], ['19510121'], ['M'], ['', '', '', '', '', ''], ['W'], ['9 E CARTER ST APT A', '', 'CARTERSVILLE', 'GA', '30120', 'USA', '', '', 'BARTOW'], [''], ['(000)000-0000'], ['(000)000-0000'], ['ENG'], ['D'], ['OTH'], ['V07016760770']], [['NK1'], ['1'], ['POSTEN', 'BOBBY', '', '', '', ''], ['OT'], ['102 S.H.E.I.L.D Floating Island', '', 'CARTERSVILLE', 'GA', '30120', 'USA', '', '', 'BARTOW'], ['(000)000-0000']], [['NK1'], ['2'], ['POSTEN', 'BOBBY', '', '', '', ''], ['OT'], ['102 S.H.E.I.L.D Floating Island', '', 'CARTERSVILLE', 'GA', '30120', 'USA', '', '', 'BARTOW'], ['(000)000-0000']], [['PV1'], ['1'], ['E'], ['V.ER', '', ''], ['EM'], [''], [''], ['WILSON', 'Wade', 'Deadpool', '', '', 'MD'], ['.SELF', 'Referred', 'Self', '', '', '', ''], ['MARKO', 'Cain', 'Bighelmet', '', '', 'MD'], ['ER'], [''], [''], [''], ['PR'], ['WI'], ['N'], [''], ['ER'], [''], ['03'], [''], [''], [''], [''], [''], [''], [''], [''], [''], [''], [''], [''], [''], [''], [''], [''], [''], [''], ['ABCDE', ''], ['back pain'], ['REG'], [''], ['']], [['AL1'], ['1'], ['DA'], ['F000004181', 'tramadol HCl', 'From ULTRAM'], ['MO'], ['JERKING']], [['ACC'], ['20150722', '']], [['GT1'], ['1'], [''], ['BARTON', 'CLINTON', 'FRANCIS', '', '', ''], [''], ['9 S.H.E.I.L.D Training Facility', '', 'CARTERSVILLE', 'GA', '30120', 'USA', '', '', 'BARTOW'], ['(000)000-0000'], [''], ['19510121'], ['M'], [''], ['SA'], ['000-00-0000'], [''], [''], ['DISABLED'], ['DISABLED', '', 'DISABLED', 'GA', '30092'], ['(000)000-0000'], [''], ['']], [['GT1'], ['2'], [''], ['', '', '', '', '', ''], [''], ['', '', '', '', '', '', '', '', ''], [''], [''], [''], [''], [''], [''], [''], [''], [''], ['']], [['IN1'], ['1'], ['MDGA001'], [''], ['MEDICAID GA'], ['PO BOX 5000', '', 'MCRAE', 'GA', '31055', 'USA'], [''], ['(000)000-0000'], [''], ['MEDICAID'], [''], [''], ['20150722'], [''], [''], [''], ['JACOBS', 'DANNY', 'S', '', '', ''], ['01'], ['19510121'], [''], [''], [''], [''], [''], [''], [''], [''], [''], [''], [''], [''], [''], [''], [''], [''], [''], ['111441591411'], [''], [''], [''], [''], [''], ['']], [['ZMR'], ['1']], [['ZCD'], ['1']], [['ZCD'], ['2']], [['ZIN'], ['1'], ['SP'], ['GHP'], ['Y'], ['20150723'], ['PPI'], [''], ['N'], [''], [''], [''], ['']], [['ZCS'], ['DIS'], ['DISABLED', '', 'DISABLED', 'GA', '30092'], ['N'], ['NONE'], ['NONE']]]\n"
     ]
    }
   ],
   "source": [
    "\n",
    "\n",
    "df_final = []\n",
    "for i in range(0,segmentcounter-1):\n",
    "    dfseg = []\n",
    "    for x in range(0,len(segment_data[i])-1):\n",
    "        row2 =  segment_data[i][x].split(\"^\")\n",
    "        #if x == 8:\n",
    "            #print x\n",
    "            #print segment_data[i][x]\n",
    "            #print row2\n",
    "        dfseg.append(row2)\n",
    "        #print dfseg\n",
    "        #print \"aha\"\n",
    "    df_final.append(dfseg)\n",
    "\n",
    "print df_final"
   ]
  },
  {
   "cell_type": "code",
   "execution_count": null,
   "metadata": {
    "collapsed": true
   },
   "outputs": [],
   "source": []
  }
 ],
 "metadata": {
  "kernelspec": {
   "display_name": "Python 2",
   "language": "python",
   "name": "python2"
  },
  "language_info": {
   "codemirror_mode": {
    "name": "ipython",
    "version": 2
   },
   "file_extension": ".py",
   "mimetype": "text/x-python",
   "name": "python",
   "nbconvert_exporter": "python",
   "pygments_lexer": "ipython2",
   "version": "2.7.10"
  }
 },
 "nbformat": 4,
 "nbformat_minor": 0
}
