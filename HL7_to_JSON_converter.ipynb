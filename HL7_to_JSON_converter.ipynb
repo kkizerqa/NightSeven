{
 "cells": [
  {
   "cell_type": "markdown",
   "metadata": {},
   "source": [
    "### Things to figure out:\n",
    "- business rules for other separators (not really sure how to interpret '^', '~', and '&').  What do they tell a reader of the file?\n",
    "- is each patient record an object?  Should the JSON file represent each record as an object?\n",
    "    "
   ]
  },
  {
   "cell_type": "code",
   "execution_count": 1,
   "metadata": {
    "collapsed": true
   },
   "outputs": [],
   "source": [
    "import numpy as np\n",
    "import pandas as pd"
   ]
  },
  {
   "cell_type": "code",
   "execution_count": 44,
   "metadata": {
    "collapsed": true
   },
   "outputs": [],
   "source": [
    "import json\n"
   ]
  },
  {
   "cell_type": "code",
   "execution_count": 53,
   "metadata": {
    "collapsed": true
   },
   "outputs": [],
   "source": [
    "hl7_text = open('data/msg1.txt', mode = 'U')\n",
    "segment_list = []\n",
    "\n",
    "for row in hl7_text: \n",
    "    segment = row.strip('\\n')\n",
    "    segment_list.append(segment)"
   ]
  },
  {
   "cell_type": "code",
   "execution_count": 92,
   "metadata": {
    "collapsed": false
   },
   "outputs": [
    {
     "data": {
      "text/plain": [
       "'MSH|^~\\\\&||ABCDE|||201507230021||ADT^A08|CAGTADM.1.10532994|P|2.1'"
      ]
     },
     "execution_count": 92,
     "metadata": {},
     "output_type": "execute_result"
    }
   ],
   "source": [
    "segment_list[0]"
   ]
  },
  {
   "cell_type": "code",
   "execution_count": 85,
   "metadata": {
    "collapsed": true
   },
   "outputs": [],
   "source": [
    "fields_list = []\n",
    "for segment in segment_list:\n",
    "    fields = segment.split(\"|\")\n",
    "    fields_list.append(fields)"
   ]
  },
  {
   "cell_type": "code",
   "execution_count": 87,
   "metadata": {
    "collapsed": false
   },
   "outputs": [
    {
     "data": {
      "text/plain": [
       "['MSH',\n",
       " '^~\\\\&',\n",
       " '',\n",
       " 'ABCDE',\n",
       " '',\n",
       " '',\n",
       " '201507230021',\n",
       " '',\n",
       " 'ADT^A08',\n",
       " 'CAGTADM.1.10532994',\n",
       " 'P',\n",
       " '2.1']"
      ]
     },
     "execution_count": 87,
     "metadata": {},
     "output_type": "execute_result"
    }
   ],
   "source": [
    "fields_list[0]"
   ]
  },
  {
   "cell_type": "code",
   "execution_count": 110,
   "metadata": {
    "collapsed": true
   },
   "outputs": [],
   "source": [
    "field_components = []\n",
    "for fields in fields_list:\n",
    "    for field in fields:\n",
    "        if '^' in field:\n",
    "            component = field.replace('^', ',')\n",
    "        else:\n",
    "            component = field\n",
    "        field_components.append(component)"
   ]
  },
  {
   "cell_type": "code",
   "execution_count": 113,
   "metadata": {
    "collapsed": false
   },
   "outputs": [
    {
     "data": {
      "text/plain": [
       "['MSH',\n",
       " ',~\\\\&',\n",
       " '',\n",
       " 'ABCDE',\n",
       " '',\n",
       " '',\n",
       " '201507230021',\n",
       " '',\n",
       " 'ADT,A08',\n",
       " 'CAGTADM.1.10532994',\n",
       " 'P',\n",
       " '2.1']"
      ]
     },
     "execution_count": 113,
     "metadata": {},
     "output_type": "execute_result"
    }
   ],
   "source": [
    "field_components[0:12]"
   ]
  },
  {
   "cell_type": "code",
   "execution_count": 115,
   "metadata": {
    "collapsed": false
   },
   "outputs": [],
   "source": [
    "as_json = json.dumps(field_components)"
   ]
  },
  {
   "cell_type": "code",
   "execution_count": 116,
   "metadata": {
    "collapsed": false
   },
   "outputs": [
    {
     "data": {
      "text/plain": [
       "'[\"MSH\", \",~\\\\\\\\&\", \"\", \"ABCDE\", \"\", \"\", \"201507230021\", \"\", \"ADT,A08\", \"CAGTADM.1.10532994\", \"P\", \"2.1\", \"EVN\", \"A08\", \"201507230021\", \"\", \"\", \"R.CA.NAH,HALL,NANCY,A,,,\", \"PID\", \"1\", \"\", \"V000042610\", \"M88604\", \"BARTON,CLINTON,FRANCIS,,,\", \"\", \"19510121\", \"M\", \",,,,,\", \"W\", \"9 E CARTER ST APT A,,CARTERSVILLE,GA,30120,USA,,,BARTOW\", \"\", \"(000)000-0000\", \"(000)000-0000\", \"ENG\", \"D\", \"OTH\", \"V07016760770\", \"000-00-0000\", \"NK1\", \"1\", \"POSTEN,BOBBY,,,,\", \"OT\", \"102 S.H.E.I.L.D Floating Island,,CARTERSVILLE,GA,30120,USA,,,BARTOW\", \"(000)000-0000\", \"(000)000-0000\", \"NK1\", \"2\", \"POSTEN,BOBBY,,,,\", \"OT\", \"102 S.H.E.I.L.D Floating Island,,CARTERSVILLE,GA,30120,USA,,,BARTOW\", \"(000)000-0000\", \"(000)000-0000\", \"PV1\", \"1\", \"E\", \"V.ER,,\", \"EM\", \"\", \"\", \"WILSON,Wade,Deadpool,,,MD\", \".SELF,Referred,Self,,,,\", \"MARKO,Cain,Bighelmet,,,MD\", \"ER\", \"\", \"\", \"\", \"PR\", \"WI\", \"N\", \"\", \"ER\", \"\", \"03\", \"\", \"\", \"\", \"\", \"\", \"\", \"\", \"\", \"\", \"\", \"\", \"\", \"\", \"\", \"\", \"\", \"\", \"\", \"ABCDE,\", \"back pain\", \"REG\", \"\", \"\", \"201507222358\", \"AL1\", \"1\", \"DA\", \"F000004181,tramadol HCl,From ULTRAM\", \"MO\", \"JERKING\", \"20140525\", \"ACC\", \"20150722,\", \"11\", \"GT1\", \"1\", \"\", \"BARTON,CLINTON,FRANCIS,,,\", \"\", \"9 S.H.E.I.L.D Training Facility,,CARTERSVILLE,GA,30120,USA,,,BARTOW\", \"(000)000-0000\", \"\", \"19510121\", \"M\", \"\", \"SA\", \"000-00-0000\", \"\", \"\", \"DISABLED\", \"DISABLED,,DISABLED,GA,30092\", \"(000)000-0000\", \"\", \"\", \"N\", \"GT1\", \"2\", \"\", \",,,,,\", \"\", \",,,,,,,,\", \"\", \"\", \"\", \"\", \"\", \"\", \"\", \"\", \"\", \"\", \",,,,\", \"IN1\", \"1\", \"MDGA001\", \"\", \"MEDICAID GA\", \"PO BOX 5000,,MCRAE,GA,31055,USA\", \"\", \"(000)000-0000\", \"\", \"MEDICAID\", \"\", \"\", \"20150722\", \"\", \"\", \"\", \"JACOBS,DANNY,S,,,\", \"01\", \"19510121\", \"\", \"\", \"\", \"\", \"\", \"\", \"\", \"\", \"\", \"\", \"\", \"\", \"\", \"\", \"\", \"\", \"\", \"111441591411\", \"\", \"\", \"\", \"\", \"\", \"\", \"M\", \"ZMR\", \"1\", \"GH00426357~IL00806247~M000103533\", \"ZCD\", \"1\", \"ETHNICITY,ETHNICITY,2\", \"ZCD\", \"2\", \"Z.ADDLRACE,ADDITIONAL RACE,W\", \"ZIN\", \"1\", \"SP\", \"GHP\", \"Y\", \"20150723\", \"PPI\", \"\", \"N\", \"\", \"\", \"\", \"\", \"MDGA001\", \"ZCS\", \"DIS\", \"DISABLED,,DISABLED,GA,30092\", \"N\", \"NONE\", \"NONE\", \"08625\"]'"
      ]
     },
     "execution_count": 116,
     "metadata": {},
     "output_type": "execute_result"
    }
   ],
   "source": [
    "as_json"
   ]
  },
  {
   "cell_type": "code",
   "execution_count": null,
   "metadata": {
    "collapsed": true
   },
   "outputs": [],
   "source": []
  }
 ],
 "metadata": {
  "kernelspec": {
   "display_name": "Python 2",
   "language": "python",
   "name": "python2"
  },
  "language_info": {
   "codemirror_mode": {
    "name": "ipython",
    "version": 2
   },
   "file_extension": ".py",
   "mimetype": "text/x-python",
   "name": "python",
   "nbconvert_exporter": "python",
   "pygments_lexer": "ipython2",
   "version": "2.7.10"
  }
 },
 "nbformat": 4,
 "nbformat_minor": 0
}
