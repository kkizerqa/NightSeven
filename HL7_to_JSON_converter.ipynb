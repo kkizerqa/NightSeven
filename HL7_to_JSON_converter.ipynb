{
 "cells": [
  {
   "cell_type": "markdown",
   "metadata": {},
   "source": [
    "### **HL7 to JSON file converter**\n",
    "\n",
    "<p style = \"color: black; font-size: 12pt\"> Mary van Valkenburg / MSDS 5023 </p>\n",
    "<p style = \"color: black; font-size: 12pt\"> October 8, 2015 </p>\n",
    "\n",
    "1.  Read in a HL7 record file.\n",
    "\n",
    "2.  Call the build_JSON() function, passing the file as its argument.\n",
    "    \n",
    "    A.  Create a list of segments and begin the JSON_string with the record container ('{rec:')\n",
    "    \n",
    "    B.  Split each segment on '|' to create a list of fields.\n",
    "    \n",
    "    C.  Save the first three characters of a segment to seg_string to use in building keys.\n",
    "    \n",
    "    D.  Using the enumerate function, step through the fields building a key from seg_string and the field index.\n",
    "        i. If the field is not empty and it's not the record-key field ('^~\\&'), add it with its key to the JSON_string **unless** the field contains a field component separator ('^').\n",
    "        ii. If there is a component separator ('^') in the field, create a list of field components and iterate through that list with enumerate(), creating a *second index* to add to the key for field components.\n",
    "            a. If the component is not empty add it with its key to the JSON_string **unless** the component contains a subcomponent separator ('~').\n",
    "            b. If there is a subcomponent separator ('~') in the component, create a list of subcomponents and iterate through with enumerate(), creating a *third index* to add to the key for subcomponents. \n",
    "    \n",
    "    E.  Add a '}' to the JSON_string to close the record container.\n",
    "    \n",
    "    F.  Dump to JSON.\n",
    "    \n",
    "    G.  Print or write to file.\n",
    "         \n"
   ]
  },
  {
   "cell_type": "code",
   "execution_count": 8,
   "metadata": {
    "collapsed": false
   },
   "outputs": [],
   "source": [
    "import simplejson as json"
   ]
  },
  {
   "cell_type": "code",
   "execution_count": 9,
   "metadata": {
    "collapsed": false
   },
   "outputs": [],
   "source": [
    "rec1 = open('data/msg1.txt', mode = 'U')\n",
    "rec2 = open('data/msg2.txt', mode = 'U')\n",
    "rec3 = open('data/msg3.txt', mode = 'U')"
   ]
  },
  {
   "cell_type": "code",
   "execution_count": 10,
   "metadata": {
    "collapsed": false
   },
   "outputs": [],
   "source": [
    "def build_JSON(record):\n",
    "    segment_list = []\n",
    "    json_string = '{' + 'rec:' \n",
    "    for row in record: \n",
    "        segment = row.strip('\\n')\n",
    "        segment_list.append(segment)\n",
    "        for segment in segment_list:\n",
    "            seg_string = segment[0:3]       \n",
    "            fields = [] \n",
    "            fields = segment.split(\"|\")\n",
    "        for index, field in enumerate(fields):\n",
    "            if(field != '' and field != '^~\\&'): \n",
    "                if '^' in field:\n",
    "                    components = [] \n",
    "                    components = field.split('^')\n",
    "                    for index2, component in enumerate(components):\n",
    "                        if(component != ''):\n",
    "                            if '~' in component:\n",
    "                                subcomponents =[]\n",
    "                                subcomponents = components.split('~')\n",
    "                                for index3, subcomponent in enumerate(subcomponents):\n",
    "                                    if(subcomponent != ''):\n",
    "                                        json_string = json_string + '{' + seg_string + str(index + 1) + '.' + str(index2 + 1) + '.' + str(index3 + 1) + ':' + subcomponent + '}'\n",
    "                        else:\n",
    "                            json_string = json_string + '{' + seg_string + str(index + 1) + '.' + str(index2 + 1) + ':' + component + '}'\n",
    "                else: \n",
    "                    json_string = json_string + '{' + seg_string + str(index + 1) + ':' + field + '}'\n",
    "    json_string = json_string + '}'\n",
    "    json_file = json.dumps(json_string, indent=2)\n",
    "    #file_name = record + '.json'\n",
    "    #file.write(file_name)\n",
    "    print json_file "
   ]
  },
  {
   "cell_type": "code",
   "execution_count": 11,
   "metadata": {
    "collapsed": false
   },
   "outputs": [
    {
     "name": "stdout",
     "output_type": "stream",
     "text": [
      "\"{rec:{MSH1:MSH}{MSH4:ABCDE}{MSH7:201507230021}{MSH10:CAGTADM.1.10532994}{MSH11:P}{MSH12:2.1}{EVN1:EVN}{EVN2:A08}{EVN3:201507230021}{EVN6.5:}{EVN6.6:}{EVN6.7:}{PID1:PID}{PID2:1}{PID4:V000042610}{PID5:M88604}{PID6.4:}{PID6.5:}{PID6.6:}{PID8:19510121}{PID9:M}{PID10.1:}{PID10.2:}{PID10.3:}{PID10.4:}{PID10.5:}{PID10.6:}{PID11:W}{PID12.2:}{PID12.7:}{PID12.8:}{PID14:(000)000-0000}{PID15:(000)000-0000}{PID16:ENG}{PID17:D}{PID18:OTH}{PID19:V07016760770}{PID20:000-00-0000}{NK11:NK1}{NK12:1}{NK13.3:}{NK13.4:}{NK13.5:}{NK13.6:}{NK14:OT}{NK15.2:}{NK15.7:}{NK15.8:}{NK16:(000)000-0000}{NK17:(000)000-0000}{NK11:NK1}{NK12:2}{NK13.3:}{NK13.4:}{NK13.5:}{NK13.6:}{NK14:OT}{NK15.2:}{NK15.7:}{NK15.8:}{NK16:(000)000-0000}{NK17:(000)000-0000}{PV11:PV1}{PV12:1}{PV13:E}{PV14.2:}{PV14.3:}{PV15:EM}{PV18.4:}{PV18.5:}{PV19.4:}{PV19.5:}{PV19.6:}{PV19.7:}{PV110.4:}{PV110.5:}{PV111:ER}{PV115:PR}{PV116:WI}{PV117:N}{PV119:ER}{PV121:03}{PV140.2:}{PV141:back pain}{PV142:REG}{PV145:201507222358}{AL11:AL1}{AL12:1}{AL13:DA}{AL15:MO}{AL16:JERKING}{AL17:20140525}{ACC1:ACC}{ACC2.2:}{ACC3:11}{GT11:GT1}{GT12:1}{GT14.4:}{GT14.5:}{GT14.6:}{GT16.2:}{GT16.7:}{GT16.8:}{GT17:(000)000-0000}{GT19:19510121}{GT110:M}{GT112:SA}{GT113:000-00-0000}{GT116:DISABLED}{GT117.2:}{GT118:(000)000-0000}{GT121:N}{GT11:GT1}{GT12:2}{GT14.1:}{GT14.2:}{GT14.3:}{GT14.4:}{GT14.5:}{GT14.6:}{GT16.1:}{GT16.2:}{GT16.3:}{GT16.4:}{GT16.5:}{GT16.6:}{GT16.7:}{GT16.8:}{GT16.9:}{GT117.1:}{GT117.2:}{GT117.3:}{GT117.4:}{GT117.5:}{IN11:IN1}{IN12:1}{IN13:MDGA001}{IN15:MEDICAID GA}{IN16.2:}{IN18:(000)000-0000}{IN110:MEDICAID}{IN113:20150722}{IN117.4:}{IN117.5:}{IN117.6:}{IN118:01}{IN119:19510121}{IN137:111441591411}{IN144:M}{ZMR1:ZMR}{ZMR2:1}{ZMR3:GH00426357~IL00806247~M000103533}{ZCD1:ZCD}{ZCD2:1}{ZCD1:ZCD}{ZCD2:2}{ZIN1:ZIN}{ZIN2:1}{ZIN3:SP}{ZIN4:GHP}{ZIN5:Y}{ZIN6:20150723}{ZIN7:PPI}{ZIN9:N}{ZIN14:MDGA001}{ZCS1:ZCS}{ZCS2:DIS}{ZCS3.2:}{ZCS4:N}{ZCS5:NONE}{ZCS6:NONE}{ZCS7:08625}}\"\n"
     ]
    }
   ],
   "source": [
    "build_JSON(rec1)"
   ]
  },
  {
   "cell_type": "code",
   "execution_count": 12,
   "metadata": {
    "collapsed": false
   },
   "outputs": [
    {
     "name": "stdout",
     "output_type": "stream",
     "text": [
      "\"{rec:{MSH1:MSH}{MSH4:ABCDE}{MSH7:201507221833}{MSH10:CAGTADM.1.10532250}{MSH11:P}{MSH12:2.1}{EVN1:EVN}{EVN2:A08}{EVN3:201507221833}{EVN6.5:}{EVN6.6:}{EVN6.7:}{PID1:PID}{PID2:1}{PID4:V000303465}{PID5:V256537}{PID6.4:}{PID6.5:}{PID6.6:}{PID6.7:}{PID8:19961213}{PID9:F}{PID10.1:}{PID10.2:}{PID10.3:}{PID10.4:}{PID10.5:}{PID10.6:}{PID11:W}{PID12.2:}{PID12.7:}{PID12.8:}{PID14:(000)000-0000}{PID15:(000)000-0000}{PID16:ENG}{PID17:S}{PID18:NON}{PID19:V07016754636}{PID20:000-00-0000}{PV11:PV1}{PV12:1}{PV13:E}{PV14.2:}{PV14.3:}{PV15:EM}{PV18.4:}{PV18.5:}{PV19.4:}{PV19.5:}{PV110.4:}{PV110.5:}{PV111:OBED}{PV115:CR}{PV116:WI}{PV117:N}{PV119:ER}{PV121:03}{PV137:HOM}{PV140.2:}{PV141:CONTRACTIONS}{PV142:DEP}{PV145:201507202309}{PV146:201507210150}{ACC1:ACC}{ACC2.2:}{ACC3:10}{GT11:GT1}{GT12:1}{GT14.4:}{GT14.5:}{GT14.6:}{GT14.7:}{GT16.2:}{GT16.7:}{GT16.8:}{GT17:(000)000-0000}{GT19:19961213}{GT110:F}{GT112:SA}{GT113:000-00-0000}{GT116:UNEMPLOYED}{GT117.2:}{GT118:(000)000-0000}{GT121:U}{GT11:GT1}{GT12:2}{GT14.1:}{GT14.2:}{GT14.3:}{GT14.4:}{GT14.5:}{GT14.6:}{GT16.1:}{GT16.2:}{GT16.3:}{GT16.4:}{GT16.5:}{GT16.6:}{GT16.7:}{GT16.8:}{GT16.9:}{GT117.1:}{GT117.2:}{GT117.3:}{GT117.4:}{GT117.5:}{IN11:IN1}{IN12:1}{IN13:MDGA001}{IN15:MEDICAID GA}{IN16.2:}{IN18:(000)000-0000}{IN110:MEDICAID}{IN117.4:}{IN117.5:}{IN117.6:}{IN117.7:}{IN118:01}{IN119:19961213}{IN137:8161779686}{IN144:F}{ZCD1:ZCD}{ZCD2:1}{ZIN1:ZIN}{ZIN2:1}{ZIN3:SP}{ZIN4:HP - UB04 CLAIMS}{ZIN5:N}{ZIN9:N}{ZIN14:MDGA001}{ZCS1:ZCS}{ZCS2:UEMP}{ZCS3.2:}{ZCS4:U}{ZCS5:NONE}{ZCS6:NONE}{ZCS7:08625}}\"\n"
     ]
    }
   ],
   "source": [
    "build_JSON(rec2)"
   ]
  },
  {
   "cell_type": "code",
   "execution_count": 13,
   "metadata": {
    "collapsed": false
   },
   "outputs": [
    {
     "name": "stdout",
     "output_type": "stream",
     "text": [
      "\"{rec:{MSH1:MSH}{MSH4:ABCDE}{MSH7:201507230002}{MSH10:CAGTADM.1.10532923}{MSH11:P}{MSH12:2.1}{EVN1:EVN}{EVN2:A03}{EVN3:201507230001}{EVN6.2:}{EVN6.3:}{EVN6.4:}{EVN6.5:}{EVN6.6:}{EVN6.7:}{PID1:PID}{PID2:1}{PID4:V000027071}{PID5:V24686}{PID6.4:}{PID6.5:}{PID6.6:}{PID8:19820215}{PID9:M}{PID10.1:}{PID10.2:}{PID10.3:}{PID10.4:}{PID10.5:}{PID10.6:}{PID11:W}{PID12.2:}{PID12.7:}{PID12.8:}{PID14:(000)000-0000}{PID15:(000)000-0000}{PID16:ENG}{PID17:S}{PID18:CHR}{PID19:V07016746578}{PID20:000-00-0000}{PV11:PV1}{PV12:1}{PV13:O}{PV14.2:}{PV14.3:}{PV15:EL}{PV18.3:}{PV18.4:}{PV18.6:}{PV19.3:}{PV19.4:}{PV19.6:}{PV110.5:}{PV110.6:}{PV110.7:}{PV111:SURG}{PV115:CR}{PV117:N}{PV119:SDC}{PV121:01}{PV137:HOM}{PV140.2:}{PV141:URETHERAL STRICTURE DISEASE      CPT:  52276,52341}{PV142:DEP}{PV145:201507220855}{PV146:201507220855}{AL11:AL1}{AL12:1}{AL13:DA}{AL15:SV}{AL16:RASH,ITCH,THROAT SWELLING}{AL17:20150720}{AL11:AL1}{AL12:2}{AL13:DA}{AL15:SV}{AL16:RASH,ITCH}{AL17:20150720}{AL11:AL1}{AL12:3}{AL13:DA}{AL15:SV}{AL16:MAKES ILL / VIOLENT}{AL17:20150721}{AL11:AL1}{AL12:4}{AL13:DA}{AL15:SV}{AL16:MAKE ILL / VIOLENT}{AL17:20150721}{AL11:AL1}{AL12:5}{AL13:DA}{AL15:SV}{AL16:MAKES ME MEAN}{AL17:20150720}{ACC1:ACC}{ACC2.2:}{ACC3:11}{GT11:GT1}{GT12:1}{GT14.4:}{GT14.5:}{GT14.6:}{GT16.2:}{GT16.7:}{GT16.8:}{GT17:(000)000-0000}{GT19:19820215}{GT110:M}{GT112:SA}{GT113:000-00-0000}{GT116:DISABLED}{GT117.2:}{GT118:(000)000-0000}{GT121:N}{GT11:GT1}{GT12:2}{GT14.1:}{GT14.2:}{GT14.3:}{GT14.4:}{GT14.5:}{GT14.6:}{GT16.1:}{GT16.2:}{GT16.3:}{GT16.4:}{GT16.5:}{GT16.6:}{GT16.7:}{GT16.8:}{GT16.9:}{GT117.1:}{GT117.2:}{GT117.3:}{GT117.4:}{GT117.5:}{IN11:IN1}{IN12:1}{IN13:MACP051}{IN15:MEDICARE A   B}{IN18:(000)000-0000}{IN113:20110601}{IN117.4:}{IN117.5:}{IN117.6:}{IN118:01}{IN119:19820215}{IN137:253494993A}{IN144:M}{IN11:IN1}{IN12:2}{IN13:MDGA002}{IN15:MEDICAID GA SECONDARY}{IN16.2:}{IN18:(000)000-0000}{IN110:MEDICAID}{IN113:20150717}{IN117.4:}{IN117.5:}{IN117.6:}{IN118:01}{IN119:19820215}{IN137:111310503248}{IN144:M}{ZMR1:ZMR}{ZMR2:1}{ZMR3:IL00799251~M000526547}{ZCD1:ZCD}{ZCD2:1}{ZIN1:ZIN}{ZIN2:1}{ZIN3:SP}{ZIN4:WPS MEDICARE PART A}{ZIN5:Y}{ZIN6:20150720}{ZIN7:PPI}{ZIN9:Y}{ZIN11:PAYOR/MCARE/SYSTEM}{ZIN14:MACP051}{ZIN1:ZIN}{ZIN2:2}{ZIN3:SP}{ZIN4:HP - UBO4 CLAIMS}{ZIN5:Y}{ZIN6:20150717}{ZIN7:PPB}{ZIN9:N}{ZIN14:MDGA002}{ZCN1:ZCN}{ZCN2:1}{ZCN3:201507201346}{ZCN4:R.CA.BSF}{ZCN5:MN PASSED}{ZCN1:ZCN}{ZCN2:2}{ZCN3:201507201346}{ZCN4:R.CA.BSF}{ZCN5:DX 598.9}{ZCN1:ZCN}{ZCN2:3}{ZCN3:201507201346}{ZCN4:R.CA.BSF}{ZCN5:CPT 52341 52276}{ZCS1:ZCS}{ZCS2:DIS}{ZCS3.2:}{ZCS4:N}{ZCS5:DECLINED}{ZCS6:DECLINED}{ZCS7:08625}}\"\n"
     ]
    }
   ],
   "source": [
    "build_JSON(rec3)"
   ]
  }
 ],
 "metadata": {
  "kernelspec": {
   "display_name": "Python 2",
   "language": "python",
   "name": "python2"
  },
  "language_info": {
   "codemirror_mode": {
    "name": "ipython",
    "version": 2
   },
   "file_extension": ".py",
   "mimetype": "text/x-python",
   "name": "python",
   "nbconvert_exporter": "python",
   "pygments_lexer": "ipython2",
   "version": "2.7.10"
  }
 },
 "nbformat": 4,
 "nbformat_minor": 0
}
