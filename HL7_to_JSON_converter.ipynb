{
 "cells": [
  {
   "cell_type": "markdown",
   "metadata": {},
   "source": [
    "### **HL7 to JSON file converter**\n",
    "\n",
    "<p style = \"color: black; font-size: 12pt\"> Mary van Valkenburg / MSDS 5023 </p>\n",
    "<p style = \"color: black; font-size: 12pt\"> October 8, 2015 </p>\n",
    "\n",
    "1.  Read in a HL7 record file.\n",
    "\n",
    "2.  Call the build_JSON() function, passing the file as its argument.\n",
    "    \n",
    "    A.  Create a list of segments and begin the JSON_string with the record container ('{rec:')\n",
    "    \n",
    "    B.  Split each segment on '|' to create a list of fields.\n",
    "    \n",
    "    C.  Save the first three characters of a segment to seg_string to use in building keys.\n",
    "    \n",
    "    D.  Using the enumerate function, step through the fields building a key from seg_string and the field index.\n",
    "        i. If the field is not empty and it's not the record-key field ('^~\\&'), add it with its key to the JSON_string **unless** the field contains a field component separator ('^').\n",
    "        ii. If there is a component separator ('^') in the field, create a list of field components and iterate through that list with enumerate(), creating a *second index* to add to the key for field components.\n",
    "            a. If the component is not empty add it with its key to the JSON_string **unless** the component contains a subcomponent separator ('~').\n",
    "            b. If there is a subcomponent separator ('~') in the component, create a list of subcomponents and iterate through with enumerate(), creating a *third index* to add to the key for subcomponents. \n",
    "    \n",
    "    E.  Add a '}' to the JSON_string to close the record container.\n",
    "    \n",
    "    F.  Dump to JSON.\n",
    "    \n",
    "    G.  Print or write to file.\n",
    "         \n"
   ]
  },
  {
   "cell_type": "code",
   "execution_count": 1,
   "metadata": {
    "collapsed": false
   },
   "outputs": [],
   "source": [
    "import simplejson as json"
   ]
  },
  {
   "cell_type": "code",
   "execution_count": 6,
   "metadata": {
    "collapsed": true
   },
   "outputs": [],
   "source": [
    "rec1 = open('data/msg1.txt', mode = 'U')\n",
    "rec2 = open('data/msg2.txt', mode = 'U')\n",
    "rec3 = open('data/msg3.txt', mode = 'U')"
   ]
  },
  {
   "cell_type": "code",
   "execution_count": 5,
   "metadata": {
    "collapsed": true
   },
   "outputs": [],
   "source": [
    "def build_JSON(record):\n",
    "    segment_list = []\n",
    "    json_string = '{' + 'rec:' \n",
    "    for row in record: \n",
    "        segment = row.strip('\\n')\n",
    "        segment_list.append(segment)\n",
    "        for segment in segment_list:\n",
    "            seg_string = segment[0:3]       \n",
    "            fields = [] \n",
    "            fields = segment.split(\"|\")\n",
    "        for index, field in enumerate(fields):\n",
    "            if(field != '' and field != '^~\\&'): \n",
    "                if '^' in field:\n",
    "                    components = [] \n",
    "                    components = field.split('^')\n",
    "                    for index2, component in enumerate(components):\n",
    "                        if(component != ''):\n",
    "                            if '~' in component:\n",
    "                                subcomponents =[]\n",
    "                                subcomponents = components.split('~')\n",
    "                                for index3, subcomponent in enumerate(subcomponents):\n",
    "                                    json_string = json_string + '{' + seg_string + str(index + 1) + '.' + str(index2 + 1) + '.' + str(index3 + 1) + ':' + subcomponent + '}'\n",
    "                            else:\n",
    "                                json_string = json_string + '{' + seg_string + str(index + 1) + '.' + str(index2 + 1) + ':' + component + '}'\n",
    "                else: \n",
    "                    json_string = json_string + '{' + seg_string + str(index + 1) + ':' + field + '}'\n",
    "    json_string = json_string + '}'\n",
    "    json_file = json.dumps(json_string, indent=2)\n",
    "    #file_name = record + '.json'\n",
    "    #file.write(file_name)\n",
    "    print json_file "
   ]
  },
  {
   "cell_type": "code",
   "execution_count": 7,
   "metadata": {
    "collapsed": false
   },
   "outputs": [
    {
     "name": "stdout",
     "output_type": "stream",
     "text": [
      "\"{rec:{MSH1:MSH}{MSH4:ABCDE}{MSH7:201507230021}{MSH9.1:ADT}{MSH9.2:A08}{MSH10:CAGTADM.1.10532994}{MSH11:P}{MSH12:2.1}{EVN1:EVN}{EVN2:A08}{EVN3:201507230021}{EVN6.1:R.CA.NAH}{EVN6.2:HALL}{EVN6.3:NANCY}{EVN6.4:A}{PID1:PID}{PID2:1}{PID4:V000042610}{PID5:M88604}{PID6.1:BARTON}{PID6.2:CLINTON}{PID6.3:FRANCIS}{PID8:19510121}{PID9:M}{PID11:W}{PID12.1:9 E CARTER ST APT A}{PID12.3:CARTERSVILLE}{PID12.4:GA}{PID12.5:30120}{PID12.6:USA}{PID12.9:BARTOW}{PID14:(000)000-0000}{PID15:(000)000-0000}{PID16:ENG}{PID17:D}{PID18:OTH}{PID19:V07016760770}{PID20:000-00-0000}{NK11:NK1}{NK12:1}{NK13.1:POSTEN}{NK13.2:BOBBY}{NK14:OT}{NK15.1:102 S.H.E.I.L.D Floating Island}{NK15.3:CARTERSVILLE}{NK15.4:GA}{NK15.5:30120}{NK15.6:USA}{NK15.9:BARTOW}{NK16:(000)000-0000}{NK17:(000)000-0000}{NK11:NK1}{NK12:2}{NK13.1:POSTEN}{NK13.2:BOBBY}{NK14:OT}{NK15.1:102 S.H.E.I.L.D Floating Island}{NK15.3:CARTERSVILLE}{NK15.4:GA}{NK15.5:30120}{NK15.6:USA}{NK15.9:BARTOW}{NK16:(000)000-0000}{NK17:(000)000-0000}{PV11:PV1}{PV12:1}{PV13:E}{PV14.1:V.ER}{PV15:EM}{PV18.1:WILSON}{PV18.2:Wade}{PV18.3:Deadpool}{PV18.6:MD}{PV19.1:.SELF}{PV19.2:Referred}{PV19.3:Self}{PV110.1:MARKO}{PV110.2:Cain}{PV110.3:Bighelmet}{PV110.6:MD}{PV111:ER}{PV115:PR}{PV116:WI}{PV117:N}{PV119:ER}{PV121:03}{PV140.1:ABCDE}{PV141:back pain}{PV142:REG}{PV145:201507222358}{AL11:AL1}{AL12:1}{AL13:DA}{AL14.1:F000004181}{AL14.2:tramadol HCl}{AL14.3:From ULTRAM}{AL15:MO}{AL16:JERKING}{AL17:20140525}{ACC1:ACC}{ACC2.1:20150722}{ACC3:11}{GT11:GT1}{GT12:1}{GT14.1:BARTON}{GT14.2:CLINTON}{GT14.3:FRANCIS}{GT16.1:9 S.H.E.I.L.D Training Facility}{GT16.3:CARTERSVILLE}{GT16.4:GA}{GT16.5:30120}{GT16.6:USA}{GT16.9:BARTOW}{GT17:(000)000-0000}{GT19:19510121}{GT110:M}{GT112:SA}{GT113:000-00-0000}{GT116:DISABLED}{GT117.1:DISABLED}{GT117.3:DISABLED}{GT117.4:GA}{GT117.5:30092}{GT118:(000)000-0000}{GT121:N}{GT11:GT1}{GT12:2}{IN11:IN1}{IN12:1}{IN13:MDGA001}{IN15:MEDICAID GA}{IN16.1:PO BOX 5000}{IN16.3:MCRAE}{IN16.4:GA}{IN16.5:31055}{IN16.6:USA}{IN18:(000)000-0000}{IN110:MEDICAID}{IN113:20150722}{IN117.1:JACOBS}{IN117.2:DANNY}{IN117.3:S}{IN118:01}{IN119:19510121}{IN137:111441591411}{IN144:M}{ZMR1:ZMR}{ZMR2:1}{ZMR3:GH00426357~IL00806247~M000103533}{ZCD1:ZCD}{ZCD2:1}{ZCD3.1:ETHNICITY}{ZCD3.2:ETHNICITY}{ZCD3.3:2}{ZCD1:ZCD}{ZCD2:2}{ZCD3.1:Z.ADDLRACE}{ZCD3.2:ADDITIONAL RACE}{ZCD3.3:W}{ZIN1:ZIN}{ZIN2:1}{ZIN3:SP}{ZIN4:GHP}{ZIN5:Y}{ZIN6:20150723}{ZIN7:PPI}{ZIN9:N}{ZIN14:MDGA001}{ZCS1:ZCS}{ZCS2:DIS}{ZCS3.1:DISABLED}{ZCS3.3:DISABLED}{ZCS3.4:GA}{ZCS3.5:30092}{ZCS4:N}{ZCS5:NONE}{ZCS6:NONE}{ZCS7:08625}}\"\n"
     ]
    }
   ],
   "source": [
    "build_JSON(rec1)"
   ]
  },
  {
   "cell_type": "code",
   "execution_count": 8,
   "metadata": {
    "collapsed": false
   },
   "outputs": [
    {
     "name": "stdout",
     "output_type": "stream",
     "text": [
      "\"{rec:{MSH1:MSH}{MSH4:ABCDE}{MSH7:201507221833}{MSH9.1:ADT}{MSH9.2:A08}{MSH10:CAGTADM.1.10532250}{MSH11:P}{MSH12:2.1}{EVN1:EVN}{EVN2:A08}{EVN3:201507221833}{EVN6.1:R.HIM.CLV}{EVN6.2:VEALS}{EVN6.3:CHENEKA}{EVN6.4:L}{PID1:PID}{PID2:1}{PID4:V000303465}{PID5:V256537}{PID6.1:ROMANOVA}{PID6.2:NATALIA}{PID6.3:ALIANOVA}{PID8:19961213}{PID9:F}{PID11:W}{PID12.1:40 page avant impression}{PID12.3:CARTERSVILLE}{PID12.4:GA}{PID12.5:30120}{PID12.6:USA}{PID12.9:BARTOW}{PID14:(000)000-0000}{PID15:(000)000-0000}{PID16:ENG}{PID17:S}{PID18:NON}{PID19:V07016754636}{PID20:000-00-0000}{PV11:PV1}{PV12:1}{PV13:E}{PV14.1:V.OBED}{PV15:EM}{PV18.1:STRANGE}{PV18.2:STEPHEN}{PV18.3:VINCENT}{PV18.6:MD}{PV19.1:STRANGE}{PV19.2:STEPHEN}{PV19.3:VINCENT}{PV19.6:MD}{PV110.1:STRANGE}{PV110.2:STEPHEN}{PV110.3:VINCENT}{PV110.6:MD}{PV111:OBED}{PV115:CR}{PV116:WI}{PV117:N}{PV119:ER}{PV121:03}{PV137:HOM}{PV140.1:ABCDE}{PV141:CONTRACTIONS}{PV142:DEP}{PV145:201507202309}{PV146:201507210150}{ACC1:ACC}{ACC2.1:20141030}{ACC3:10}{GT11:GT1}{GT12:1}{GT14.1:ROMANOVA}{GT14.2:NATALIA}{GT14.3:ALIANOVA}{GT16.1:40 page avant impression}{GT16.3:CARTERSVILLE}{GT16.4:GA}{GT16.5:30120}{GT16.6:USA}{GT16.9:BARTOW}{GT17:(000)000-0000}{GT19:19961213}{GT110:F}{GT112:SA}{GT113:000-00-0000}{GT116:UNEMPLOYED}{GT117.1:UNEMPLOYED}{GT117.3:UNEMPLOYED}{GT117.4:GA}{GT117.5:30092}{GT118:(000)000-0000}{GT121:U}{GT11:GT1}{GT12:2}{IN11:IN1}{IN12:1}{IN13:MDGA001}{IN15:MEDICAID GA}{IN16.1:PO BOX 105204}{IN16.3:TUCKER}{IN16.4:GA}{IN16.5:30085-5204}{IN16.6:USA}{IN18:(000)000-0000}{IN110:MEDICAID}{IN117.1:ROMANOVA}{IN117.2:NATALIA}{IN117.3:ALIANOVA}{IN118:01}{IN119:19961213}{IN137:8161779686}{IN144:F}{ZCD1:ZCD}{ZCD2:1}{ZCD3.1:ETHNICITY}{ZCD3.2:ETHNICITY}{ZCD3.3:2}{ZIN1:ZIN}{ZIN2:1}{ZIN3:SP}{ZIN4:HP - UB04 CLAIMS}{ZIN5:N}{ZIN9:N}{ZIN14:MDGA001}{ZCS1:ZCS}{ZCS2:UEMP}{ZCS3.1:UNEMPLOYED}{ZCS3.3:UNEMPLOYED}{ZCS3.4:GA}{ZCS3.5:30092}{ZCS4:U}{ZCS5:NONE}{ZCS6:NONE}{ZCS7:08625}}\"\n"
     ]
    }
   ],
   "source": [
    "build_JSON(rec2)"
   ]
  },
  {
   "cell_type": "code",
   "execution_count": 9,
   "metadata": {
    "collapsed": false
   },
   "outputs": [
    {
     "name": "stdout",
     "output_type": "stream",
     "text": [
      "\"{rec:{MSH1:MSH}{MSH4:ABCDE}{MSH7:201507230002}{MSH9.1:ADT}{MSH9.2:A03}{MSH10:CAGTADM.1.10532923}{MSH11:P}{MSH12:2.1}{EVN1:EVN}{EVN2:A03}{EVN3:201507230001}{EVN6.1:MIDNT RUN}{PID1:PID}{PID2:1}{PID4:V000027071}{PID5:V24686}{PID6.1:BANNER}{PID6.2:ROBERT}{PID6.3:BRUCE}{PID8:19820215}{PID9:M}{PID11:W}{PID12.1:31 simplement du faux }{PID12.3:CARTERSVILLE}{PID12.4:GA}{PID12.5:30121}{PID12.6:USA}{PID12.9:BARTOW}{PID14:(000)000-0000}{PID15:(000)000-0000}{PID16:ENG}{PID17:S}{PID18:CHR}{PID19:V07016746578}{PID20:000-00-0000}{PV11:PV1}{PV12:1}{PV13:O}{PV14.1:V.SRG}{PV15:EL}{PV18.1:GAMMA}{PV18.2:RAE}{PV18.5:Jr}{PV18.7:MD}{PV19.1:GAMMA}{PV19.2:RAE}{PV19.5:Jr}{PV19.7:MD}{PV110.1:.NO PCP}{PV110.2:Physician}{PV110.3:No}{PV110.4:Primary or Family}{PV111:SURG}{PV115:CR}{PV117:N}{PV119:SDC}{PV121:01}{PV137:HOM}{PV140.1:ABCDE}{PV141:URETHERAL STRICTURE DISEASE      CPT:  52276,52341}{PV142:DEP}{PV145:201507220855}{PV146:201507220855}{AL11:AL1}{AL12:1}{AL13:DA}{AL14.1:F001000476}{AL14.2:Penicillins}{AL14.3:PENICILLINS}{AL15:SV}{AL16:RASH,ITCH,THROAT SWELLING}{AL17:20150720}{AL11:AL1}{AL12:2}{AL13:DA}{AL14.1:F006001545}{AL14.2:morphine}{AL14.3:MORPHINE}{AL15:SV}{AL16:RASH,ITCH}{AL17:20150720}{AL11:AL1}{AL12:3}{AL13:DA}{AL14.1:F006004180}{AL14.2:tramadol}{AL14.3:TRAMADOL}{AL15:SV}{AL16:MAKES ILL / VIOLENT}{AL17:20150721}{AL11:AL1}{AL12:4}{AL13:DA}{AL14.1:F006004807}{AL14.2:ondansetron}{AL14.3:From ZOFRAN (AS HYDROCHLORIDE)}{AL15:SV}{AL16:MAKE ILL / VIOLENT}{AL17:20150721}{AL11:AL1}{AL12:5}{AL13:DA}{AL14.1:F006004812}{AL14.2:ketorolac}{AL14.3:From TORADOL}{AL15:SV}{AL16:MAKES ME MEAN}{AL17:20150720}{ACC1:ACC}{ACC2.1:20150717}{ACC3:11}{GT11:GT1}{GT12:1}{GT14.1:BANNER}{GT14.2:ROBERT}{GT14.3:BRUCE}{GT16.1:31 simplement du faux}{GT16.3:CARTERSVILLE}{GT16.4:GA}{GT16.5:30121}{GT16.6:USA}{GT16.9:BARTOW}{GT17:(000)000-0000}{GT19:19820215}{GT110:M}{GT112:SA}{GT113:000-00-0000}{GT116:DISABLED}{GT117.1:DISABLED}{GT117.3:DISABLED}{GT117.4:GA}{GT117.5:30092}{GT118:(000)000-0000}{GT121:N}{GT11:GT1}{GT12:2}{IN11:IN1}{IN12:1}{IN13:MACP051}{IN15:MEDICARE A   B}{IN16.1:CLAIMS DEPT}{IN16.2:PO BOX 1602}{IN16.3:OMAHA}{IN16.4:NE}{IN16.5:68101}{IN16.6:USA}{IN18:(000)000-0000}{IN113:20110601}{IN115.1:NR/S}{IN115.2:20150717}{IN117.1:BANNER}{IN117.2:ROBERT}{IN117.3:BRUCE}{IN118:01}{IN119:19820215}{IN137:253494993A}{IN144:M}{IN11:IN1}{IN12:2}{IN13:MDGA002}{IN15:MEDICAID GA SECONDARY}{IN16.1:PO BOX 105204}{IN16.3:TUCKER}{IN16.4:GA}{IN16.5:30085-5204}{IN16.6:USA}{IN18:(000)000-0000}{IN110:MEDICAID}{IN113:20150717}{IN117.1:BANNER}{IN117.2:ROBERT}{IN117.3:BRUCE}{IN118:01}{IN119:19820215}{IN137:111310503248}{IN144:M}{ZMR1:ZMR}{ZMR2:1}{ZMR3:IL00799251~M000526547}{ZCD1:ZCD}{ZCD2:1}{ZCD3.1:ETHNICITY}{ZCD3.2:ETHNICITY}{ZCD3.3:2}{ZIN1:ZIN}{ZIN2:1}{ZIN3:SP}{ZIN4:WPS MEDICARE PART A}{ZIN5:Y}{ZIN6:20150720}{ZIN7:PPI}{ZIN9:Y}{ZIN11:PAYOR/MCARE/SYSTEM}{ZIN14:MACP051}{ZIN1:ZIN}{ZIN2:2}{ZIN3:SP}{ZIN4:HP - UBO4 CLAIMS}{ZIN5:Y}{ZIN6:20150717}{ZIN7:PPB}{ZIN9:N}{ZIN14:MDGA002}{ZCN1:ZCN}{ZCN2:1}{ZCN3:201507201346}{ZCN4:R.CA.BSF}{ZCN5:MN PASSED}{ZCN1:ZCN}{ZCN2:2}{ZCN3:201507201346}{ZCN4:R.CA.BSF}{ZCN5:DX 598.9}{ZCN1:ZCN}{ZCN2:3}{ZCN3:201507201346}{ZCN4:R.CA.BSF}{ZCN5:CPT 52341 52276}{ZCS1:ZCS}{ZCS2:DIS}{ZCS3.1:DISABLED}{ZCS3.3:DISABLED}{ZCS3.4:GA}{ZCS3.5:30092}{ZCS4:N}{ZCS5:DECLINED}{ZCS6:DECLINED}{ZCS7:08625}}\"\n"
     ]
    }
   ],
   "source": [
    "build_JSON(rec3)"
   ]
  },
  {
   "cell_type": "markdown",
   "metadata": {},
   "source": []
  }
 ],
 "metadata": {
  "kernelspec": {
   "display_name": "Python 2",
   "language": "python",
   "name": "python2"
  },
  "language_info": {
   "codemirror_mode": {
    "name": "ipython",
    "version": 2
   },
   "file_extension": ".py",
   "mimetype": "text/x-python",
   "name": "python",
   "nbconvert_exporter": "python",
   "pygments_lexer": "ipython2",
   "version": "2.7.10"
  }
 },
 "nbformat": 4,
 "nbformat_minor": 0
}
