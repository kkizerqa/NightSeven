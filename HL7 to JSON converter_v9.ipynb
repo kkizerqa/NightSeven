{
 "cells": [
  {
   "cell_type": "markdown",
   "metadata": {},
   "source": [
    "# Python HL7 to JSON converter\n",
    "\n",
    "### MSDS 5023 Information Structures\n",
    "### Professor Best\n",
    "### Sarah Grotelueschen\n",
    "### October 8, 2015\n",
    "\n",
    "### Final Paper\n",
    "\n",
    "#### Objectives: Write a program that will enable the transformation of an HL7 file into JSON format using Python. Test the program using 3 HL7 files provided by Professor Best. Recommended approaches include: parsing all of the segments, making sure to keep track of positions; creating an object for each segment, keeping track of the order of the segments, then outputting in JSON format.\n",
    "\n",
    "##### I hand-typed this code based on original code developed by Mary Van Valkenburg. I added the comments and changed some of the variables as I worked through the code to understand it.\n",
    "\n",
    "In HL7, order is extremely important, so we need to use a data structure that efficiently supports storing and processing data in order. To the extent possible, we will utilize arrays to convert the data.\n",
    "\n",
    "There are five special characters in HL7 format:\n",
    "\n",
    "| Used to separate the field values\n",
    "\n",
    "^ Indicates a component (subset of a field)\n",
    "\n",
    "~ Indicates repeat of a component\n",
    "\n",
    "\\ Indicates an escape character\n",
    "\n",
    "& Indicates the continuation of a field\n",
    "\n",
    "I attempted to address all, but was unable to complete addressing the ampersand (&).\n",
    "\n",
    "##### Proposed approach:\n",
    "I will create a function that simultaneously stores the original HL7 data in arrays and builds a JSON format. To do this, I will work from the outside in, utilizing the enumerate function to identify the location of the objects in the array for building the positional identifier.\n",
    "\n",
    "##### Steps*:\n",
    "1. Create an array of the segments (rows) in the HL7 file. \n",
    "2. Create an array of the fields (values between the ||) in the HL7 file.\n",
    "3. Create an array of the components (field values with ^ ) in the HL7 file.\n",
    "4. Create an array of the subcomponents (field values with ~ ) in the HL7 file.\n",
    "5. Build the JSON file format using the above arrays, combined with the appropriate positional identifiers and {}\n",
    "\n",
    "###### * Following creation of each array, utilizing if/else statements, I create the related JSON format, which includes a combination of {}, a positional identifier, and the value from the array.\n",
    "\n",
    "Below is an example of how the positional identifers will output. After each of the positional identifiers, there will be a colon, followed by the appropriate value for the JSON file.\n",
    "Example:  {EVN|A08|201507230021|||R.CA.NAH^HALL^NANCY^A^^^}\n",
    "\n",
    "'EVN' ID = EVN.1.1\n",
    "\n",
    "'A08' ID = EVN.1.2\n",
    "\n",
    "'201507230021' = EVN.1.3\n",
    "\n",
    "' ' = EVN.1.4\n",
    "\n",
    "' ' = EVN.1.5\n",
    "\n",
    "'R.CA.NAH' = EVN.1.6.1\n",
    "\n",
    "'HALL' = EVN.1.6.2\n",
    "\n",
    "'NANCY' = EVN.1.6.3\n",
    "\n",
    "'A' = EVN.1.6.4\n",
    "\n",
    "'^' = EVN.1.6.5\n",
    "\n",
    "'^' = EVN.1.6.6\n",
    "\n",
    "Additional steps that could be completed with more time:\n",
    "(a) further splitting the date into day, month, year\n",
    "(b) addressing the ampersand (continuation) special character"
   ]
  },
  {
   "cell_type": "code",
   "execution_count": 1,
   "metadata": {
    "collapsed": true
   },
   "outputs": [],
   "source": [
    "import simplejson as json"
   ]
  },
  {
   "cell_type": "code",
   "execution_count": 2,
   "metadata": {
    "collapsed": true
   },
   "outputs": [],
   "source": [
    "#Save the files for convenient reference later\n",
    "\n",
    "rec1 = open('/Users/grotel/Desktop/msg1.txt', mode = 'U')\n",
    "rec2 = open('/Users/grotel/Desktop/msg2.txt', mode = 'U')\n",
    "rec3 = open('/Users/grotel/Desktop/msg3.txt', mode = 'U')"
   ]
  },
  {
   "cell_type": "code",
   "execution_count": 3,
   "metadata": {
    "collapsed": false
   },
   "outputs": [],
   "source": [
    "# Build a function that will create the JSON file\n",
    "\n",
    "def hl7_to_json(record):\n",
    "    segment_list = []                           #Build empty array to populate the segments (rows) into\n",
    "    json_file = '{' + 'record:'                 #JSON format requires curly bracket to start, so I start there\n",
    "    for row in record:\n",
    "        segment = row.strip('\\n')               #Remove the new row reference\n",
    "        segment_list.append(segment)            #Output the segment\n",
    "        for segment in segment_list:       \n",
    "            seg_baseID = segment[0:3]           #Store the first three letters of the row to be used as an ID later\n",
    "            fields = []                         #Create an empty array to populate the fields in\n",
    "            fields = segment.split(\"|\")         #Split the segment into fields by splitting on |\n",
    "        for ID, field in enumerate(fields):     #Get position info for identifier and the related value\n",
    "            if(field != '' and field != '^~\\&'): #Ignore fields that are blank or filled with the special character\n",
    "                if '^' in field:                #For fields that contain a carat...\n",
    "                    components = []             #Create an empty array for the components\n",
    "                    components = field.split('^')     #Split the fields on ^ to get the components\n",
    "                    for ID2, component in enumerate(components):    #Get position info for identifier and the related value\n",
    "                        if (component != ''):           #Ignore fields that are blank\n",
    "                            if '~' in component:        #For the fields that contain ~                  \n",
    "                                subcomponents =[]\n",
    "                                subcomponents = components.split('~')     #Split the component on ~\n",
    "                                for ID3, subcomponent in enumerate(subcomponents):       #Get position info for identifier\n",
    "                                    if(subcomponent != ''):                        \n",
    "                                        json_file = json_file + '{' + seg_baseID + '.' + str(ID +1) + '.' + str(ID2 +1) + '.' + str(ID3 +1) + ':' + subcomponent + '}'   #Add curlies and ID to output                   \n",
    "                        else:\n",
    "                            json_file = json_file + '{' + seg_baseID + '.' + str(ID + 1) + '.' + str(ID2 +1) +':' + component + '}'  #Add curlies and ID to output\n",
    "                else:\n",
    "                    json_file = json_file + '{' + seg_baseID + '.' + str(ID +1) + ':' + field + '}'   #Add curlies and ID to output    \n",
    "    \n",
    "    json_file = json_file + '}'   #Add final curly bracket to end of file    \n",
    "    json_file2 = json.dumps(json_file, indent=2)    \n",
    "\n",
    "    print json_file\n",
    "            "
   ]
  },
  {
   "cell_type": "code",
   "execution_count": 4,
   "metadata": {
    "collapsed": false,
    "scrolled": true
   },
   "outputs": [
    {
     "name": "stdout",
     "output_type": "stream",
     "text": [
      "{record:{MSH.1:MSH}{MSH.4:ABCDE}{MSH.7:201507230021}{MSH.10:CAGTADM.1.10532994}{MSH.11:P}{MSH.12:2.1}{EVN.1:EVN}{EVN.2:A08}{EVN.3:201507230021}{EVN.6.5:}{EVN.6.6:}{EVN.6.7:}{PID.1:PID}{PID.2:1}{PID.4:V000042610}{PID.5:M88604}{PID.6.4:}{PID.6.5:}{PID.6.6:}{PID.8:19510121}{PID.9:M}{PID.10.1:}{PID.10.2:}{PID.10.3:}{PID.10.4:}{PID.10.5:}{PID.10.6:}{PID.11:W}{PID.12.2:}{PID.12.7:}{PID.12.8:}{PID.14:(000)000-0000}{PID.15:(000)000-0000}{PID.16:ENG}{PID.17:D}{PID.18:OTH}{PID.19:V07016760770}{PID.20:000-00-0000}{NK1.1:NK1}{NK1.2:1}{NK1.3.3:}{NK1.3.4:}{NK1.3.5:}{NK1.3.6:}{NK1.4:OT}{NK1.5.2:}{NK1.5.7:}{NK1.5.8:}{NK1.6:(000)000-0000}{NK1.7:(000)000-0000}{NK1.1:NK1}{NK1.2:2}{NK1.3.3:}{NK1.3.4:}{NK1.3.5:}{NK1.3.6:}{NK1.4:OT}{NK1.5.2:}{NK1.5.7:}{NK1.5.8:}{NK1.6:(000)000-0000}{NK1.7:(000)000-0000}{PV1.1:PV1}{PV1.2:1}{PV1.3:E}{PV1.4.2:}{PV1.4.3:}{PV1.5:EM}{PV1.8.4:}{PV1.8.5:}{PV1.9.4:}{PV1.9.5:}{PV1.9.6:}{PV1.9.7:}{PV1.10.4:}{PV1.10.5:}{PV1.11:ER}{PV1.15:PR}{PV1.16:WI}{PV1.17:N}{PV1.19:ER}{PV1.21:03}{PV1.40.2:}{PV1.41:back pain}{PV1.42:REG}{PV1.45:201507222358}{AL1.1:AL1}{AL1.2:1}{AL1.3:DA}{AL1.5:MO}{AL1.6:JERKING}{AL1.7:20140525}{ACC.1:ACC}{ACC.2.2:}{ACC.3:11}{GT1.1:GT1}{GT1.2:1}{GT1.4.4:}{GT1.4.5:}{GT1.4.6:}{GT1.6.2:}{GT1.6.7:}{GT1.6.8:}{GT1.7:(000)000-0000}{GT1.9:19510121}{GT1.10:M}{GT1.12:SA}{GT1.13:000-00-0000}{GT1.16:DISABLED}{GT1.17.2:}{GT1.18:(000)000-0000}{GT1.21:N}{GT1.1:GT1}{GT1.2:2}{GT1.4.1:}{GT1.4.2:}{GT1.4.3:}{GT1.4.4:}{GT1.4.5:}{GT1.4.6:}{GT1.6.1:}{GT1.6.2:}{GT1.6.3:}{GT1.6.4:}{GT1.6.5:}{GT1.6.6:}{GT1.6.7:}{GT1.6.8:}{GT1.6.9:}{GT1.17.1:}{GT1.17.2:}{GT1.17.3:}{GT1.17.4:}{GT1.17.5:}{IN1.1:IN1}{IN1.2:1}{IN1.3:MDGA001}{IN1.5:MEDICAID GA}{IN1.6.2:}{IN1.8:(000)000-0000}{IN1.10:MEDICAID}{IN1.13:20150722}{IN1.17.4:}{IN1.17.5:}{IN1.17.6:}{IN1.18:01}{IN1.19:19510121}{IN1.37:111441591411}{IN1.44:M}{ZMR.1:ZMR}{ZMR.2:1}{ZMR.3:GH00426357~IL00806247~M000103533}{ZCD.1:ZCD}{ZCD.2:1}{ZCD.1:ZCD}{ZCD.2:2}{ZIN.1:ZIN}{ZIN.2:1}{ZIN.3:SP}{ZIN.4:GHP}{ZIN.5:Y}{ZIN.6:20150723}{ZIN.7:PPI}{ZIN.9:N}{ZIN.14:MDGA001}{ZCS.1:ZCS}{ZCS.2:DIS}{ZCS.3.2:}{ZCS.4:N}{ZCS.5:NONE}{ZCS.6:NONE}{ZCS.7:08625}}\n"
     ]
    }
   ],
   "source": [
    "# Call the function for the msg1 record\n",
    "\n",
    "hl7_to_json(rec1)"
   ]
  },
  {
   "cell_type": "code",
   "execution_count": 5,
   "metadata": {
    "collapsed": false
   },
   "outputs": [
    {
     "name": "stdout",
     "output_type": "stream",
     "text": [
      "{record:{MSH.1:MSH}{MSH.4:ABCDE}{MSH.7:201507221833}{MSH.10:CAGTADM.1.10532250}{MSH.11:P}{MSH.12:2.1}{EVN.1:EVN}{EVN.2:A08}{EVN.3:201507221833}{EVN.6.5:}{EVN.6.6:}{EVN.6.7:}{PID.1:PID}{PID.2:1}{PID.4:V000303465}{PID.5:V256537}{PID.6.4:}{PID.6.5:}{PID.6.6:}{PID.6.7:}{PID.8:19961213}{PID.9:F}{PID.10.1:}{PID.10.2:}{PID.10.3:}{PID.10.4:}{PID.10.5:}{PID.10.6:}{PID.11:W}{PID.12.2:}{PID.12.7:}{PID.12.8:}{PID.14:(000)000-0000}{PID.15:(000)000-0000}{PID.16:ENG}{PID.17:S}{PID.18:NON}{PID.19:V07016754636}{PID.20:000-00-0000}{PV1.1:PV1}{PV1.2:1}{PV1.3:E}{PV1.4.2:}{PV1.4.3:}{PV1.5:EM}{PV1.8.4:}{PV1.8.5:}{PV1.9.4:}{PV1.9.5:}{PV1.10.4:}{PV1.10.5:}{PV1.11:OBED}{PV1.15:CR}{PV1.16:WI}{PV1.17:N}{PV1.19:ER}{PV1.21:03}{PV1.37:HOM}{PV1.40.2:}{PV1.41:CONTRACTIONS}{PV1.42:DEP}{PV1.45:201507202309}{PV1.46:201507210150}{ACC.1:ACC}{ACC.2.2:}{ACC.3:10}{GT1.1:GT1}{GT1.2:1}{GT1.4.4:}{GT1.4.5:}{GT1.4.6:}{GT1.4.7:}{GT1.6.2:}{GT1.6.7:}{GT1.6.8:}{GT1.7:(000)000-0000}{GT1.9:19961213}{GT1.10:F}{GT1.12:SA}{GT1.13:000-00-0000}{GT1.16:UNEMPLOYED}{GT1.17.2:}{GT1.18:(000)000-0000}{GT1.21:U}{GT1.1:GT1}{GT1.2:2}{GT1.4.1:}{GT1.4.2:}{GT1.4.3:}{GT1.4.4:}{GT1.4.5:}{GT1.4.6:}{GT1.6.1:}{GT1.6.2:}{GT1.6.3:}{GT1.6.4:}{GT1.6.5:}{GT1.6.6:}{GT1.6.7:}{GT1.6.8:}{GT1.6.9:}{GT1.17.1:}{GT1.17.2:}{GT1.17.3:}{GT1.17.4:}{GT1.17.5:}{IN1.1:IN1}{IN1.2:1}{IN1.3:MDGA001}{IN1.5:MEDICAID GA}{IN1.6.2:}{IN1.8:(000)000-0000}{IN1.10:MEDICAID}{IN1.17.4:}{IN1.17.5:}{IN1.17.6:}{IN1.17.7:}{IN1.18:01}{IN1.19:19961213}{IN1.37:8161779686}{IN1.44:F}{ZCD.1:ZCD}{ZCD.2:1}{ZIN.1:ZIN}{ZIN.2:1}{ZIN.3:SP}{ZIN.4:HP - UB04 CLAIMS}{ZIN.5:N}{ZIN.9:N}{ZIN.14:MDGA001}{ZCS.1:ZCS}{ZCS.2:UEMP}{ZCS.3.2:}{ZCS.4:U}{ZCS.5:NONE}{ZCS.6:NONE}{ZCS.7:08625}}\n"
     ]
    }
   ],
   "source": [
    "# Call the function for the msg2 record\n",
    "\n",
    "hl7_to_json(rec2)"
   ]
  },
  {
   "cell_type": "code",
   "execution_count": 6,
   "metadata": {
    "collapsed": false,
    "scrolled": true
   },
   "outputs": [
    {
     "name": "stdout",
     "output_type": "stream",
     "text": [
      "{record:{MSH.1:MSH}{MSH.4:ABCDE}{MSH.7:201507230002}{MSH.10:CAGTADM.1.10532923}{MSH.11:P}{MSH.12:2.1}{EVN.1:EVN}{EVN.2:A03}{EVN.3:201507230001}{EVN.6.2:}{EVN.6.3:}{EVN.6.4:}{EVN.6.5:}{EVN.6.6:}{EVN.6.7:}{PID.1:PID}{PID.2:1}{PID.4:V000027071}{PID.5:V24686}{PID.6.4:}{PID.6.5:}{PID.6.6:}{PID.8:19820215}{PID.9:M}{PID.10.1:}{PID.10.2:}{PID.10.3:}{PID.10.4:}{PID.10.5:}{PID.10.6:}{PID.11:W}{PID.12.2:}{PID.12.7:}{PID.12.8:}{PID.14:(000)000-0000}{PID.15:(000)000-0000}{PID.16:ENG}{PID.17:S}{PID.18:CHR}{PID.19:V07016746578}{PID.20:000-00-0000}{PV1.1:PV1}{PV1.2:1}{PV1.3:O}{PV1.4.2:}{PV1.4.3:}{PV1.5:EL}{PV1.8.3:}{PV1.8.4:}{PV1.8.6:}{PV1.9.3:}{PV1.9.4:}{PV1.9.6:}{PV1.10.5:}{PV1.10.6:}{PV1.10.7:}{PV1.11:SURG}{PV1.15:CR}{PV1.17:N}{PV1.19:SDC}{PV1.21:01}{PV1.37:HOM}{PV1.40.2:}{PV1.41:URETHERAL STRICTURE DISEASE      CPT:  52276,52341}{PV1.42:DEP}{PV1.45:201507220855}{PV1.46:201507220855}{AL1.1:AL1}{AL1.2:1}{AL1.3:DA}{AL1.5:SV}{AL1.6:RASH,ITCH,THROAT SWELLING}{AL1.7:20150720}{AL1.1:AL1}{AL1.2:2}{AL1.3:DA}{AL1.5:SV}{AL1.6:RASH,ITCH}{AL1.7:20150720}{AL1.1:AL1}{AL1.2:3}{AL1.3:DA}{AL1.5:SV}{AL1.6:MAKES ILL / VIOLENT}{AL1.7:20150721}{AL1.1:AL1}{AL1.2:4}{AL1.3:DA}{AL1.5:SV}{AL1.6:MAKE ILL / VIOLENT}{AL1.7:20150721}{AL1.1:AL1}{AL1.2:5}{AL1.3:DA}{AL1.5:SV}{AL1.6:MAKES ME MEAN}{AL1.7:20150720}{ACC.1:ACC}{ACC.2.2:}{ACC.3:11}{GT1.1:GT1}{GT1.2:1}{GT1.4.4:}{GT1.4.5:}{GT1.4.6:}{GT1.6.2:}{GT1.6.7:}{GT1.6.8:}{GT1.7:(000)000-0000}{GT1.9:19820215}{GT1.10:M}{GT1.12:SA}{GT1.13:000-00-0000}{GT1.16:DISABLED}{GT1.17.2:}{GT1.18:(000)000-0000}{GT1.21:N}{GT1.1:GT1}{GT1.2:2}{GT1.4.1:}{GT1.4.2:}{GT1.4.3:}{GT1.4.4:}{GT1.4.5:}{GT1.4.6:}{GT1.6.1:}{GT1.6.2:}{GT1.6.3:}{GT1.6.4:}{GT1.6.5:}{GT1.6.6:}{GT1.6.7:}{GT1.6.8:}{GT1.6.9:}{GT1.17.1:}{GT1.17.2:}{GT1.17.3:}{GT1.17.4:}{GT1.17.5:}{IN1.1:IN1}{IN1.2:1}{IN1.3:MACP051}{IN1.5:MEDICARE A   B}{IN1.8:(000)000-0000}{IN1.13:20110601}{IN1.17.4:}{IN1.17.5:}{IN1.17.6:}{IN1.18:01}{IN1.19:19820215}{IN1.37:253494993A}{IN1.44:M}{IN1.1:IN1}{IN1.2:2}{IN1.3:MDGA002}{IN1.5:MEDICAID GA SECONDARY}{IN1.6.2:}{IN1.8:(000)000-0000}{IN1.10:MEDICAID}{IN1.13:20150717}{IN1.17.4:}{IN1.17.5:}{IN1.17.6:}{IN1.18:01}{IN1.19:19820215}{IN1.37:111310503248}{IN1.44:M}{ZMR.1:ZMR}{ZMR.2:1}{ZMR.3:IL00799251~M000526547}{ZCD.1:ZCD}{ZCD.2:1}{ZIN.1:ZIN}{ZIN.2:1}{ZIN.3:SP}{ZIN.4:WPS MEDICARE PART A}{ZIN.5:Y}{ZIN.6:20150720}{ZIN.7:PPI}{ZIN.9:Y}{ZIN.11:PAYOR/MCARE/SYSTEM}{ZIN.14:MACP051}{ZIN.1:ZIN}{ZIN.2:2}{ZIN.3:SP}{ZIN.4:HP - UBO4 CLAIMS}{ZIN.5:Y}{ZIN.6:20150717}{ZIN.7:PPB}{ZIN.9:N}{ZIN.14:MDGA002}{ZCN.1:ZCN}{ZCN.2:1}{ZCN.3:201507201346}{ZCN.4:R.CA.BSF}{ZCN.5:MN PASSED}{ZCN.1:ZCN}{ZCN.2:2}{ZCN.3:201507201346}{ZCN.4:R.CA.BSF}{ZCN.5:DX 598.9}{ZCN.1:ZCN}{ZCN.2:3}{ZCN.3:201507201346}{ZCN.4:R.CA.BSF}{ZCN.5:CPT 52341 52276}{ZCS.1:ZCS}{ZCS.2:DIS}{ZCS.3.2:}{ZCS.4:N}{ZCS.5:DECLINED}{ZCS.6:DECLINED}{ZCS.7:08625}}\n"
     ]
    }
   ],
   "source": [
    "# Call the function for the msg3 record\n",
    "\n",
    "hl7_to_json(rec3)"
   ]
  }
 ],
 "metadata": {
  "kernelspec": {
   "display_name": "Python 2",
   "language": "python",
   "name": "python2"
  },
  "language_info": {
   "codemirror_mode": {
    "name": "ipython",
    "version": 2
   },
   "file_extension": ".py",
   "mimetype": "text/x-python",
   "name": "python",
   "nbconvert_exporter": "python",
   "pygments_lexer": "ipython2",
   "version": "2.7.10"
  }
 },
 "nbformat": 4,
 "nbformat_minor": 0
}
