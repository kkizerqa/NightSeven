{
 "cells": [
  {
   "cell_type": "markdown",
   "metadata": {},
   "source": [
    "### Night Seven assignment - import HL7 message and convert to JSON "
   ]
  },
  {
   "cell_type": "markdown",
   "metadata": {},
   "source": [
    "Conceptually, this assigment requires the following:  \n",
    "1. Read in the HL7 messages.\n",
    "2. Create an object capable of accomplishing the following:\n",
    "        a. Use the Segment identifiers as \"Keys\"     \n",
    "        b. Use the Fields as \"Values\"\n",
    "        c. Use Components with sub-components as \"sub-Values\""
   ]
  },
  {
   "cell_type": "code",
   "execution_count": 1,
   "metadata": {
    "collapsed": false
   },
   "outputs": [],
   "source": [
    "import os\n",
    "import pandas as pd\n",
    "from pandas import Series, DataFrame\n",
    "import numpy as np\n",
    "import csv\n",
    "import glob\n",
    "import io\n",
    "from xlsxwriter.workbook import Workbook\n",
    "from UserDict import UserDict\n",
    "import string\n",
    "import json"
   ]
  },
  {
   "cell_type": "code",
   "execution_count": 2,
   "metadata": {
    "collapsed": true
   },
   "outputs": [],
   "source": [
    "pd.set_option('display.mpl_style','default')\n"
   ]
  },
  {
   "cell_type": "markdown",
   "metadata": {},
   "source": [
    "Simple tuple creation - to see the results."
   ]
  },
  {
   "cell_type": "code",
   "execution_count": 3,
   "metadata": {
    "collapsed": false
   },
   "outputs": [
    {
     "name": "stdout",
     "output_type": "stream",
     "text": [
      "('name1', 1, 'sample1', '^', '|', 'name2', 2, 'sample2')\n"
     ]
    }
   ],
   "source": [
    "tuple_1 = ('name1', 1, 'sample1', '^', '|')\n",
    "tuple_2 = ('name2', 2, 'sample2')\n",
    "tuple_3 = tuple_1 + tuple_2\n",
    "print tuple_3"
   ]
  },
  {
   "cell_type": "markdown",
   "metadata": {},
   "source": [
    "Below - usually a good idea to read a file (or files) before importing it (them), to make sure it (they) contain(s) data, that the data is not corrupted, etc."
   ]
  },
  {
   "cell_type": "code",
   "execution_count": 4,
   "metadata": {
    "collapsed": false
   },
   "outputs": [
    {
     "data": {
      "text/html": [
       "<div>\n",
       "<table border=\"1\" class=\"dataframe\">\n",
       "  <thead>\n",
       "    <tr style=\"text-align: right;\">\n",
       "      <th></th>\n",
       "      <th>MSH|^~\\&amp;||ABCDE|||201507230021||ADT^A08|CAGTADM.1.10532994|P|2.1</th>\n",
       "    </tr>\n",
       "  </thead>\n",
       "  <tbody>\n",
       "    <tr>\n",
       "      <th>0</th>\n",
       "      <td>EVN|A08|201507230021|||R.CA.NAH^HALL^NANCY^A^^^</td>\n",
       "    </tr>\n",
       "    <tr>\n",
       "      <th>1</th>\n",
       "      <td>PID|1||V000042610|M88604|BARTON^CLINTON^FRANCI...</td>\n",
       "    </tr>\n",
       "    <tr>\n",
       "      <th>2</th>\n",
       "      <td>NK1|1|POSTEN^BOBBY^^^^|OT|102 S.H.E.I.L.D Floa...</td>\n",
       "    </tr>\n",
       "    <tr>\n",
       "      <th>3</th>\n",
       "      <td>NK1|2|POSTEN^BOBBY^^^^|OT|102 S.H.E.I.L.D Floa...</td>\n",
       "    </tr>\n",
       "    <tr>\n",
       "      <th>4</th>\n",
       "      <td>PV1|1|E|V.ER^^|EM|||WILSON^Wade^Deadpool^^^MD|...</td>\n",
       "    </tr>\n",
       "    <tr>\n",
       "      <th>5</th>\n",
       "      <td>AL1|1|DA|F000004181^tramadol HCl^From ULTRAM|M...</td>\n",
       "    </tr>\n",
       "    <tr>\n",
       "      <th>6</th>\n",
       "      <td>ACC|20150722^|11</td>\n",
       "    </tr>\n",
       "    <tr>\n",
       "      <th>7</th>\n",
       "      <td>GT1|1||BARTON^CLINTON^FRANCIS^^^||9 S.H.E.I.L....</td>\n",
       "    </tr>\n",
       "    <tr>\n",
       "      <th>8</th>\n",
       "      <td>GT1|2||^^^^^||^^^^^^^^|||||||||||^^^^</td>\n",
       "    </tr>\n",
       "    <tr>\n",
       "      <th>9</th>\n",
       "      <td>IN1|1|MDGA001||MEDICAID GA|PO BOX 5000^^MCRAE^...</td>\n",
       "    </tr>\n",
       "    <tr>\n",
       "      <th>10</th>\n",
       "      <td>ZMR|1|GH00426357~IL00806247~M000103533</td>\n",
       "    </tr>\n",
       "    <tr>\n",
       "      <th>11</th>\n",
       "      <td>ZCD|1|ETHNICITY^ETHNICITY^2</td>\n",
       "    </tr>\n",
       "    <tr>\n",
       "      <th>12</th>\n",
       "      <td>ZCD|2|Z.ADDLRACE^ADDITIONAL RACE^W</td>\n",
       "    </tr>\n",
       "    <tr>\n",
       "      <th>13</th>\n",
       "      <td>ZIN|1|SP|GHP|Y|20150723|PPI||N|||||MDGA001</td>\n",
       "    </tr>\n",
       "    <tr>\n",
       "      <th>14</th>\n",
       "      <td>ZCS|DIS|DISABLED^^DISABLED^GA^30092|N|NONE|NON...</td>\n",
       "    </tr>\n",
       "  </tbody>\n",
       "</table>\n",
       "</div>"
      ],
      "text/plain": [
       "   MSH|^~\\&||ABCDE|||201507230021||ADT^A08|CAGTADM.1.10532994|P|2.1\n",
       "0     EVN|A08|201507230021|||R.CA.NAH^HALL^NANCY^A^^^              \n",
       "1   PID|1||V000042610|M88604|BARTON^CLINTON^FRANCI...              \n",
       "2   NK1|1|POSTEN^BOBBY^^^^|OT|102 S.H.E.I.L.D Floa...              \n",
       "3   NK1|2|POSTEN^BOBBY^^^^|OT|102 S.H.E.I.L.D Floa...              \n",
       "4   PV1|1|E|V.ER^^|EM|||WILSON^Wade^Deadpool^^^MD|...              \n",
       "5   AL1|1|DA|F000004181^tramadol HCl^From ULTRAM|M...              \n",
       "6                                    ACC|20150722^|11              \n",
       "7   GT1|1||BARTON^CLINTON^FRANCIS^^^||9 S.H.E.I.L....              \n",
       "8               GT1|2||^^^^^||^^^^^^^^|||||||||||^^^^              \n",
       "9   IN1|1|MDGA001||MEDICAID GA|PO BOX 5000^^MCRAE^...              \n",
       "10             ZMR|1|GH00426357~IL00806247~M000103533              \n",
       "11                        ZCD|1|ETHNICITY^ETHNICITY^2              \n",
       "12                 ZCD|2|Z.ADDLRACE^ADDITIONAL RACE^W              \n",
       "13         ZIN|1|SP|GHP|Y|20150723|PPI||N|||||MDGA001              \n",
       "14  ZCS|DIS|DISABLED^^DISABLED^GA^30092|N|NONE|NON...              "
      ]
     },
     "execution_count": 4,
     "metadata": {},
     "output_type": "execute_result"
    }
   ],
   "source": [
    "pd.read_csv('C:\\Users\\Bill\\msg1.txt')"
   ]
  },
  {
   "cell_type": "code",
   "execution_count": 5,
   "metadata": {
    "collapsed": false
   },
   "outputs": [
    {
     "data": {
      "text/html": [
       "<div>\n",
       "<table border=\"1\" class=\"dataframe\">\n",
       "  <thead>\n",
       "    <tr style=\"text-align: right;\">\n",
       "      <th></th>\n",
       "      <th>MSH|^~\\&amp;||ABCDE|||201507221833||ADT^A08|CAGTADM.1.10532250|P|2.1</th>\n",
       "    </tr>\n",
       "  </thead>\n",
       "  <tbody>\n",
       "    <tr>\n",
       "      <th>0</th>\n",
       "      <td>EVN|A08|201507221833|||R.HIM.CLV^VEALS^CHENEKA...</td>\n",
       "    </tr>\n",
       "    <tr>\n",
       "      <th>1</th>\n",
       "      <td>PID|1||V000303465|V256537|ROMANOVA^NATALIA^ALI...</td>\n",
       "    </tr>\n",
       "    <tr>\n",
       "      <th>2</th>\n",
       "      <td>PV1|1|E|V.OBED^^|EM|||STRANGE^STEPHEN^VINCENT^...</td>\n",
       "    </tr>\n",
       "    <tr>\n",
       "      <th>3</th>\n",
       "      <td>ACC|20141030^|10</td>\n",
       "    </tr>\n",
       "    <tr>\n",
       "      <th>4</th>\n",
       "      <td>GT1|1||ROMANOVA^NATALIA^ALIANOVA^^^^||40 page ...</td>\n",
       "    </tr>\n",
       "    <tr>\n",
       "      <th>5</th>\n",
       "      <td>GT1|2||^^^^^||^^^^^^^^|||||||||||^^^^</td>\n",
       "    </tr>\n",
       "    <tr>\n",
       "      <th>6</th>\n",
       "      <td>IN1|1|MDGA001||MEDICAID GA|PO BOX 105204^^TUCK...</td>\n",
       "    </tr>\n",
       "    <tr>\n",
       "      <th>7</th>\n",
       "      <td>ZCD|1|ETHNICITY^ETHNICITY^2</td>\n",
       "    </tr>\n",
       "    <tr>\n",
       "      <th>8</th>\n",
       "      <td>ZIN|1|SP|HP - UB04 CLAIMS|N||||N|||||MDGA001</td>\n",
       "    </tr>\n",
       "    <tr>\n",
       "      <th>9</th>\n",
       "      <td>ZCS|UEMP|UNEMPLOYED^^UNEMPLOYED^GA^30092|U|NON...</td>\n",
       "    </tr>\n",
       "  </tbody>\n",
       "</table>\n",
       "</div>"
      ],
      "text/plain": [
       "  MSH|^~\\&||ABCDE|||201507221833||ADT^A08|CAGTADM.1.10532250|P|2.1\n",
       "0  EVN|A08|201507221833|||R.HIM.CLV^VEALS^CHENEKA...              \n",
       "1  PID|1||V000303465|V256537|ROMANOVA^NATALIA^ALI...              \n",
       "2  PV1|1|E|V.OBED^^|EM|||STRANGE^STEPHEN^VINCENT^...              \n",
       "3                                   ACC|20141030^|10              \n",
       "4  GT1|1||ROMANOVA^NATALIA^ALIANOVA^^^^||40 page ...              \n",
       "5              GT1|2||^^^^^||^^^^^^^^|||||||||||^^^^              \n",
       "6  IN1|1|MDGA001||MEDICAID GA|PO BOX 105204^^TUCK...              \n",
       "7                        ZCD|1|ETHNICITY^ETHNICITY^2              \n",
       "8       ZIN|1|SP|HP - UB04 CLAIMS|N||||N|||||MDGA001              \n",
       "9  ZCS|UEMP|UNEMPLOYED^^UNEMPLOYED^GA^30092|U|NON...              "
      ]
     },
     "execution_count": 5,
     "metadata": {},
     "output_type": "execute_result"
    }
   ],
   "source": [
    "pd.read_csv('C:\\Users\\Bill\\msg2.txt')"
   ]
  },
  {
   "cell_type": "markdown",
   "metadata": {},
   "source": [
    "msg3.txt must have an error; would not read without including 'error_bad_lines=False'"
   ]
  },
  {
   "cell_type": "code",
   "execution_count": 64,
   "metadata": {
    "collapsed": false
   },
   "outputs": [
    {
     "name": "stderr",
     "output_type": "stream",
     "text": [
      "Skipping line 4: expected 1 fields, saw 2\n",
      "Skipping line 5: expected 1 fields, saw 3\n",
      "Skipping line 6: expected 1 fields, saw 2\n",
      "\n"
     ]
    },
    {
     "data": {
      "text/html": [
       "<div>\n",
       "<table border=\"1\" class=\"dataframe\">\n",
       "  <thead>\n",
       "    <tr style=\"text-align: right;\">\n",
       "      <th></th>\n",
       "      <th>MSH|^~\\&amp;||ABCDE|||201507230002||ADT^A03|CAGTADM.1.10532923|P|2.1</th>\n",
       "    </tr>\n",
       "  </thead>\n",
       "  <tbody>\n",
       "    <tr>\n",
       "      <th>0</th>\n",
       "      <td>EVN|A03|201507230001|||MIDNT RUN^^^^^^</td>\n",
       "    </tr>\n",
       "    <tr>\n",
       "      <th>1</th>\n",
       "      <td>PID|1||V000027071|V24686|BANNER^ROBERT^BRUCE^^...</td>\n",
       "    </tr>\n",
       "    <tr>\n",
       "      <th>2</th>\n",
       "      <td>AL1|3|DA|F006004180^tramadol^TRAMADOL|SV|MAKES...</td>\n",
       "    </tr>\n",
       "    <tr>\n",
       "      <th>3</th>\n",
       "      <td>AL1|4|DA|F006004807^ondansetron^From ZOFRAN (A...</td>\n",
       "    </tr>\n",
       "    <tr>\n",
       "      <th>4</th>\n",
       "      <td>AL1|5|DA|F006004812^ketorolac^From TORADOL|SV|...</td>\n",
       "    </tr>\n",
       "    <tr>\n",
       "      <th>5</th>\n",
       "      <td>ACC|20150717^|11</td>\n",
       "    </tr>\n",
       "    <tr>\n",
       "      <th>6</th>\n",
       "      <td>GT1|1||BANNER^ROBERT^BRUCE^^^||31 simplement d...</td>\n",
       "    </tr>\n",
       "    <tr>\n",
       "      <th>7</th>\n",
       "      <td>GT1|2||^^^^^||^^^^^^^^|||||||||||^^^^</td>\n",
       "    </tr>\n",
       "    <tr>\n",
       "      <th>8</th>\n",
       "      <td>IN1|1|MACP051||MEDICARE A   B|CLAIMS DEPT^PO B...</td>\n",
       "    </tr>\n",
       "    <tr>\n",
       "      <th>9</th>\n",
       "      <td>IN1|2|MDGA002||MEDICAID GA SECONDARY|PO BOX 10...</td>\n",
       "    </tr>\n",
       "    <tr>\n",
       "      <th>10</th>\n",
       "      <td>ZMR|1|IL00799251~M000526547</td>\n",
       "    </tr>\n",
       "    <tr>\n",
       "      <th>11</th>\n",
       "      <td>ZCD|1|ETHNICITY^ETHNICITY^2</td>\n",
       "    </tr>\n",
       "    <tr>\n",
       "      <th>12</th>\n",
       "      <td>ZIN|1|SP|WPS MEDICARE PART A|Y|20150720|PPI||Y...</td>\n",
       "    </tr>\n",
       "    <tr>\n",
       "      <th>13</th>\n",
       "      <td>ZIN|2|SP|HP - UBO4 CLAIMS|Y|20150717|PPB||N|||...</td>\n",
       "    </tr>\n",
       "    <tr>\n",
       "      <th>14</th>\n",
       "      <td>ZCN|1|201507201346|R.CA.BSF|MN PASSED</td>\n",
       "    </tr>\n",
       "    <tr>\n",
       "      <th>15</th>\n",
       "      <td>ZCN|2|201507201346|R.CA.BSF|DX 598.9</td>\n",
       "    </tr>\n",
       "    <tr>\n",
       "      <th>16</th>\n",
       "      <td>ZCN|3|201507201346|R.CA.BSF|CPT 52341 52276</td>\n",
       "    </tr>\n",
       "    <tr>\n",
       "      <th>17</th>\n",
       "      <td>ZCS|DIS|DISABLED^^DISABLED^GA^30092|N|DECLINED...</td>\n",
       "    </tr>\n",
       "  </tbody>\n",
       "</table>\n",
       "</div>"
      ],
      "text/plain": [
       "   MSH|^~\\&||ABCDE|||201507230002||ADT^A03|CAGTADM.1.10532923|P|2.1\n",
       "0              EVN|A03|201507230001|||MIDNT RUN^^^^^^              \n",
       "1   PID|1||V000027071|V24686|BANNER^ROBERT^BRUCE^^...              \n",
       "2   AL1|3|DA|F006004180^tramadol^TRAMADOL|SV|MAKES...              \n",
       "3   AL1|4|DA|F006004807^ondansetron^From ZOFRAN (A...              \n",
       "4   AL1|5|DA|F006004812^ketorolac^From TORADOL|SV|...              \n",
       "5                                    ACC|20150717^|11              \n",
       "6   GT1|1||BANNER^ROBERT^BRUCE^^^||31 simplement d...              \n",
       "7               GT1|2||^^^^^||^^^^^^^^|||||||||||^^^^              \n",
       "8   IN1|1|MACP051||MEDICARE A   B|CLAIMS DEPT^PO B...              \n",
       "9   IN1|2|MDGA002||MEDICAID GA SECONDARY|PO BOX 10...              \n",
       "10                        ZMR|1|IL00799251~M000526547              \n",
       "11                        ZCD|1|ETHNICITY^ETHNICITY^2              \n",
       "12  ZIN|1|SP|WPS MEDICARE PART A|Y|20150720|PPI||Y...              \n",
       "13  ZIN|2|SP|HP - UBO4 CLAIMS|Y|20150717|PPB||N|||...              \n",
       "14              ZCN|1|201507201346|R.CA.BSF|MN PASSED              \n",
       "15               ZCN|2|201507201346|R.CA.BSF|DX 598.9              \n",
       "16        ZCN|3|201507201346|R.CA.BSF|CPT 52341 52276              \n",
       "17  ZCS|DIS|DISABLED^^DISABLED^GA^30092|N|DECLINED...              "
      ]
     },
     "execution_count": 64,
     "metadata": {},
     "output_type": "execute_result"
    }
   ],
   "source": [
    "pd.read_csv('C:\\Users\\Bill\\msg3.txt', error_bad_lines=False)"
   ]
  },
  {
   "cell_type": "markdown",
   "metadata": {},
   "source": [
    "#### 1. Tried a straight read using '|' as the delimiter, and with no header."
   ]
  },
  {
   "cell_type": "markdown",
   "metadata": {},
   "source": [
    "Code used: pd.read_table('C:\\Users\\Bill\\msg1.txt', sep='|', header=None)"
   ]
  },
  {
   "cell_type": "markdown",
   "metadata": {},
   "source": [
    "Gave a long error message. Last line was key: CParserError: error tokenizing data. C error: Expected 12 fields in line 3, saw 20."
   ]
  },
  {
   "cell_type": "markdown",
   "metadata": {},
   "source": [
    "Below - progress from the following links:\n",
    "http://stackoverflow.com/questions/18039057/python-pandas-error-tokenizing-data    "
   ]
  },
  {
   "cell_type": "code",
   "execution_count": 127,
   "metadata": {
    "collapsed": false
   },
   "outputs": [
    {
     "name": "stderr",
     "output_type": "stream",
     "text": [
      "Skipping line 3: expected 12 fields, saw 20\n",
      "Skipping line 6: expected 12 fields, saw 45\n",
      "Skipping line 9: expected 12 fields, saw 21\n",
      "Skipping line 10: expected 12 fields, saw 17\n",
      "Skipping line 11: expected 12 fields, saw 44\n",
      "Skipping line 15: expected 12 fields, saw 14\n",
      "\n"
     ]
    },
    {
     "data": {
      "text/html": [
       "<div>\n",
       "<table border=\"1\" class=\"dataframe\">\n",
       "  <thead>\n",
       "    <tr style=\"text-align: right;\">\n",
       "      <th></th>\n",
       "      <th>0</th>\n",
       "      <th>1</th>\n",
       "      <th>2</th>\n",
       "      <th>3</th>\n",
       "      <th>4</th>\n",
       "      <th>5</th>\n",
       "      <th>6</th>\n",
       "      <th>7</th>\n",
       "      <th>8</th>\n",
       "      <th>9</th>\n",
       "      <th>10</th>\n",
       "      <th>11</th>\n",
       "    </tr>\n",
       "  </thead>\n",
       "  <tbody>\n",
       "    <tr>\n",
       "      <th>0</th>\n",
       "      <td>MSH</td>\n",
       "      <td>^~\\&amp;</td>\n",
       "      <td>NaN</td>\n",
       "      <td>ABCDE</td>\n",
       "      <td>NaN</td>\n",
       "      <td>NaN</td>\n",
       "      <td>201507230021</td>\n",
       "      <td>NaN</td>\n",
       "      <td>ADT^A08</td>\n",
       "      <td>CAGTADM.1.10532994</td>\n",
       "      <td>P</td>\n",
       "      <td>2.1</td>\n",
       "    </tr>\n",
       "    <tr>\n",
       "      <th>1</th>\n",
       "      <td>EVN</td>\n",
       "      <td>A08</td>\n",
       "      <td>201507230021</td>\n",
       "      <td>NaN</td>\n",
       "      <td>NaN</td>\n",
       "      <td>R.CA.NAH^HALL^NANCY^A^^^</td>\n",
       "      <td>NaN</td>\n",
       "      <td>NaN</td>\n",
       "      <td>NaN</td>\n",
       "      <td>NaN</td>\n",
       "      <td>NaN</td>\n",
       "      <td>NaN</td>\n",
       "    </tr>\n",
       "    <tr>\n",
       "      <th>2</th>\n",
       "      <td>NK1</td>\n",
       "      <td>1</td>\n",
       "      <td>POSTEN^BOBBY^^^^</td>\n",
       "      <td>OT</td>\n",
       "      <td>102 S.H.E.I.L.D Floating Island^^CARTERSVILLE^...</td>\n",
       "      <td>(000)000-0000</td>\n",
       "      <td>(000)000-0000</td>\n",
       "      <td>NaN</td>\n",
       "      <td>NaN</td>\n",
       "      <td>NaN</td>\n",
       "      <td>NaN</td>\n",
       "      <td>NaN</td>\n",
       "    </tr>\n",
       "    <tr>\n",
       "      <th>3</th>\n",
       "      <td>NK1</td>\n",
       "      <td>2</td>\n",
       "      <td>POSTEN^BOBBY^^^^</td>\n",
       "      <td>OT</td>\n",
       "      <td>102 S.H.E.I.L.D Floating Island^^CARTERSVILLE^...</td>\n",
       "      <td>(000)000-0000</td>\n",
       "      <td>(000)000-0000</td>\n",
       "      <td>NaN</td>\n",
       "      <td>NaN</td>\n",
       "      <td>NaN</td>\n",
       "      <td>NaN</td>\n",
       "      <td>NaN</td>\n",
       "    </tr>\n",
       "    <tr>\n",
       "      <th>4</th>\n",
       "      <td>AL1</td>\n",
       "      <td>1</td>\n",
       "      <td>DA</td>\n",
       "      <td>F000004181^tramadol HCl^From ULTRAM</td>\n",
       "      <td>MO</td>\n",
       "      <td>JERKING</td>\n",
       "      <td>20140525</td>\n",
       "      <td>NaN</td>\n",
       "      <td>NaN</td>\n",
       "      <td>NaN</td>\n",
       "      <td>NaN</td>\n",
       "      <td>NaN</td>\n",
       "    </tr>\n",
       "    <tr>\n",
       "      <th>5</th>\n",
       "      <td>ACC</td>\n",
       "      <td>20150722^</td>\n",
       "      <td>11</td>\n",
       "      <td>NaN</td>\n",
       "      <td>NaN</td>\n",
       "      <td>NaN</td>\n",
       "      <td>NaN</td>\n",
       "      <td>NaN</td>\n",
       "      <td>NaN</td>\n",
       "      <td>NaN</td>\n",
       "      <td>NaN</td>\n",
       "      <td>NaN</td>\n",
       "    </tr>\n",
       "    <tr>\n",
       "      <th>6</th>\n",
       "      <td>ZMR</td>\n",
       "      <td>1</td>\n",
       "      <td>GH00426357~IL00806247~M000103533</td>\n",
       "      <td>NaN</td>\n",
       "      <td>NaN</td>\n",
       "      <td>NaN</td>\n",
       "      <td>NaN</td>\n",
       "      <td>NaN</td>\n",
       "      <td>NaN</td>\n",
       "      <td>NaN</td>\n",
       "      <td>NaN</td>\n",
       "      <td>NaN</td>\n",
       "    </tr>\n",
       "    <tr>\n",
       "      <th>7</th>\n",
       "      <td>ZCD</td>\n",
       "      <td>1</td>\n",
       "      <td>ETHNICITY^ETHNICITY^2</td>\n",
       "      <td>NaN</td>\n",
       "      <td>NaN</td>\n",
       "      <td>NaN</td>\n",
       "      <td>NaN</td>\n",
       "      <td>NaN</td>\n",
       "      <td>NaN</td>\n",
       "      <td>NaN</td>\n",
       "      <td>NaN</td>\n",
       "      <td>NaN</td>\n",
       "    </tr>\n",
       "    <tr>\n",
       "      <th>8</th>\n",
       "      <td>ZCD</td>\n",
       "      <td>2</td>\n",
       "      <td>Z.ADDLRACE^ADDITIONAL RACE^W</td>\n",
       "      <td>NaN</td>\n",
       "      <td>NaN</td>\n",
       "      <td>NaN</td>\n",
       "      <td>NaN</td>\n",
       "      <td>NaN</td>\n",
       "      <td>NaN</td>\n",
       "      <td>NaN</td>\n",
       "      <td>NaN</td>\n",
       "      <td>NaN</td>\n",
       "    </tr>\n",
       "    <tr>\n",
       "      <th>9</th>\n",
       "      <td>ZCS</td>\n",
       "      <td>DIS</td>\n",
       "      <td>DISABLED^^DISABLED^GA^30092</td>\n",
       "      <td>N</td>\n",
       "      <td>NONE</td>\n",
       "      <td>NONE</td>\n",
       "      <td>08625</td>\n",
       "      <td>NaN</td>\n",
       "      <td>NaN</td>\n",
       "      <td>NaN</td>\n",
       "      <td>NaN</td>\n",
       "      <td>NaN</td>\n",
       "    </tr>\n",
       "  </tbody>\n",
       "</table>\n",
       "</div>"
      ],
      "text/plain": [
       "    0          1                                 2   \\\n",
       "0  MSH       ^~\\&                               NaN   \n",
       "1  EVN        A08                      201507230021   \n",
       "2  NK1          1                  POSTEN^BOBBY^^^^   \n",
       "3  NK1          2                  POSTEN^BOBBY^^^^   \n",
       "4  AL1          1                                DA   \n",
       "5  ACC  20150722^                                11   \n",
       "6  ZMR          1  GH00426357~IL00806247~M000103533   \n",
       "7  ZCD          1             ETHNICITY^ETHNICITY^2   \n",
       "8  ZCD          2      Z.ADDLRACE^ADDITIONAL RACE^W   \n",
       "9  ZCS        DIS       DISABLED^^DISABLED^GA^30092   \n",
       "\n",
       "                                    3   \\\n",
       "0                                ABCDE   \n",
       "1                                  NaN   \n",
       "2                                   OT   \n",
       "3                                   OT   \n",
       "4  F000004181^tramadol HCl^From ULTRAM   \n",
       "5                                  NaN   \n",
       "6                                  NaN   \n",
       "7                                  NaN   \n",
       "8                                  NaN   \n",
       "9                                    N   \n",
       "\n",
       "                                                  4   \\\n",
       "0                                                NaN   \n",
       "1                                                NaN   \n",
       "2  102 S.H.E.I.L.D Floating Island^^CARTERSVILLE^...   \n",
       "3  102 S.H.E.I.L.D Floating Island^^CARTERSVILLE^...   \n",
       "4                                                 MO   \n",
       "5                                                NaN   \n",
       "6                                                NaN   \n",
       "7                                                NaN   \n",
       "8                                                NaN   \n",
       "9                                               NONE   \n",
       "\n",
       "                         5              6   7        8                   9   \\\n",
       "0                       NaN   201507230021 NaN  ADT^A08  CAGTADM.1.10532994   \n",
       "1  R.CA.NAH^HALL^NANCY^A^^^            NaN NaN      NaN                 NaN   \n",
       "2             (000)000-0000  (000)000-0000 NaN      NaN                 NaN   \n",
       "3             (000)000-0000  (000)000-0000 NaN      NaN                 NaN   \n",
       "4                   JERKING       20140525 NaN      NaN                 NaN   \n",
       "5                       NaN            NaN NaN      NaN                 NaN   \n",
       "6                       NaN            NaN NaN      NaN                 NaN   \n",
       "7                       NaN            NaN NaN      NaN                 NaN   \n",
       "8                       NaN            NaN NaN      NaN                 NaN   \n",
       "9                      NONE          08625 NaN      NaN                 NaN   \n",
       "\n",
       "    10   11  \n",
       "0    P  2.1  \n",
       "1  NaN  NaN  \n",
       "2  NaN  NaN  \n",
       "3  NaN  NaN  \n",
       "4  NaN  NaN  \n",
       "5  NaN  NaN  \n",
       "6  NaN  NaN  \n",
       "7  NaN  NaN  \n",
       "8  NaN  NaN  \n",
       "9  NaN  NaN  "
      ]
     },
     "execution_count": 127,
     "metadata": {},
     "output_type": "execute_result"
    }
   ],
   "source": [
    "pd.read_table('C:\\Users\\Bill\\msg1.txt', header=None, sep='|', error_bad_lines=False)\n",
    "#pd.read_table('C:\\Users\\Bill\\msg1.txt', header=None, sep='|', na_values=['NULL']) - did not work to fill in values"
   ]
  },
  {
   "cell_type": "markdown",
   "metadata": {},
   "source": [
    "Spent some time researching how to fill in the missing data with nulls, and then decided that was not the way to go, as I was not sure how I would take it back out. After considering difference options, including exporting the HL7 files to Excel workbooks to fill in missing values, I decided to create tuples, using the Excel dialect. I discovered that the '|' delimeter was not necessary for this step."
   ]
  },
  {
   "cell_type": "markdown",
   "metadata": {},
   "source": [
    "http://stackoverflow.com/questions/15616139/create-a-list-of-tuples-from-csv-file"
   ]
  },
  {
   "cell_type": "code",
   "execution_count": 97,
   "metadata": {
    "collapsed": false
   },
   "outputs": [
    {
     "data": {
      "text/html": [
       "<div>\n",
       "<table border=\"1\" class=\"dataframe\">\n",
       "  <thead>\n",
       "    <tr style=\"text-align: right;\">\n",
       "      <th></th>\n",
       "      <th>0</th>\n",
       "    </tr>\n",
       "  </thead>\n",
       "  <tbody>\n",
       "    <tr>\n",
       "      <th>0</th>\n",
       "      <td>MSH|^~\\&amp;||ABCDE|||201507230021||ADT^A08|CAGTAD...</td>\n",
       "    </tr>\n",
       "    <tr>\n",
       "      <th>1</th>\n",
       "      <td>EVN|A08|201507230021|||R.CA.NAH^HALL^NANCY^A^^^</td>\n",
       "    </tr>\n",
       "    <tr>\n",
       "      <th>2</th>\n",
       "      <td>PID|1||V000042610|M88604|BARTON^CLINTON^FRANCI...</td>\n",
       "    </tr>\n",
       "    <tr>\n",
       "      <th>3</th>\n",
       "      <td>NK1|1|POSTEN^BOBBY^^^^|OT|102 S.H.E.I.L.D Floa...</td>\n",
       "    </tr>\n",
       "    <tr>\n",
       "      <th>4</th>\n",
       "      <td>NK1|2|POSTEN^BOBBY^^^^|OT|102 S.H.E.I.L.D Floa...</td>\n",
       "    </tr>\n",
       "    <tr>\n",
       "      <th>5</th>\n",
       "      <td>PV1|1|E|V.ER^^|EM|||WILSON^Wade^Deadpool^^^MD|...</td>\n",
       "    </tr>\n",
       "    <tr>\n",
       "      <th>6</th>\n",
       "      <td>AL1|1|DA|F000004181^tramadol HCl^From ULTRAM|M...</td>\n",
       "    </tr>\n",
       "    <tr>\n",
       "      <th>7</th>\n",
       "      <td>ACC|20150722^|11</td>\n",
       "    </tr>\n",
       "    <tr>\n",
       "      <th>8</th>\n",
       "      <td>GT1|1||BARTON^CLINTON^FRANCIS^^^||9 S.H.E.I.L....</td>\n",
       "    </tr>\n",
       "    <tr>\n",
       "      <th>9</th>\n",
       "      <td>GT1|2||^^^^^||^^^^^^^^|||||||||||^^^^</td>\n",
       "    </tr>\n",
       "    <tr>\n",
       "      <th>10</th>\n",
       "      <td>IN1|1|MDGA001||MEDICAID GA|PO BOX 5000^^MCRAE^...</td>\n",
       "    </tr>\n",
       "    <tr>\n",
       "      <th>11</th>\n",
       "      <td>ZMR|1|GH00426357~IL00806247~M000103533</td>\n",
       "    </tr>\n",
       "    <tr>\n",
       "      <th>12</th>\n",
       "      <td>ZCD|1|ETHNICITY^ETHNICITY^2</td>\n",
       "    </tr>\n",
       "    <tr>\n",
       "      <th>13</th>\n",
       "      <td>ZCD|2|Z.ADDLRACE^ADDITIONAL RACE^W</td>\n",
       "    </tr>\n",
       "    <tr>\n",
       "      <th>14</th>\n",
       "      <td>ZIN|1|SP|GHP|Y|20150723|PPI||N|||||MDGA001</td>\n",
       "    </tr>\n",
       "    <tr>\n",
       "      <th>15</th>\n",
       "      <td>ZCS|DIS|DISABLED^^DISABLED^GA^30092|N|NONE|NON...</td>\n",
       "    </tr>\n",
       "  </tbody>\n",
       "</table>\n",
       "</div>"
      ],
      "text/plain": [
       "                                                    0\n",
       "0   MSH|^~\\&||ABCDE|||201507230021||ADT^A08|CAGTAD...\n",
       "1     EVN|A08|201507230021|||R.CA.NAH^HALL^NANCY^A^^^\n",
       "2   PID|1||V000042610|M88604|BARTON^CLINTON^FRANCI...\n",
       "3   NK1|1|POSTEN^BOBBY^^^^|OT|102 S.H.E.I.L.D Floa...\n",
       "4   NK1|2|POSTEN^BOBBY^^^^|OT|102 S.H.E.I.L.D Floa...\n",
       "5   PV1|1|E|V.ER^^|EM|||WILSON^Wade^Deadpool^^^MD|...\n",
       "6   AL1|1|DA|F000004181^tramadol HCl^From ULTRAM|M...\n",
       "7                                    ACC|20150722^|11\n",
       "8   GT1|1||BARTON^CLINTON^FRANCIS^^^||9 S.H.E.I.L....\n",
       "9               GT1|2||^^^^^||^^^^^^^^|||||||||||^^^^\n",
       "10  IN1|1|MDGA001||MEDICAID GA|PO BOX 5000^^MCRAE^...\n",
       "11             ZMR|1|GH00426357~IL00806247~M000103533\n",
       "12                        ZCD|1|ETHNICITY^ETHNICITY^2\n",
       "13                 ZCD|2|Z.ADDLRACE^ADDITIONAL RACE^W\n",
       "14         ZIN|1|SP|GHP|Y|20150723|PPI||N|||||MDGA001\n",
       "15  ZCS|DIS|DISABLED^^DISABLED^GA^30092|N|NONE|NON..."
      ]
     },
     "execution_count": 97,
     "metadata": {},
     "output_type": "execute_result"
    }
   ],
   "source": [
    "tuple1 = (pd.read_table('C:\\Users\\Bill\\msg1.txt', header=None, dialect='excel'))\n",
    "tuple1"
   ]
  },
  {
   "cell_type": "code",
   "execution_count": 10,
   "metadata": {
    "collapsed": false
   },
   "outputs": [
    {
     "data": {
      "text/plain": [
       "Int64Index([0], dtype='int64')"
      ]
     },
     "execution_count": 10,
     "metadata": {},
     "output_type": "execute_result"
    }
   ],
   "source": [
    "tuple1.columns"
   ]
  },
  {
   "cell_type": "code",
   "execution_count": 82,
   "metadata": {
    "collapsed": false
   },
   "outputs": [
    {
     "name": "stdout",
     "output_type": "stream",
     "text": [
      "                                                    0\n",
      "0   MSH|^~\\&||ABCDE|||201507230021||ADT^A08|CAGTAD...\n",
      "1     EVN|A08|201507230021|||R.CA.NAH^HALL^NANCY^A^^^\n",
      "2   PID|1||V000042610|M88604|BARTON^CLINTON^FRANCI...\n",
      "3   NK1|1|POSTEN^BOBBY^^^^|OT|102 S.H.E.I.L.D Floa...\n",
      "4   NK1|2|POSTEN^BOBBY^^^^|OT|102 S.H.E.I.L.D Floa...\n",
      "5   PV1|1|E|V.ER^^|EM|||WILSON^Wade^Deadpool^^^MD|...\n",
      "6   AL1|1|DA|F000004181^tramadol HCl^From ULTRAM|M...\n",
      "7                                    ACC|20150722^|11\n",
      "8   GT1|1||BARTON^CLINTON^FRANCIS^^^||9 S.H.E.I.L....\n",
      "9               GT1|2||^^^^^||^^^^^^^^|||||||||||^^^^\n",
      "10  IN1|1|MDGA001||MEDICAID GA|PO BOX 5000^^MCRAE^...\n",
      "11             ZMR|1|GH00426357~IL00806247~M000103533\n",
      "12                        ZCD|1|ETHNICITY^ETHNICITY^2\n",
      "13                 ZCD|2|Z.ADDLRACE^ADDITIONAL RACE^W\n",
      "14         ZIN|1|SP|GHP|Y|20150723|PPI||N|||||MDGA001\n",
      "15  ZCS|DIS|DISABLED^^DISABLED^GA^30092|N|NONE|NON...\n"
     ]
    }
   ],
   "source": [
    "print tuple1"
   ]
  },
  {
   "cell_type": "markdown",
   "metadata": {},
   "source": [
    "Played around with trying creating lists as well. Could not figure out how to create two separate lists from either the HL7 text files (group designator to one list, the segments to another list), or from a tuple, to them merge into a dict. Later on, see that I resorted to cheating, by taking the original HL7 text file, and creating two new files, to create my two lists."
   ]
  },
  {
   "cell_type": "code",
   "execution_count": 99,
   "metadata": {
    "collapsed": false
   },
   "outputs": [
    {
     "data": {
      "text/plain": [
       "[                                                    0\n",
       " 0   MSH|^~\\&||ABCDE|||201507230021||ADT^A08|CAGTAD...\n",
       " 1     EVN|A08|201507230021|||R.CA.NAH^HALL^NANCY^A^^^\n",
       " 2   PID|1||V000042610|M88604|BARTON^CLINTON^FRANCI...\n",
       " 3   NK1|1|POSTEN^BOBBY^^^^|OT|102 S.H.E.I.L.D Floa...\n",
       " 4   NK1|2|POSTEN^BOBBY^^^^|OT|102 S.H.E.I.L.D Floa...\n",
       " 5   PV1|1|E|V.ER^^|EM|||WILSON^Wade^Deadpool^^^MD|...\n",
       " 6   AL1|1|DA|F000004181^tramadol HCl^From ULTRAM|M...\n",
       " 7                                    ACC|20150722^|11\n",
       " 8   GT1|1||BARTON^CLINTON^FRANCIS^^^||9 S.H.E.I.L....\n",
       " 9               GT1|2||^^^^^||^^^^^^^^|||||||||||^^^^\n",
       " 10  IN1|1|MDGA001||MEDICAID GA|PO BOX 5000^^MCRAE^...\n",
       " 11             ZMR|1|GH00426357~IL00806247~M000103533\n",
       " 12                        ZCD|1|ETHNICITY^ETHNICITY^2\n",
       " 13                 ZCD|2|Z.ADDLRACE^ADDITIONAL RACE^W\n",
       " 14         ZIN|1|SP|GHP|Y|20150723|PPI||N|||||MDGA001\n",
       " 15  ZCS|DIS|DISABLED^^DISABLED^GA^30092|N|NONE|NON...]"
      ]
     },
     "execution_count": 99,
     "metadata": {},
     "output_type": "execute_result"
    }
   ],
   "source": [
    "t1_list = [pd.read_table('C:\\Users\\Bill\\msg1.txt', header=None)]\n",
    "t1_list"
   ]
  },
  {
   "cell_type": "markdown",
   "metadata": {},
   "source": [
    "Repeat of steps takes with msg1.txt"
   ]
  },
  {
   "cell_type": "code",
   "execution_count": 84,
   "metadata": {
    "collapsed": false
   },
   "outputs": [
    {
     "data": {
      "text/html": [
       "<div>\n",
       "<table border=\"1\" class=\"dataframe\">\n",
       "  <thead>\n",
       "    <tr style=\"text-align: right;\">\n",
       "      <th></th>\n",
       "      <th>0</th>\n",
       "    </tr>\n",
       "  </thead>\n",
       "  <tbody>\n",
       "    <tr>\n",
       "      <th>0</th>\n",
       "      <td>MSH|^~\\&amp;||ABCDE|||201507221833||ADT^A08|CAGTAD...</td>\n",
       "    </tr>\n",
       "    <tr>\n",
       "      <th>1</th>\n",
       "      <td>EVN|A08|201507221833|||R.HIM.CLV^VEALS^CHENEKA...</td>\n",
       "    </tr>\n",
       "    <tr>\n",
       "      <th>2</th>\n",
       "      <td>PID|1||V000303465|V256537|ROMANOVA^NATALIA^ALI...</td>\n",
       "    </tr>\n",
       "    <tr>\n",
       "      <th>3</th>\n",
       "      <td>PV1|1|E|V.OBED^^|EM|||STRANGE^STEPHEN^VINCENT^...</td>\n",
       "    </tr>\n",
       "    <tr>\n",
       "      <th>4</th>\n",
       "      <td>ACC|20141030^|10</td>\n",
       "    </tr>\n",
       "    <tr>\n",
       "      <th>5</th>\n",
       "      <td>GT1|1||ROMANOVA^NATALIA^ALIANOVA^^^^||40 page ...</td>\n",
       "    </tr>\n",
       "    <tr>\n",
       "      <th>6</th>\n",
       "      <td>GT1|2||^^^^^||^^^^^^^^|||||||||||^^^^</td>\n",
       "    </tr>\n",
       "    <tr>\n",
       "      <th>7</th>\n",
       "      <td>IN1|1|MDGA001||MEDICAID GA|PO BOX 105204^^TUCK...</td>\n",
       "    </tr>\n",
       "    <tr>\n",
       "      <th>8</th>\n",
       "      <td>ZCD|1|ETHNICITY^ETHNICITY^2</td>\n",
       "    </tr>\n",
       "    <tr>\n",
       "      <th>9</th>\n",
       "      <td>ZIN|1|SP|HP - UB04 CLAIMS|N||||N|||||MDGA001</td>\n",
       "    </tr>\n",
       "    <tr>\n",
       "      <th>10</th>\n",
       "      <td>ZCS|UEMP|UNEMPLOYED^^UNEMPLOYED^GA^30092|U|NON...</td>\n",
       "    </tr>\n",
       "  </tbody>\n",
       "</table>\n",
       "</div>"
      ],
      "text/plain": [
       "                                                    0\n",
       "0   MSH|^~\\&||ABCDE|||201507221833||ADT^A08|CAGTAD...\n",
       "1   EVN|A08|201507221833|||R.HIM.CLV^VEALS^CHENEKA...\n",
       "2   PID|1||V000303465|V256537|ROMANOVA^NATALIA^ALI...\n",
       "3   PV1|1|E|V.OBED^^|EM|||STRANGE^STEPHEN^VINCENT^...\n",
       "4                                    ACC|20141030^|10\n",
       "5   GT1|1||ROMANOVA^NATALIA^ALIANOVA^^^^||40 page ...\n",
       "6               GT1|2||^^^^^||^^^^^^^^|||||||||||^^^^\n",
       "7   IN1|1|MDGA001||MEDICAID GA|PO BOX 105204^^TUCK...\n",
       "8                         ZCD|1|ETHNICITY^ETHNICITY^2\n",
       "9        ZIN|1|SP|HP - UB04 CLAIMS|N||||N|||||MDGA001\n",
       "10  ZCS|UEMP|UNEMPLOYED^^UNEMPLOYED^GA^30092|U|NON..."
      ]
     },
     "execution_count": 84,
     "metadata": {},
     "output_type": "execute_result"
    }
   ],
   "source": [
    "tuple2 = (pd.read_table('C:\\Users\\Bill\\msg2.txt', header=None, dialect='excel'))\n",
    "tuple2"
   ]
  },
  {
   "cell_type": "code",
   "execution_count": 13,
   "metadata": {
    "collapsed": false
   },
   "outputs": [
    {
     "data": {
      "text/plain": [
       "Int64Index([0], dtype='int64')"
      ]
     },
     "execution_count": 13,
     "metadata": {},
     "output_type": "execute_result"
    }
   ],
   "source": [
    "tuple2.columns"
   ]
  },
  {
   "cell_type": "code",
   "execution_count": 85,
   "metadata": {
    "collapsed": false
   },
   "outputs": [
    {
     "name": "stdout",
     "output_type": "stream",
     "text": [
      "                                                    0\n",
      "0   MSH|^~\\&||ABCDE|||201507221833||ADT^A08|CAGTAD...\n",
      "1   EVN|A08|201507221833|||R.HIM.CLV^VEALS^CHENEKA...\n",
      "2   PID|1||V000303465|V256537|ROMANOVA^NATALIA^ALI...\n",
      "3   PV1|1|E|V.OBED^^|EM|||STRANGE^STEPHEN^VINCENT^...\n",
      "4                                    ACC|20141030^|10\n",
      "5   GT1|1||ROMANOVA^NATALIA^ALIANOVA^^^^||40 page ...\n",
      "6               GT1|2||^^^^^||^^^^^^^^|||||||||||^^^^\n",
      "7   IN1|1|MDGA001||MEDICAID GA|PO BOX 105204^^TUCK...\n",
      "8                         ZCD|1|ETHNICITY^ETHNICITY^2\n",
      "9        ZIN|1|SP|HP - UB04 CLAIMS|N||||N|||||MDGA001\n",
      "10  ZCS|UEMP|UNEMPLOYED^^UNEMPLOYED^GA^30092|U|NON...\n"
     ]
    }
   ],
   "source": [
    "print tuple2"
   ]
  },
  {
   "cell_type": "code",
   "execution_count": 86,
   "metadata": {
    "collapsed": false
   },
   "outputs": [
    {
     "data": {
      "text/plain": [
       "[                                                    0\n",
       " 0   MSH|^~\\&||ABCDE|||201507221833||ADT^A08|CAGTAD...\n",
       " 1   EVN|A08|201507221833|||R.HIM.CLV^VEALS^CHENEKA...\n",
       " 2   PID|1||V000303465|V256537|ROMANOVA^NATALIA^ALI...\n",
       " 3   PV1|1|E|V.OBED^^|EM|||STRANGE^STEPHEN^VINCENT^...\n",
       " 4                                    ACC|20141030^|10\n",
       " 5   GT1|1||ROMANOVA^NATALIA^ALIANOVA^^^^||40 page ...\n",
       " 6               GT1|2||^^^^^||^^^^^^^^|||||||||||^^^^\n",
       " 7   IN1|1|MDGA001||MEDICAID GA|PO BOX 105204^^TUCK...\n",
       " 8                         ZCD|1|ETHNICITY^ETHNICITY^2\n",
       " 9        ZIN|1|SP|HP - UB04 CLAIMS|N||||N|||||MDGA001\n",
       " 10  ZCS|UEMP|UNEMPLOYED^^UNEMPLOYED^GA^30092|U|NON...]"
      ]
     },
     "execution_count": 86,
     "metadata": {},
     "output_type": "execute_result"
    }
   ],
   "source": [
    "t2_list = [pd.read_table('C:\\Users\\Bill\\msg2.txt', header=None)]\n",
    "t2_list"
   ]
  },
  {
   "cell_type": "markdown",
   "metadata": {},
   "source": [
    "####  This is where I started \"cheating,\" by creating separate HL7 text files. One for the group, one for the segment. Imported each into it's own list, and also it's own tuple."
   ]
  },
  {
   "cell_type": "code",
   "execution_count": 102,
   "metadata": {
    "collapsed": false
   },
   "outputs": [
    {
     "data": {
      "text/plain": [
       "[      0\n",
       " 0   MSH\n",
       " 1   EVN\n",
       " 2   PID\n",
       " 3   NK1\n",
       " 4   NK1\n",
       " 5   PV1\n",
       " 6   AL1\n",
       " 7   ACC\n",
       " 8   GT1\n",
       " 9   GT1\n",
       " 10  IN1\n",
       " 11  ZMR\n",
       " 12  ZCD\n",
       " 13  ZCD\n",
       " 14  ZIN\n",
       " 15  ZCS]"
      ]
     },
     "execution_count": 102,
     "metadata": {},
     "output_type": "execute_result"
    }
   ],
   "source": [
    "t1_grp_lst = [pd.read_csv('C:\\Users\\Bill\\msg1_grp.txt', header=None)]\n",
    "t1_grp_lst"
   ]
  },
  {
   "cell_type": "code",
   "execution_count": 103,
   "metadata": {
    "collapsed": false
   },
   "outputs": [
    {
     "data": {
      "text/html": [
       "<div>\n",
       "<table border=\"1\" class=\"dataframe\">\n",
       "  <thead>\n",
       "    <tr style=\"text-align: right;\">\n",
       "      <th></th>\n",
       "      <th>0</th>\n",
       "    </tr>\n",
       "  </thead>\n",
       "  <tbody>\n",
       "    <tr>\n",
       "      <th>0</th>\n",
       "      <td>MSH</td>\n",
       "    </tr>\n",
       "    <tr>\n",
       "      <th>1</th>\n",
       "      <td>EVN</td>\n",
       "    </tr>\n",
       "    <tr>\n",
       "      <th>2</th>\n",
       "      <td>PID</td>\n",
       "    </tr>\n",
       "    <tr>\n",
       "      <th>3</th>\n",
       "      <td>NK1</td>\n",
       "    </tr>\n",
       "    <tr>\n",
       "      <th>4</th>\n",
       "      <td>NK1</td>\n",
       "    </tr>\n",
       "    <tr>\n",
       "      <th>5</th>\n",
       "      <td>PV1</td>\n",
       "    </tr>\n",
       "    <tr>\n",
       "      <th>6</th>\n",
       "      <td>AL1</td>\n",
       "    </tr>\n",
       "    <tr>\n",
       "      <th>7</th>\n",
       "      <td>ACC</td>\n",
       "    </tr>\n",
       "    <tr>\n",
       "      <th>8</th>\n",
       "      <td>GT1</td>\n",
       "    </tr>\n",
       "    <tr>\n",
       "      <th>9</th>\n",
       "      <td>GT1</td>\n",
       "    </tr>\n",
       "    <tr>\n",
       "      <th>10</th>\n",
       "      <td>IN1</td>\n",
       "    </tr>\n",
       "    <tr>\n",
       "      <th>11</th>\n",
       "      <td>ZMR</td>\n",
       "    </tr>\n",
       "    <tr>\n",
       "      <th>12</th>\n",
       "      <td>ZCD</td>\n",
       "    </tr>\n",
       "    <tr>\n",
       "      <th>13</th>\n",
       "      <td>ZCD</td>\n",
       "    </tr>\n",
       "    <tr>\n",
       "      <th>14</th>\n",
       "      <td>ZIN</td>\n",
       "    </tr>\n",
       "    <tr>\n",
       "      <th>15</th>\n",
       "      <td>ZCS</td>\n",
       "    </tr>\n",
       "  </tbody>\n",
       "</table>\n",
       "</div>"
      ],
      "text/plain": [
       "      0\n",
       "0   MSH\n",
       "1   EVN\n",
       "2   PID\n",
       "3   NK1\n",
       "4   NK1\n",
       "5   PV1\n",
       "6   AL1\n",
       "7   ACC\n",
       "8   GT1\n",
       "9   GT1\n",
       "10  IN1\n",
       "11  ZMR\n",
       "12  ZCD\n",
       "13  ZCD\n",
       "14  ZIN\n",
       "15  ZCS"
      ]
     },
     "execution_count": 103,
     "metadata": {},
     "output_type": "execute_result"
    }
   ],
   "source": [
    "t1_grp_tup = (pd.read_csv('C:\\Users\\Bill\\msg1_grp.txt', header=None))\n",
    "t1_grp_tup"
   ]
  },
  {
   "cell_type": "code",
   "execution_count": 104,
   "metadata": {
    "collapsed": false
   },
   "outputs": [
    {
     "data": {
      "text/plain": [
       "[                                                    0\n",
       " 0   ^~\\&||ABCDE|||201507230021||ADT^A08|CAGTADM.1....\n",
       " 1         A08|201507230021|||R.CA.NAH^HALL^NANCY^A^^^\n",
       " 2   1||V000042610|M88604|BARTON^CLINTON^FRANCIS^^^...\n",
       " 3   1|POSTEN^BOBBY^^^^|OT|102 S.H.E.I.L.D Floating...\n",
       " 4   2|POSTEN^BOBBY^^^^|OT|102 S.H.E.I.L.D Floating...\n",
       " 5   1|E|V.ER^^|EM|||WILSON^Wade^Deadpool^^^MD|.SEL...\n",
       " 6   1|DA|F000004181^tramadol HCl^From ULTRAM|MO|JE...\n",
       " 7                                        20150722^|11\n",
       " 8   1||BARTON^CLINTON^FRANCIS^^^||9 S.H.E.I.L.D Tr...\n",
       " 9                   2||^^^^^||^^^^^^^^|||||||||||^^^^\n",
       " 10  1|MDGA001||MEDICAID GA|PO BOX 5000^^MCRAE^GA^3...\n",
       " 11                 1|GH00426357~IL00806247~M000103533\n",
       " 12                            1|ETHNICITY^ETHNICITY^2\n",
       " 13                     2|Z.ADDLRACE^ADDITIONAL RACE^W\n",
       " 14             1|SP|GHP|Y|20150723|PPI||N|||||MDGA001\n",
       " 15  DIS|DISABLED^^DISABLED^GA^30092|N|NONE|NONE|08625]"
      ]
     },
     "execution_count": 104,
     "metadata": {},
     "output_type": "execute_result"
    }
   ],
   "source": [
    "t1_seg_lst = [pd.read_csv('C:\\Users\\Bill\\msg1_seg.txt', header=None)]\n",
    "t1_seg_lst"
   ]
  },
  {
   "cell_type": "code",
   "execution_count": 125,
   "metadata": {
    "collapsed": false
   },
   "outputs": [
    {
     "data": {
      "text/html": [
       "<div>\n",
       "<table border=\"1\" class=\"dataframe\">\n",
       "  <thead>\n",
       "    <tr style=\"text-align: right;\">\n",
       "      <th></th>\n",
       "      <th>0</th>\n",
       "    </tr>\n",
       "  </thead>\n",
       "  <tbody>\n",
       "    <tr>\n",
       "      <th>0</th>\n",
       "      <td>^~\\&amp;||ABCDE|||201507230021||ADT^A08|CAGTADM.1....</td>\n",
       "    </tr>\n",
       "    <tr>\n",
       "      <th>1</th>\n",
       "      <td>A08|201507230021|||R.CA.NAH^HALL^NANCY^A^^^</td>\n",
       "    </tr>\n",
       "    <tr>\n",
       "      <th>2</th>\n",
       "      <td>1||V000042610|M88604|BARTON^CLINTON^FRANCIS^^^...</td>\n",
       "    </tr>\n",
       "    <tr>\n",
       "      <th>3</th>\n",
       "      <td>1|POSTEN^BOBBY^^^^|OT|102 S.H.E.I.L.D Floating...</td>\n",
       "    </tr>\n",
       "    <tr>\n",
       "      <th>4</th>\n",
       "      <td>2|POSTEN^BOBBY^^^^|OT|102 S.H.E.I.L.D Floating...</td>\n",
       "    </tr>\n",
       "    <tr>\n",
       "      <th>5</th>\n",
       "      <td>1|E|V.ER^^|EM|||WILSON^Wade^Deadpool^^^MD|.SEL...</td>\n",
       "    </tr>\n",
       "    <tr>\n",
       "      <th>6</th>\n",
       "      <td>1|DA|F000004181^tramadol HCl^From ULTRAM|MO|JE...</td>\n",
       "    </tr>\n",
       "    <tr>\n",
       "      <th>7</th>\n",
       "      <td>20150722^|11</td>\n",
       "    </tr>\n",
       "    <tr>\n",
       "      <th>8</th>\n",
       "      <td>1||BARTON^CLINTON^FRANCIS^^^||9 S.H.E.I.L.D Tr...</td>\n",
       "    </tr>\n",
       "    <tr>\n",
       "      <th>9</th>\n",
       "      <td>2||^^^^^||^^^^^^^^|||||||||||^^^^</td>\n",
       "    </tr>\n",
       "    <tr>\n",
       "      <th>10</th>\n",
       "      <td>1|MDGA001||MEDICAID GA|PO BOX 5000^^MCRAE^GA^3...</td>\n",
       "    </tr>\n",
       "    <tr>\n",
       "      <th>11</th>\n",
       "      <td>1|GH00426357~IL00806247~M000103533</td>\n",
       "    </tr>\n",
       "    <tr>\n",
       "      <th>12</th>\n",
       "      <td>1|ETHNICITY^ETHNICITY^2</td>\n",
       "    </tr>\n",
       "    <tr>\n",
       "      <th>13</th>\n",
       "      <td>2|Z.ADDLRACE^ADDITIONAL RACE^W</td>\n",
       "    </tr>\n",
       "    <tr>\n",
       "      <th>14</th>\n",
       "      <td>1|SP|GHP|Y|20150723|PPI||N|||||MDGA001</td>\n",
       "    </tr>\n",
       "    <tr>\n",
       "      <th>15</th>\n",
       "      <td>DIS|DISABLED^^DISABLED^GA^30092|N|NONE|NONE|08625</td>\n",
       "    </tr>\n",
       "  </tbody>\n",
       "</table>\n",
       "</div>"
      ],
      "text/plain": [
       "                                                    0\n",
       "0   ^~\\&||ABCDE|||201507230021||ADT^A08|CAGTADM.1....\n",
       "1         A08|201507230021|||R.CA.NAH^HALL^NANCY^A^^^\n",
       "2   1||V000042610|M88604|BARTON^CLINTON^FRANCIS^^^...\n",
       "3   1|POSTEN^BOBBY^^^^|OT|102 S.H.E.I.L.D Floating...\n",
       "4   2|POSTEN^BOBBY^^^^|OT|102 S.H.E.I.L.D Floating...\n",
       "5   1|E|V.ER^^|EM|||WILSON^Wade^Deadpool^^^MD|.SEL...\n",
       "6   1|DA|F000004181^tramadol HCl^From ULTRAM|MO|JE...\n",
       "7                                        20150722^|11\n",
       "8   1||BARTON^CLINTON^FRANCIS^^^||9 S.H.E.I.L.D Tr...\n",
       "9                   2||^^^^^||^^^^^^^^|||||||||||^^^^\n",
       "10  1|MDGA001||MEDICAID GA|PO BOX 5000^^MCRAE^GA^3...\n",
       "11                 1|GH00426357~IL00806247~M000103533\n",
       "12                            1|ETHNICITY^ETHNICITY^2\n",
       "13                     2|Z.ADDLRACE^ADDITIONAL RACE^W\n",
       "14             1|SP|GHP|Y|20150723|PPI||N|||||MDGA001\n",
       "15  DIS|DISABLED^^DISABLED^GA^30092|N|NONE|NONE|08625"
      ]
     },
     "execution_count": 125,
     "metadata": {},
     "output_type": "execute_result"
    }
   ],
   "source": [
    "t1_seg_tup = (pd.read_csv('C:\\Users\\Bill\\msg1_seg.txt', header=None))\n",
    "t1_seg_tup"
   ]
  },
  {
   "cell_type": "markdown",
   "metadata": {},
   "source": [
    "Merged the two tuples into a single dataframe. http://stackoverflow.com/questions/21231834/creating-a-pandas-dataframe-from-columns-of-other-dataframes-with-similar-indexe"
   ]
  },
  {
   "cell_type": "markdown",
   "metadata": {},
   "source": [
    "Step to see if I can create the dictionary for msg1.txt. Answer: Nope..."
   ]
  },
  {
   "cell_type": "code",
   "execution_count": 117,
   "metadata": {
    "collapsed": false
   },
   "outputs": [
    {
     "ename": "TypeError",
     "evalue": "'DataFrame' objects are mutable, thus they cannot be hashed",
     "output_type": "error",
     "traceback": [
      "\u001b[1;31m---------------------------------------------------------------------------\u001b[0m",
      "\u001b[1;31mTypeError\u001b[0m                                 Traceback (most recent call last)",
      "\u001b[1;32m<ipython-input-117-5c9436ebd974>\u001b[0m in \u001b[0;36m<module>\u001b[1;34m()\u001b[0m\n\u001b[1;32m----> 1\u001b[1;33m \u001b[0mt1__lst_dict\u001b[0m \u001b[1;33m=\u001b[0m \u001b[0mdict\u001b[0m\u001b[1;33m(\u001b[0m\u001b[0mzip\u001b[0m\u001b[1;33m(\u001b[0m\u001b[0mt1_grp_lst\u001b[0m\u001b[1;33m,\u001b[0m \u001b[0mt1_seg_lst\u001b[0m\u001b[1;33m)\u001b[0m\u001b[1;33m)\u001b[0m\u001b[1;33m\u001b[0m\u001b[0m\n\u001b[0m\u001b[0;32m      2\u001b[0m \u001b[1;32mprint\u001b[0m \u001b[0mt1__lst_dict\u001b[0m\u001b[1;33m\u001b[0m\u001b[0m\n",
      "\u001b[1;32mC:\\ProgramFiles\\Anaconda230\\lib\\site-packages\\pandas\\core\\generic.pyc\u001b[0m in \u001b[0;36m__hash__\u001b[1;34m(self)\u001b[0m\n\u001b[0;32m    661\u001b[0m     \u001b[1;32mdef\u001b[0m \u001b[0m__hash__\u001b[0m\u001b[1;33m(\u001b[0m\u001b[0mself\u001b[0m\u001b[1;33m)\u001b[0m\u001b[1;33m:\u001b[0m\u001b[1;33m\u001b[0m\u001b[0m\n\u001b[0;32m    662\u001b[0m         raise TypeError('{0!r} objects are mutable, thus they cannot be'\n\u001b[1;32m--> 663\u001b[1;33m                         ' hashed'.format(self.__class__.__name__))\n\u001b[0m\u001b[0;32m    664\u001b[0m \u001b[1;33m\u001b[0m\u001b[0m\n\u001b[0;32m    665\u001b[0m     \u001b[1;32mdef\u001b[0m \u001b[0m__iter__\u001b[0m\u001b[1;33m(\u001b[0m\u001b[0mself\u001b[0m\u001b[1;33m)\u001b[0m\u001b[1;33m:\u001b[0m\u001b[1;33m\u001b[0m\u001b[0m\n",
      "\u001b[1;31mTypeError\u001b[0m: 'DataFrame' objects are mutable, thus they cannot be hashed"
     ]
    }
   ],
   "source": [
    "t1__lst_dict = dict(zip(t1_grp_lst, t1_seg_lst))\n",
    "print t1__lst_dict"
   ]
  },
  {
   "cell_type": "markdown",
   "metadata": {},
   "source": [
    "Merged the two lists into a single dataframe."
   ]
  },
  {
   "cell_type": "code",
   "execution_count": 109,
   "metadata": {
    "collapsed": false
   },
   "outputs": [
    {
     "data": {
      "text/html": [
       "<div>\n",
       "<table border=\"1\" class=\"dataframe\">\n",
       "  <thead>\n",
       "    <tr style=\"text-align: right;\">\n",
       "      <th></th>\n",
       "      <th>0</th>\n",
       "      <th>0</th>\n",
       "    </tr>\n",
       "  </thead>\n",
       "  <tbody>\n",
       "    <tr>\n",
       "      <th>0</th>\n",
       "      <td>MSH</td>\n",
       "      <td>^~\\&amp;||ABCDE|||201507230021||ADT^A08|CAGTADM.1....</td>\n",
       "    </tr>\n",
       "    <tr>\n",
       "      <th>1</th>\n",
       "      <td>EVN</td>\n",
       "      <td>A08|201507230021|||R.CA.NAH^HALL^NANCY^A^^^</td>\n",
       "    </tr>\n",
       "    <tr>\n",
       "      <th>2</th>\n",
       "      <td>PID</td>\n",
       "      <td>1||V000042610|M88604|BARTON^CLINTON^FRANCIS^^^...</td>\n",
       "    </tr>\n",
       "    <tr>\n",
       "      <th>3</th>\n",
       "      <td>NK1</td>\n",
       "      <td>1|POSTEN^BOBBY^^^^|OT|102 S.H.E.I.L.D Floating...</td>\n",
       "    </tr>\n",
       "    <tr>\n",
       "      <th>4</th>\n",
       "      <td>NK1</td>\n",
       "      <td>2|POSTEN^BOBBY^^^^|OT|102 S.H.E.I.L.D Floating...</td>\n",
       "    </tr>\n",
       "    <tr>\n",
       "      <th>5</th>\n",
       "      <td>PV1</td>\n",
       "      <td>1|E|V.ER^^|EM|||WILSON^Wade^Deadpool^^^MD|.SEL...</td>\n",
       "    </tr>\n",
       "    <tr>\n",
       "      <th>6</th>\n",
       "      <td>AL1</td>\n",
       "      <td>1|DA|F000004181^tramadol HCl^From ULTRAM|MO|JE...</td>\n",
       "    </tr>\n",
       "    <tr>\n",
       "      <th>7</th>\n",
       "      <td>ACC</td>\n",
       "      <td>20150722^|11</td>\n",
       "    </tr>\n",
       "    <tr>\n",
       "      <th>8</th>\n",
       "      <td>GT1</td>\n",
       "      <td>1||BARTON^CLINTON^FRANCIS^^^||9 S.H.E.I.L.D Tr...</td>\n",
       "    </tr>\n",
       "    <tr>\n",
       "      <th>9</th>\n",
       "      <td>GT1</td>\n",
       "      <td>2||^^^^^||^^^^^^^^|||||||||||^^^^</td>\n",
       "    </tr>\n",
       "    <tr>\n",
       "      <th>10</th>\n",
       "      <td>IN1</td>\n",
       "      <td>1|MDGA001||MEDICAID GA|PO BOX 5000^^MCRAE^GA^3...</td>\n",
       "    </tr>\n",
       "    <tr>\n",
       "      <th>11</th>\n",
       "      <td>ZMR</td>\n",
       "      <td>1|GH00426357~IL00806247~M000103533</td>\n",
       "    </tr>\n",
       "    <tr>\n",
       "      <th>12</th>\n",
       "      <td>ZCD</td>\n",
       "      <td>1|ETHNICITY^ETHNICITY^2</td>\n",
       "    </tr>\n",
       "    <tr>\n",
       "      <th>13</th>\n",
       "      <td>ZCD</td>\n",
       "      <td>2|Z.ADDLRACE^ADDITIONAL RACE^W</td>\n",
       "    </tr>\n",
       "    <tr>\n",
       "      <th>14</th>\n",
       "      <td>ZIN</td>\n",
       "      <td>1|SP|GHP|Y|20150723|PPI||N|||||MDGA001</td>\n",
       "    </tr>\n",
       "    <tr>\n",
       "      <th>15</th>\n",
       "      <td>ZCS</td>\n",
       "      <td>DIS|DISABLED^^DISABLED^GA^30092|N|NONE|NONE|08625</td>\n",
       "    </tr>\n",
       "  </tbody>\n",
       "</table>\n",
       "</div>"
      ],
      "text/plain": [
       "      0                                                  0\n",
       "0   MSH  ^~\\&||ABCDE|||201507230021||ADT^A08|CAGTADM.1....\n",
       "1   EVN        A08|201507230021|||R.CA.NAH^HALL^NANCY^A^^^\n",
       "2   PID  1||V000042610|M88604|BARTON^CLINTON^FRANCIS^^^...\n",
       "3   NK1  1|POSTEN^BOBBY^^^^|OT|102 S.H.E.I.L.D Floating...\n",
       "4   NK1  2|POSTEN^BOBBY^^^^|OT|102 S.H.E.I.L.D Floating...\n",
       "5   PV1  1|E|V.ER^^|EM|||WILSON^Wade^Deadpool^^^MD|.SEL...\n",
       "6   AL1  1|DA|F000004181^tramadol HCl^From ULTRAM|MO|JE...\n",
       "7   ACC                                       20150722^|11\n",
       "8   GT1  1||BARTON^CLINTON^FRANCIS^^^||9 S.H.E.I.L.D Tr...\n",
       "9   GT1                  2||^^^^^||^^^^^^^^|||||||||||^^^^\n",
       "10  IN1  1|MDGA001||MEDICAID GA|PO BOX 5000^^MCRAE^GA^3...\n",
       "11  ZMR                 1|GH00426357~IL00806247~M000103533\n",
       "12  ZCD                            1|ETHNICITY^ETHNICITY^2\n",
       "13  ZCD                     2|Z.ADDLRACE^ADDITIONAL RACE^W\n",
       "14  ZIN             1|SP|GHP|Y|20150723|PPI||N|||||MDGA001\n",
       "15  ZCS  DIS|DISABLED^^DISABLED^GA^30092|N|NONE|NONE|08625"
      ]
     },
     "execution_count": 109,
     "metadata": {},
     "output_type": "execute_result"
    }
   ],
   "source": [
    "#t1_mrg_tup = pd.concat([t1_grp_tup, t1_seg_tup], axis=1, keys=['grp', 'seg'])\n",
    "t1_mrg_tup = pd.concat([t1_grp_tup, t1_seg_tup], axis=1)\n",
    "t1_mrg_tup"
   ]
  },
  {
   "cell_type": "code",
   "execution_count": 121,
   "metadata": {
    "collapsed": false
   },
   "outputs": [
    {
     "data": {
      "text/html": [
       "<div>\n",
       "<table border=\"1\" class=\"dataframe\">\n",
       "  <thead>\n",
       "    <tr style=\"text-align: right;\">\n",
       "      <th></th>\n",
       "      <th>0</th>\n",
       "      <th>0</th>\n",
       "    </tr>\n",
       "  </thead>\n",
       "  <tbody>\n",
       "    <tr>\n",
       "      <th>0</th>\n",
       "      <td>MSH</td>\n",
       "      <td>^~\\&amp;||ABCDE|||201507230021||ADT^A08|CAGTADM.1....</td>\n",
       "    </tr>\n",
       "    <tr>\n",
       "      <th>1</th>\n",
       "      <td>EVN</td>\n",
       "      <td>A08|201507230021|||R.CA.NAH^HALL^NANCY^A^^^</td>\n",
       "    </tr>\n",
       "    <tr>\n",
       "      <th>2</th>\n",
       "      <td>PID</td>\n",
       "      <td>1||V000042610|M88604|BARTON^CLINTON^FRANCIS^^^...</td>\n",
       "    </tr>\n",
       "    <tr>\n",
       "      <th>3</th>\n",
       "      <td>NK1</td>\n",
       "      <td>1|POSTEN^BOBBY^^^^|OT|102 S.H.E.I.L.D Floating...</td>\n",
       "    </tr>\n",
       "    <tr>\n",
       "      <th>4</th>\n",
       "      <td>NK1</td>\n",
       "      <td>2|POSTEN^BOBBY^^^^|OT|102 S.H.E.I.L.D Floating...</td>\n",
       "    </tr>\n",
       "    <tr>\n",
       "      <th>5</th>\n",
       "      <td>PV1</td>\n",
       "      <td>1|E|V.ER^^|EM|||WILSON^Wade^Deadpool^^^MD|.SEL...</td>\n",
       "    </tr>\n",
       "    <tr>\n",
       "      <th>6</th>\n",
       "      <td>AL1</td>\n",
       "      <td>1|DA|F000004181^tramadol HCl^From ULTRAM|MO|JE...</td>\n",
       "    </tr>\n",
       "    <tr>\n",
       "      <th>7</th>\n",
       "      <td>ACC</td>\n",
       "      <td>20150722^|11</td>\n",
       "    </tr>\n",
       "    <tr>\n",
       "      <th>8</th>\n",
       "      <td>GT1</td>\n",
       "      <td>1||BARTON^CLINTON^FRANCIS^^^||9 S.H.E.I.L.D Tr...</td>\n",
       "    </tr>\n",
       "    <tr>\n",
       "      <th>9</th>\n",
       "      <td>GT1</td>\n",
       "      <td>2||^^^^^||^^^^^^^^|||||||||||^^^^</td>\n",
       "    </tr>\n",
       "    <tr>\n",
       "      <th>10</th>\n",
       "      <td>IN1</td>\n",
       "      <td>1|MDGA001||MEDICAID GA|PO BOX 5000^^MCRAE^GA^3...</td>\n",
       "    </tr>\n",
       "    <tr>\n",
       "      <th>11</th>\n",
       "      <td>ZMR</td>\n",
       "      <td>1|GH00426357~IL00806247~M000103533</td>\n",
       "    </tr>\n",
       "    <tr>\n",
       "      <th>12</th>\n",
       "      <td>ZCD</td>\n",
       "      <td>1|ETHNICITY^ETHNICITY^2</td>\n",
       "    </tr>\n",
       "    <tr>\n",
       "      <th>13</th>\n",
       "      <td>ZCD</td>\n",
       "      <td>2|Z.ADDLRACE^ADDITIONAL RACE^W</td>\n",
       "    </tr>\n",
       "    <tr>\n",
       "      <th>14</th>\n",
       "      <td>ZIN</td>\n",
       "      <td>1|SP|GHP|Y|20150723|PPI||N|||||MDGA001</td>\n",
       "    </tr>\n",
       "    <tr>\n",
       "      <th>15</th>\n",
       "      <td>ZCS</td>\n",
       "      <td>DIS|DISABLED^^DISABLED^GA^30092|N|NONE|NONE|08625</td>\n",
       "    </tr>\n",
       "  </tbody>\n",
       "</table>\n",
       "</div>"
      ],
      "text/plain": [
       "      0                                                  0\n",
       "0   MSH  ^~\\&||ABCDE|||201507230021||ADT^A08|CAGTADM.1....\n",
       "1   EVN        A08|201507230021|||R.CA.NAH^HALL^NANCY^A^^^\n",
       "2   PID  1||V000042610|M88604|BARTON^CLINTON^FRANCIS^^^...\n",
       "3   NK1  1|POSTEN^BOBBY^^^^|OT|102 S.H.E.I.L.D Floating...\n",
       "4   NK1  2|POSTEN^BOBBY^^^^|OT|102 S.H.E.I.L.D Floating...\n",
       "5   PV1  1|E|V.ER^^|EM|||WILSON^Wade^Deadpool^^^MD|.SEL...\n",
       "6   AL1  1|DA|F000004181^tramadol HCl^From ULTRAM|MO|JE...\n",
       "7   ACC                                       20150722^|11\n",
       "8   GT1  1||BARTON^CLINTON^FRANCIS^^^||9 S.H.E.I.L.D Tr...\n",
       "9   GT1                  2||^^^^^||^^^^^^^^|||||||||||^^^^\n",
       "10  IN1  1|MDGA001||MEDICAID GA|PO BOX 5000^^MCRAE^GA^3...\n",
       "11  ZMR                 1|GH00426357~IL00806247~M000103533\n",
       "12  ZCD                            1|ETHNICITY^ETHNICITY^2\n",
       "13  ZCD                     2|Z.ADDLRACE^ADDITIONAL RACE^W\n",
       "14  ZIN             1|SP|GHP|Y|20150723|PPI||N|||||MDGA001\n",
       "15  ZCS  DIS|DISABLED^^DISABLED^GA^30092|N|NONE|NONE|08625"
      ]
     },
     "execution_count": 121,
     "metadata": {},
     "output_type": "execute_result"
    }
   ],
   "source": [
    "t1_mrg_lst = pd.concat([t1_grp_tup, t1_seg_tup],axis=1)\n",
    "t1_mrg_lst"
   ]
  },
  {
   "cell_type": "code",
   "execution_count": 135,
   "metadata": {
    "collapsed": false
   },
   "outputs": [
    {
     "ename": "TypeError",
     "evalue": "      0                                                  0\n0   MSH  ^~\\&||ABCDE|||201507230021||ADT^A08|CAGTADM.1....\n1   EVN        A08|201507230021|||R.CA.NAH^HALL^NANCY^A^^^\n2   PID  1||V000042610|M88604|BARTON^CLINTON^FRANCIS^^^...\n3   NK1  1|POSTEN^BOBBY^^^^|OT|102 S.H.E.I.L.D Floating...\n4   NK1  2|POSTEN^BOBBY^^^^|OT|102 S.H.E.I.L.D Floating...\n5   PV1  1|E|V.ER^^|EM|||WILSON^Wade^Deadpool^^^MD|.SEL...\n6   AL1  1|DA|F000004181^tramadol HCl^From ULTRAM|MO|JE...\n7   ACC                                       20150722^|11\n8   GT1  1||BARTON^CLINTON^FRANCIS^^^||9 S.H.E.I.L.D Tr...\n9   GT1                  2||^^^^^||^^^^^^^^|||||||||||^^^^\n10  IN1  1|MDGA001||MEDICAID GA|PO BOX 5000^^MCRAE^GA^3...\n11  ZMR                 1|GH00426357~IL00806247~M000103533\n12  ZCD                            1|ETHNICITY^ETHNICITY^2\n13  ZCD                     2|Z.ADDLRACE^ADDITIONAL RACE^W\n14  ZIN             1|SP|GHP|Y|20150723|PPI||N|||||MDGA001\n15  ZCS  DIS|DISABLED^^DISABLED^GA^30092|N|NONE|NONE|08625 is not JSON serializable",
     "output_type": "error",
     "traceback": [
      "\u001b[1;31m---------------------------------------------------------------------------\u001b[0m",
      "\u001b[1;31mTypeError\u001b[0m                                 Traceback (most recent call last)",
      "\u001b[1;32m<ipython-input-135-1d07e4d7d6c3>\u001b[0m in \u001b[0;36m<module>\u001b[1;34m()\u001b[0m\n\u001b[0;32m      1\u001b[0m \u001b[1;31m# Try coverting the dataframe created from two lists to JSON\u001b[0m\u001b[1;33m\u001b[0m\u001b[1;33m\u001b[0m\u001b[0m\n\u001b[1;32m----> 2\u001b[1;33m \u001b[0masjson\u001b[0m \u001b[1;33m=\u001b[0m \u001b[0mjson\u001b[0m\u001b[1;33m.\u001b[0m\u001b[0mdumps\u001b[0m\u001b[1;33m(\u001b[0m\u001b[0mt1_mrg_lst\u001b[0m\u001b[1;33m)\u001b[0m\u001b[1;33m\u001b[0m\u001b[0m\n\u001b[0m\u001b[0;32m      3\u001b[0m \u001b[0masjson\u001b[0m\u001b[1;33m\u001b[0m\u001b[0m\n",
      "\u001b[1;32mC:\\ProgramFiles\\Anaconda230\\lib\\json\\__init__.pyc\u001b[0m in \u001b[0;36mdumps\u001b[1;34m(obj, skipkeys, ensure_ascii, check_circular, allow_nan, cls, indent, separators, encoding, default, sort_keys, **kw)\u001b[0m\n\u001b[0;32m    241\u001b[0m         \u001b[0mcls\u001b[0m \u001b[1;32mis\u001b[0m \u001b[0mNone\u001b[0m \u001b[1;32mand\u001b[0m \u001b[0mindent\u001b[0m \u001b[1;32mis\u001b[0m \u001b[0mNone\u001b[0m \u001b[1;32mand\u001b[0m \u001b[0mseparators\u001b[0m \u001b[1;32mis\u001b[0m \u001b[0mNone\u001b[0m \u001b[1;32mand\u001b[0m\u001b[1;33m\u001b[0m\u001b[0m\n\u001b[0;32m    242\u001b[0m         encoding == 'utf-8' and default is None and not sort_keys and not kw):\n\u001b[1;32m--> 243\u001b[1;33m         \u001b[1;32mreturn\u001b[0m \u001b[0m_default_encoder\u001b[0m\u001b[1;33m.\u001b[0m\u001b[0mencode\u001b[0m\u001b[1;33m(\u001b[0m\u001b[0mobj\u001b[0m\u001b[1;33m)\u001b[0m\u001b[1;33m\u001b[0m\u001b[0m\n\u001b[0m\u001b[0;32m    244\u001b[0m     \u001b[1;32mif\u001b[0m \u001b[0mcls\u001b[0m \u001b[1;32mis\u001b[0m \u001b[0mNone\u001b[0m\u001b[1;33m:\u001b[0m\u001b[1;33m\u001b[0m\u001b[0m\n\u001b[0;32m    245\u001b[0m         \u001b[0mcls\u001b[0m \u001b[1;33m=\u001b[0m \u001b[0mJSONEncoder\u001b[0m\u001b[1;33m\u001b[0m\u001b[0m\n",
      "\u001b[1;32mC:\\ProgramFiles\\Anaconda230\\lib\\json\\encoder.pyc\u001b[0m in \u001b[0;36mencode\u001b[1;34m(self, o)\u001b[0m\n\u001b[0;32m    205\u001b[0m         \u001b[1;31m# exceptions aren't as detailed.  The list call should be roughly\u001b[0m\u001b[1;33m\u001b[0m\u001b[1;33m\u001b[0m\u001b[0m\n\u001b[0;32m    206\u001b[0m         \u001b[1;31m# equivalent to the PySequence_Fast that ''.join() would do.\u001b[0m\u001b[1;33m\u001b[0m\u001b[1;33m\u001b[0m\u001b[0m\n\u001b[1;32m--> 207\u001b[1;33m         \u001b[0mchunks\u001b[0m \u001b[1;33m=\u001b[0m \u001b[0mself\u001b[0m\u001b[1;33m.\u001b[0m\u001b[0miterencode\u001b[0m\u001b[1;33m(\u001b[0m\u001b[0mo\u001b[0m\u001b[1;33m,\u001b[0m \u001b[0m_one_shot\u001b[0m\u001b[1;33m=\u001b[0m\u001b[0mTrue\u001b[0m\u001b[1;33m)\u001b[0m\u001b[1;33m\u001b[0m\u001b[0m\n\u001b[0m\u001b[0;32m    208\u001b[0m         \u001b[1;32mif\u001b[0m \u001b[1;32mnot\u001b[0m \u001b[0misinstance\u001b[0m\u001b[1;33m(\u001b[0m\u001b[0mchunks\u001b[0m\u001b[1;33m,\u001b[0m \u001b[1;33m(\u001b[0m\u001b[0mlist\u001b[0m\u001b[1;33m,\u001b[0m \u001b[0mtuple\u001b[0m\u001b[1;33m)\u001b[0m\u001b[1;33m)\u001b[0m\u001b[1;33m:\u001b[0m\u001b[1;33m\u001b[0m\u001b[0m\n\u001b[0;32m    209\u001b[0m             \u001b[0mchunks\u001b[0m \u001b[1;33m=\u001b[0m \u001b[0mlist\u001b[0m\u001b[1;33m(\u001b[0m\u001b[0mchunks\u001b[0m\u001b[1;33m)\u001b[0m\u001b[1;33m\u001b[0m\u001b[0m\n",
      "\u001b[1;32mC:\\ProgramFiles\\Anaconda230\\lib\\json\\encoder.pyc\u001b[0m in \u001b[0;36miterencode\u001b[1;34m(self, o, _one_shot)\u001b[0m\n\u001b[0;32m    268\u001b[0m                 \u001b[0mself\u001b[0m\u001b[1;33m.\u001b[0m\u001b[0mkey_separator\u001b[0m\u001b[1;33m,\u001b[0m \u001b[0mself\u001b[0m\u001b[1;33m.\u001b[0m\u001b[0mitem_separator\u001b[0m\u001b[1;33m,\u001b[0m \u001b[0mself\u001b[0m\u001b[1;33m.\u001b[0m\u001b[0msort_keys\u001b[0m\u001b[1;33m,\u001b[0m\u001b[1;33m\u001b[0m\u001b[0m\n\u001b[0;32m    269\u001b[0m                 self.skipkeys, _one_shot)\n\u001b[1;32m--> 270\u001b[1;33m         \u001b[1;32mreturn\u001b[0m \u001b[0m_iterencode\u001b[0m\u001b[1;33m(\u001b[0m\u001b[0mo\u001b[0m\u001b[1;33m,\u001b[0m \u001b[1;36m0\u001b[0m\u001b[1;33m)\u001b[0m\u001b[1;33m\u001b[0m\u001b[0m\n\u001b[0m\u001b[0;32m    271\u001b[0m \u001b[1;33m\u001b[0m\u001b[0m\n\u001b[0;32m    272\u001b[0m def _make_iterencode(markers, _default, _encoder, _indent, _floatstr,\n",
      "\u001b[1;32mC:\\ProgramFiles\\Anaconda230\\lib\\json\\encoder.pyc\u001b[0m in \u001b[0;36mdefault\u001b[1;34m(self, o)\u001b[0m\n\u001b[0;32m    182\u001b[0m \u001b[1;33m\u001b[0m\u001b[0m\n\u001b[0;32m    183\u001b[0m         \"\"\"\n\u001b[1;32m--> 184\u001b[1;33m         \u001b[1;32mraise\u001b[0m \u001b[0mTypeError\u001b[0m\u001b[1;33m(\u001b[0m\u001b[0mrepr\u001b[0m\u001b[1;33m(\u001b[0m\u001b[0mo\u001b[0m\u001b[1;33m)\u001b[0m \u001b[1;33m+\u001b[0m \u001b[1;34m\" is not JSON serializable\"\u001b[0m\u001b[1;33m)\u001b[0m\u001b[1;33m\u001b[0m\u001b[0m\n\u001b[0m\u001b[0;32m    185\u001b[0m \u001b[1;33m\u001b[0m\u001b[0m\n\u001b[0;32m    186\u001b[0m     \u001b[1;32mdef\u001b[0m \u001b[0mencode\u001b[0m\u001b[1;33m(\u001b[0m\u001b[0mself\u001b[0m\u001b[1;33m,\u001b[0m \u001b[0mo\u001b[0m\u001b[1;33m)\u001b[0m\u001b[1;33m:\u001b[0m\u001b[1;33m\u001b[0m\u001b[0m\n",
      "\u001b[1;31mTypeError\u001b[0m:       0                                                  0\n0   MSH  ^~\\&||ABCDE|||201507230021||ADT^A08|CAGTADM.1....\n1   EVN        A08|201507230021|||R.CA.NAH^HALL^NANCY^A^^^\n2   PID  1||V000042610|M88604|BARTON^CLINTON^FRANCIS^^^...\n3   NK1  1|POSTEN^BOBBY^^^^|OT|102 S.H.E.I.L.D Floating...\n4   NK1  2|POSTEN^BOBBY^^^^|OT|102 S.H.E.I.L.D Floating...\n5   PV1  1|E|V.ER^^|EM|||WILSON^Wade^Deadpool^^^MD|.SEL...\n6   AL1  1|DA|F000004181^tramadol HCl^From ULTRAM|MO|JE...\n7   ACC                                       20150722^|11\n8   GT1  1||BARTON^CLINTON^FRANCIS^^^||9 S.H.E.I.L.D Tr...\n9   GT1                  2||^^^^^||^^^^^^^^|||||||||||^^^^\n10  IN1  1|MDGA001||MEDICAID GA|PO BOX 5000^^MCRAE^GA^3...\n11  ZMR                 1|GH00426357~IL00806247~M000103533\n12  ZCD                            1|ETHNICITY^ETHNICITY^2\n13  ZCD                     2|Z.ADDLRACE^ADDITIONAL RACE^W\n14  ZIN             1|SP|GHP|Y|20150723|PPI||N|||||MDGA001\n15  ZCS  DIS|DISABLED^^DISABLED^GA^30092|N|NONE|NONE|08625 is not JSON serializable"
     ]
    }
   ],
   "source": [
    "# Try coverting the dataframe created from two lists to JSON\n",
    "asjson = json.dumps(t1_mrg_lst)\n",
    "asjson"
   ]
  },
  {
   "cell_type": "code",
   "execution_count": 136,
   "metadata": {
    "collapsed": false
   },
   "outputs": [
    {
     "ename": "TypeError",
     "evalue": "      0                                                  0\n0   MSH  ^~\\&||ABCDE|||201507230021||ADT^A08|CAGTADM.1....\n1   EVN        A08|201507230021|||R.CA.NAH^HALL^NANCY^A^^^\n2   PID  1||V000042610|M88604|BARTON^CLINTON^FRANCIS^^^...\n3   NK1  1|POSTEN^BOBBY^^^^|OT|102 S.H.E.I.L.D Floating...\n4   NK1  2|POSTEN^BOBBY^^^^|OT|102 S.H.E.I.L.D Floating...\n5   PV1  1|E|V.ER^^|EM|||WILSON^Wade^Deadpool^^^MD|.SEL...\n6   AL1  1|DA|F000004181^tramadol HCl^From ULTRAM|MO|JE...\n7   ACC                                       20150722^|11\n8   GT1  1||BARTON^CLINTON^FRANCIS^^^||9 S.H.E.I.L.D Tr...\n9   GT1                  2||^^^^^||^^^^^^^^|||||||||||^^^^\n10  IN1  1|MDGA001||MEDICAID GA|PO BOX 5000^^MCRAE^GA^3...\n11  ZMR                 1|GH00426357~IL00806247~M000103533\n12  ZCD                            1|ETHNICITY^ETHNICITY^2\n13  ZCD                     2|Z.ADDLRACE^ADDITIONAL RACE^W\n14  ZIN             1|SP|GHP|Y|20150723|PPI||N|||||MDGA001\n15  ZCS  DIS|DISABLED^^DISABLED^GA^30092|N|NONE|NONE|08625 is not JSON serializable",
     "output_type": "error",
     "traceback": [
      "\u001b[1;31m---------------------------------------------------------------------------\u001b[0m",
      "\u001b[1;31mTypeError\u001b[0m                                 Traceback (most recent call last)",
      "\u001b[1;32m<ipython-input-136-d103aea5e958>\u001b[0m in \u001b[0;36m<module>\u001b[1;34m()\u001b[0m\n\u001b[0;32m      1\u001b[0m \u001b[1;31m# Try coverting the dataframe created from two tuples to JSON\u001b[0m\u001b[1;33m\u001b[0m\u001b[1;33m\u001b[0m\u001b[0m\n\u001b[1;32m----> 2\u001b[1;33m \u001b[0masjson\u001b[0m \u001b[1;33m=\u001b[0m \u001b[0mjson\u001b[0m\u001b[1;33m.\u001b[0m\u001b[0mdumps\u001b[0m\u001b[1;33m(\u001b[0m\u001b[0mt1_mrg_tup\u001b[0m\u001b[1;33m)\u001b[0m\u001b[1;33m\u001b[0m\u001b[0m\n\u001b[0m\u001b[0;32m      3\u001b[0m \u001b[0masjson\u001b[0m\u001b[1;33m\u001b[0m\u001b[0m\n",
      "\u001b[1;32mC:\\ProgramFiles\\Anaconda230\\lib\\json\\__init__.pyc\u001b[0m in \u001b[0;36mdumps\u001b[1;34m(obj, skipkeys, ensure_ascii, check_circular, allow_nan, cls, indent, separators, encoding, default, sort_keys, **kw)\u001b[0m\n\u001b[0;32m    241\u001b[0m         \u001b[0mcls\u001b[0m \u001b[1;32mis\u001b[0m \u001b[0mNone\u001b[0m \u001b[1;32mand\u001b[0m \u001b[0mindent\u001b[0m \u001b[1;32mis\u001b[0m \u001b[0mNone\u001b[0m \u001b[1;32mand\u001b[0m \u001b[0mseparators\u001b[0m \u001b[1;32mis\u001b[0m \u001b[0mNone\u001b[0m \u001b[1;32mand\u001b[0m\u001b[1;33m\u001b[0m\u001b[0m\n\u001b[0;32m    242\u001b[0m         encoding == 'utf-8' and default is None and not sort_keys and not kw):\n\u001b[1;32m--> 243\u001b[1;33m         \u001b[1;32mreturn\u001b[0m \u001b[0m_default_encoder\u001b[0m\u001b[1;33m.\u001b[0m\u001b[0mencode\u001b[0m\u001b[1;33m(\u001b[0m\u001b[0mobj\u001b[0m\u001b[1;33m)\u001b[0m\u001b[1;33m\u001b[0m\u001b[0m\n\u001b[0m\u001b[0;32m    244\u001b[0m     \u001b[1;32mif\u001b[0m \u001b[0mcls\u001b[0m \u001b[1;32mis\u001b[0m \u001b[0mNone\u001b[0m\u001b[1;33m:\u001b[0m\u001b[1;33m\u001b[0m\u001b[0m\n\u001b[0;32m    245\u001b[0m         \u001b[0mcls\u001b[0m \u001b[1;33m=\u001b[0m \u001b[0mJSONEncoder\u001b[0m\u001b[1;33m\u001b[0m\u001b[0m\n",
      "\u001b[1;32mC:\\ProgramFiles\\Anaconda230\\lib\\json\\encoder.pyc\u001b[0m in \u001b[0;36mencode\u001b[1;34m(self, o)\u001b[0m\n\u001b[0;32m    205\u001b[0m         \u001b[1;31m# exceptions aren't as detailed.  The list call should be roughly\u001b[0m\u001b[1;33m\u001b[0m\u001b[1;33m\u001b[0m\u001b[0m\n\u001b[0;32m    206\u001b[0m         \u001b[1;31m# equivalent to the PySequence_Fast that ''.join() would do.\u001b[0m\u001b[1;33m\u001b[0m\u001b[1;33m\u001b[0m\u001b[0m\n\u001b[1;32m--> 207\u001b[1;33m         \u001b[0mchunks\u001b[0m \u001b[1;33m=\u001b[0m \u001b[0mself\u001b[0m\u001b[1;33m.\u001b[0m\u001b[0miterencode\u001b[0m\u001b[1;33m(\u001b[0m\u001b[0mo\u001b[0m\u001b[1;33m,\u001b[0m \u001b[0m_one_shot\u001b[0m\u001b[1;33m=\u001b[0m\u001b[0mTrue\u001b[0m\u001b[1;33m)\u001b[0m\u001b[1;33m\u001b[0m\u001b[0m\n\u001b[0m\u001b[0;32m    208\u001b[0m         \u001b[1;32mif\u001b[0m \u001b[1;32mnot\u001b[0m \u001b[0misinstance\u001b[0m\u001b[1;33m(\u001b[0m\u001b[0mchunks\u001b[0m\u001b[1;33m,\u001b[0m \u001b[1;33m(\u001b[0m\u001b[0mlist\u001b[0m\u001b[1;33m,\u001b[0m \u001b[0mtuple\u001b[0m\u001b[1;33m)\u001b[0m\u001b[1;33m)\u001b[0m\u001b[1;33m:\u001b[0m\u001b[1;33m\u001b[0m\u001b[0m\n\u001b[0;32m    209\u001b[0m             \u001b[0mchunks\u001b[0m \u001b[1;33m=\u001b[0m \u001b[0mlist\u001b[0m\u001b[1;33m(\u001b[0m\u001b[0mchunks\u001b[0m\u001b[1;33m)\u001b[0m\u001b[1;33m\u001b[0m\u001b[0m\n",
      "\u001b[1;32mC:\\ProgramFiles\\Anaconda230\\lib\\json\\encoder.pyc\u001b[0m in \u001b[0;36miterencode\u001b[1;34m(self, o, _one_shot)\u001b[0m\n\u001b[0;32m    268\u001b[0m                 \u001b[0mself\u001b[0m\u001b[1;33m.\u001b[0m\u001b[0mkey_separator\u001b[0m\u001b[1;33m,\u001b[0m \u001b[0mself\u001b[0m\u001b[1;33m.\u001b[0m\u001b[0mitem_separator\u001b[0m\u001b[1;33m,\u001b[0m \u001b[0mself\u001b[0m\u001b[1;33m.\u001b[0m\u001b[0msort_keys\u001b[0m\u001b[1;33m,\u001b[0m\u001b[1;33m\u001b[0m\u001b[0m\n\u001b[0;32m    269\u001b[0m                 self.skipkeys, _one_shot)\n\u001b[1;32m--> 270\u001b[1;33m         \u001b[1;32mreturn\u001b[0m \u001b[0m_iterencode\u001b[0m\u001b[1;33m(\u001b[0m\u001b[0mo\u001b[0m\u001b[1;33m,\u001b[0m \u001b[1;36m0\u001b[0m\u001b[1;33m)\u001b[0m\u001b[1;33m\u001b[0m\u001b[0m\n\u001b[0m\u001b[0;32m    271\u001b[0m \u001b[1;33m\u001b[0m\u001b[0m\n\u001b[0;32m    272\u001b[0m def _make_iterencode(markers, _default, _encoder, _indent, _floatstr,\n",
      "\u001b[1;32mC:\\ProgramFiles\\Anaconda230\\lib\\json\\encoder.pyc\u001b[0m in \u001b[0;36mdefault\u001b[1;34m(self, o)\u001b[0m\n\u001b[0;32m    182\u001b[0m \u001b[1;33m\u001b[0m\u001b[0m\n\u001b[0;32m    183\u001b[0m         \"\"\"\n\u001b[1;32m--> 184\u001b[1;33m         \u001b[1;32mraise\u001b[0m \u001b[0mTypeError\u001b[0m\u001b[1;33m(\u001b[0m\u001b[0mrepr\u001b[0m\u001b[1;33m(\u001b[0m\u001b[0mo\u001b[0m\u001b[1;33m)\u001b[0m \u001b[1;33m+\u001b[0m \u001b[1;34m\" is not JSON serializable\"\u001b[0m\u001b[1;33m)\u001b[0m\u001b[1;33m\u001b[0m\u001b[0m\n\u001b[0m\u001b[0;32m    185\u001b[0m \u001b[1;33m\u001b[0m\u001b[0m\n\u001b[0;32m    186\u001b[0m     \u001b[1;32mdef\u001b[0m \u001b[0mencode\u001b[0m\u001b[1;33m(\u001b[0m\u001b[0mself\u001b[0m\u001b[1;33m,\u001b[0m \u001b[0mo\u001b[0m\u001b[1;33m)\u001b[0m\u001b[1;33m:\u001b[0m\u001b[1;33m\u001b[0m\u001b[0m\n",
      "\u001b[1;31mTypeError\u001b[0m:       0                                                  0\n0   MSH  ^~\\&||ABCDE|||201507230021||ADT^A08|CAGTADM.1....\n1   EVN        A08|201507230021|||R.CA.NAH^HALL^NANCY^A^^^\n2   PID  1||V000042610|M88604|BARTON^CLINTON^FRANCIS^^^...\n3   NK1  1|POSTEN^BOBBY^^^^|OT|102 S.H.E.I.L.D Floating...\n4   NK1  2|POSTEN^BOBBY^^^^|OT|102 S.H.E.I.L.D Floating...\n5   PV1  1|E|V.ER^^|EM|||WILSON^Wade^Deadpool^^^MD|.SEL...\n6   AL1  1|DA|F000004181^tramadol HCl^From ULTRAM|MO|JE...\n7   ACC                                       20150722^|11\n8   GT1  1||BARTON^CLINTON^FRANCIS^^^||9 S.H.E.I.L.D Tr...\n9   GT1                  2||^^^^^||^^^^^^^^|||||||||||^^^^\n10  IN1  1|MDGA001||MEDICAID GA|PO BOX 5000^^MCRAE^GA^3...\n11  ZMR                 1|GH00426357~IL00806247~M000103533\n12  ZCD                            1|ETHNICITY^ETHNICITY^2\n13  ZCD                     2|Z.ADDLRACE^ADDITIONAL RACE^W\n14  ZIN             1|SP|GHP|Y|20150723|PPI||N|||||MDGA001\n15  ZCS  DIS|DISABLED^^DISABLED^GA^30092|N|NONE|NONE|08625 is not JSON serializable"
     ]
    }
   ],
   "source": [
    "# Try coverting the dataframe created from two tuples to JSON\n",
    "asjson = json.dumps(t1_mrg_tup)\n",
    "asjson"
   ]
  },
  {
   "cell_type": "code",
   "execution_count": null,
   "metadata": {
    "collapsed": true
   },
   "outputs": [],
   "source": []
  }
 ],
 "metadata": {
  "kernelspec": {
   "display_name": "Python 2",
   "language": "python",
   "name": "python2"
  },
  "language_info": {
   "codemirror_mode": {
    "name": "ipython",
    "version": 2
   },
   "file_extension": ".py",
   "mimetype": "text/x-python",
   "name": "python",
   "nbconvert_exporter": "python",
   "pygments_lexer": "ipython2",
   "version": "2.7.10"
  }
 },
 "nbformat": 4,
 "nbformat_minor": 0
}
